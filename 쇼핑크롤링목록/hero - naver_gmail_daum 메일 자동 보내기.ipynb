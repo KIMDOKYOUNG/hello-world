{
 "cells": [
  {
   "cell_type": "code",
   "execution_count": 1,
   "metadata": {},
   "outputs": [],
   "source": [
    "import requests # 웹 페이지 소스를 얻기 위한 패키지(기본 내장 패키지이다.)\n",
    "from bs4 import BeautifulSoup # 웹 페이지 소스를 얻기 위한 패키지, 더 간단히 얻을 수 있다는 장점이 있다고 한다.\n",
    "from datetime import datetime                                # (!pip install beautifulsoup4 으로 다운받을 수 있다.)\n",
    "import pandas as pd # 데이터를 처리하기 위한 가장 기본적인 패키지\n",
    "import time # 사이트를 불러올 때, 작업 지연시간을 지정해주기 위한 패키지이다. (사이트가 늦게 켜지면 에러가 발생하기 때문)\n",
    "import urllib.request #\n",
    "from selenium.webdriver import Chrome\n",
    "import json\n",
    "import re     \n",
    "from selenium.webdriver.chrome.options import Options\n",
    "from selenium.webdriver.common.keys import Keys\n",
    "import datetime as dt"
   ]
  },
  {
   "cell_type": "markdown",
   "metadata": {},
   "source": [
    "# 네이버를 통한 자동화"
   ]
  },
  {
   "cell_type": "code",
   "execution_count": 2,
   "metadata": {},
   "outputs": [],
   "source": [
    "base_url = 'https://mail.naver.com'"
   ]
  },
  {
   "cell_type": "code",
   "execution_count": 3,
   "metadata": {},
   "outputs": [],
   "source": [
    "browser = Chrome()"
   ]
  },
  {
   "cell_type": "code",
   "execution_count": 4,
   "metadata": {},
   "outputs": [],
   "source": [
    "browser.maximize_window()"
   ]
  },
  {
   "cell_type": "code",
   "execution_count": 5,
   "metadata": {},
   "outputs": [],
   "source": [
    "browser.get(base_url) #아이디와 비밀번호는 직접 입력해야함"
   ]
  },
  {
   "cell_type": "code",
   "execution_count": 13,
   "metadata": {},
   "outputs": [],
   "source": [
    "#메일쓰기 클릭\n",
    "browser.find_elements_by_xpath('//*[@class = \"btn_workset\"]/a[1]/strong')[0].click()"
   ]
  },
  {
   "cell_type": "code",
   "execution_count": 6,
   "metadata": {
    "scrolled": true
   },
   "outputs": [],
   "source": [
    "#수신자 이메일\n",
    "browser.find_elements_by_xpath('//*[@class = \"mInput_holder mInput_over\"]/ul/li/div/div[1]/textarea')[0].send_keys('alsdyd95@nate.com')"
   ]
  },
  {
   "cell_type": "code",
   "execution_count": 7,
   "metadata": {},
   "outputs": [],
   "source": [
    "#메일 제목\n",
    "browser.find_elements_by_xpath('//*[@class = \"sguide\"]/input')[0].send_keys('안녕하세요')"
   ]
  },
  {
   "cell_type": "code",
   "execution_count": 8,
   "metadata": {},
   "outputs": [],
   "source": [
    "#본문작성을 위한 iframe으로의 변환\n",
    "browser.switch_to_frame(browser.find_element_by_name('se2_iframe'))"
   ]
  },
  {
   "cell_type": "code",
   "execution_count": 9,
   "metadata": {},
   "outputs": [],
   "source": [
    "#본문작성위해서 본문 영역 클릭\n",
    "browser.find_elements_by_xpath('//*[@class=\"se2_inputarea\"]')[0].click()"
   ]
  },
  {
   "cell_type": "code",
   "execution_count": 10,
   "metadata": {},
   "outputs": [],
   "source": [
    "#본문작성\n",
    "browser.find_elements_by_xpath('//*[@class=\"se2_inputarea\"]')[0].send_keys('제이릅은 신민용입니다')"
   ]
  },
  {
   "cell_type": "code",
   "execution_count": 22,
   "metadata": {},
   "outputs": [],
   "source": [
    "browser.switch_to_default_content() #iframe밖으로 다시 나오는 것"
   ]
  },
  {
   "cell_type": "code",
   "execution_count": 23,
   "metadata": {},
   "outputs": [],
   "source": [
    "#보내기 버튼\n",
    "browser.find_elements_by_xpath('//*[@id = \"writeBtnMenu\"]/div[1]/button[1]')[0].click()"
   ]
  },
  {
   "cell_type": "code",
   "execution_count": 3,
   "metadata": {},
   "outputs": [],
   "source": [
    "base_url = 'https://mail.naver.com'\n",
    "browser = Chrome()\n",
    "browser.maximize_window()\n",
    "time.sleep(1.5)\n",
    "browser.get(base_url) #아이디와 비밀번호는 직접 입력해야함"
   ]
  },
  {
   "cell_type": "markdown",
   "metadata": {},
   "source": [
    "# 자동 프로그램을 사용하여 메일을 반복해서 보내게 되면 오류가 매크로 방지 프로그램이 켜짐 따라서 보낼 때 모니터링 해야할 듯"
   ]
  },
  {
   "cell_type": "code",
   "execution_count": 15,
   "metadata": {},
   "outputs": [],
   "source": [
    "for i in range(5):\n",
    "    #메일쓰기 클릭\n",
    "    browser.find_elements_by_xpath('//*[@class = \"btn_workset\"]/a[1]/strong')[0].click()\n",
    "    #수신자 이메일\n",
    "    time.sleep(1.5)\n",
    "    browser.find_elements_by_xpath('//*[@class = \"mInput_holder mInput_over\"]/ul/li/div/div[1]/textarea')[0].send_keys('alsdyd95@nate.com')\n",
    "    #메일 제목\n",
    "    browser.find_elements_by_xpath('//*[@class = \"sguide\"]/input')[0].send_keys('안녕하세요')\n",
    "    time.sleep(1.5)\n",
    "    #본문작성을 위한 iframe으로의 변환\n",
    "    browser.switch_to_frame(browser.find_element_by_name('se2_iframe'))\n",
    "    \n",
    "    #본문작성위해서 본문 영역 클릭\n",
    "    browser.find_elements_by_xpath('//*[@class=\"se2_inputarea\"]')[0].click()\n",
    "    #본문작성\n",
    "    browser.find_elements_by_xpath('//*[@class=\"se2_inputarea\"]')[0].send_keys('제이릅은 신민용입니다')\n",
    "    browser.switch_to_default_content() #iframe밖으로 다시 나오는 것\n",
    "    time.sleep(1.5)\n",
    "    #보내기 버튼\n",
    "    browser.find_elements_by_xpath('//*[@id = \"writeBtnMenu\"]/div[1]/button[1]')[0].click()\n",
    "    time.sleep(8)\n",
    "\n",
    "#거의 3개보내면 하나꼴로 자동프로그램 방지가 나옴 \n",
    "#한번 자동프로그램 방지된 것을 입력하면 더 보낼 수 있음"
   ]
  },
  {
   "cell_type": "code",
   "execution_count": null,
   "metadata": {},
   "outputs": [],
   "source": []
  },
  {
   "cell_type": "markdown",
   "metadata": {},
   "source": [
    "# gmail을 통한 자동화"
   ]
  },
  {
   "cell_type": "code",
   "execution_count": 3,
   "metadata": {},
   "outputs": [],
   "source": [
    "base_url = 'https://mail.google.com/mail/u/0/?tab=rm#inbox'"
   ]
  },
  {
   "cell_type": "code",
   "execution_count": 4,
   "metadata": {},
   "outputs": [],
   "source": [
    "browser = Chrome()\n",
    "browser.maximize_window()\n",
    "time.sleep(1.5)\n",
    "browser.get(base_url) #아이디와 비밀번호는 직접 입력해야함"
   ]
  },
  {
   "cell_type": "code",
   "execution_count": 5,
   "metadata": {},
   "outputs": [],
   "source": [
    "browser.find_elements_by_xpath('//*[@class=\"T-I J-J5-Ji T-I-KE L3\"]')[0].click()"
   ]
  },
  {
   "cell_type": "code",
   "execution_count": 84,
   "metadata": {},
   "outputs": [],
   "source": [
    "#너무 복잡하게 돌아갔음....\n",
    "#browser.find_elements_by_xpath('//*[@class=\"nH Hd\"]/div[3]/div/div/div[4]/table/tbody/tr/td[2]/form/div[1]/table/tbody/tr[1]/td[2]/div/div/textarea')[0].send_keys('alsdyd95@nate.com')"
   ]
  },
  {
   "cell_type": "code",
   "execution_count": 6,
   "metadata": {},
   "outputs": [],
   "source": [
    "#수신자 이메일 입력\n",
    "browser.find_elements_by_xpath('//textarea[@aria-label = \"받는사람\"]')[0].send_keys('alsdyd95@nate.com')"
   ]
  },
  {
   "cell_type": "code",
   "execution_count": 7,
   "metadata": {},
   "outputs": [],
   "source": [
    "#수신자 이메일 친 뒤 엔터\n",
    "browser.find_elements_by_xpath('//textarea[@aria-label = \"받는사람\"]')[0].send_keys(Keys.RETURN)"
   ]
  },
  {
   "cell_type": "code",
   "execution_count": 123,
   "metadata": {},
   "outputs": [],
   "source": [
    "#제목 영역 클릭- 코드에 산입 안해도 될듯\n",
    "#browser.find_elements_by_xpath('//div[@class=\"aoD az6\"]')[0].click()"
   ]
  },
  {
   "cell_type": "code",
   "execution_count": 8,
   "metadata": {},
   "outputs": [],
   "source": [
    "#제목 영역에 텍스트 삽입\n",
    "browser.find_elements_by_xpath('//div[@class=\"aoD az6\"]/div/input')[0].send_keys('테스트메일입니다')"
   ]
  },
  {
   "cell_type": "code",
   "execution_count": 118,
   "metadata": {},
   "outputs": [],
   "source": [
    "#본문 영역 클릭 - 코드에 산입 안해도 될듯\n",
    "#browser.find_elements_by_xpath('//*[@class=\"nH Hd\"]/div[3]/div/div/div[4]/table/tbody/tr/td[2]/table/tbody/tr[1]')[0].click()"
   ]
  },
  {
   "cell_type": "code",
   "execution_count": 9,
   "metadata": {},
   "outputs": [],
   "source": [
    "#본문 영역에 텍스트 삽입\n",
    "browser.find_elements_by_xpath('//div[@aria-label=\"메일 본문\"]')[0].send_keys('안녕하세요 테스트 메세지 보냅니다안녕하세요 테스트 메세지 보냅니다안녕하세요 테스트 메세지 보냅니다안녕하세요 테스트 메세지 보냅니다안녕하세요 테스트 메세지 보냅니다안녕하세요 테스트 메세지 보냅니다안녕하세요 테스트 메세지 보냅니다안녕하세요 테스트 메세지 보냅니다안녕하세요 테스트 메세지 보냅니다안녕하세요 테스트 메세지 보냅니다안녕하세요 테스트 메세지 보냅니다안녕하세요 테스트 메세지 보냅니다안녕하세요 테스트 메세지 보냅니다, 아마 보내는 텍스트 양이 많겟죠? 아마 보내는 텍스트 양이 많겟죠? 아마 보내는 텍스트 양이 많겟죠? 아마 보내는 텍스트 양이 많겟죠? 아마 보내는 텍스트 양이 많겟죠? 아마 보내는 텍스트 양이 많겟죠? 아마 보내는 텍스트 양이 많겟죠? 아마 보내는 텍스트 양이 많겟죠? 아마 보내는 텍스트 양이 많겟죠? 아마 보내는 텍스트 양이 많겟죠? 아마 보내는 텍스트 양이 많겟죠? 아마 보내는 텍스트 양이 많겟죠?')"
   ]
  },
  {
   "cell_type": "code",
   "execution_count": 200,
   "metadata": {},
   "outputs": [],
   "source": [
    "time.sleep(12)"
   ]
  },
  {
   "cell_type": "code",
   "execution_count": 10,
   "metadata": {},
   "outputs": [],
   "source": [
    "browser.find_elements_by_xpath('//td[@class=\"gU Up\"]/div/div[2]/div[1]')[0].click()"
   ]
  },
  {
   "cell_type": "code",
   "execution_count": 189,
   "metadata": {
    "collapsed": true
   },
   "outputs": [
    {
     "ename": "IndexError",
     "evalue": "list index out of range",
     "output_type": "error",
     "traceback": [
      "\u001b[1;31m---------------------------------------------------------------------------\u001b[0m",
      "\u001b[1;31mIndexError\u001b[0m                                Traceback (most recent call last)",
      "\u001b[1;32m<ipython-input-189-22b52e10f4e5>\u001b[0m in \u001b[0;36m<module>\u001b[1;34m()\u001b[0m\n\u001b[0;32m      1\u001b[0m \u001b[1;31m#메일을 보냈다는 확인메세지 없애기\u001b[0m\u001b[1;33m\u001b[0m\u001b[1;33m\u001b[0m\u001b[0m\n\u001b[1;32m----> 2\u001b[1;33m \u001b[0mbrowser\u001b[0m\u001b[1;33m.\u001b[0m\u001b[0mfind_elements_by_xpath\u001b[0m\u001b[1;33m(\u001b[0m\u001b[1;34m'//div[@class=\"vh aL\"]/div'\u001b[0m\u001b[1;33m)\u001b[0m\u001b[1;33m[\u001b[0m\u001b[1;36m0\u001b[0m\u001b[1;33m]\u001b[0m\u001b[1;33m.\u001b[0m\u001b[0mclick\u001b[0m\u001b[1;33m(\u001b[0m\u001b[1;33m)\u001b[0m\u001b[1;33m\u001b[0m\u001b[0m\n\u001b[0m",
      "\u001b[1;31mIndexError\u001b[0m: list index out of range"
     ]
    }
   ],
   "source": [
    "#메일을 보냈다는 확인메세지 없애기 - 보류 (만일 이슈화가 된다면 그때 사용)\n",
    "browser.find_elements_by_xpath('//div[@class=\"vh aL\"]/div')[0].click()"
   ]
  },
  {
   "cell_type": "markdown",
   "metadata": {},
   "source": [
    "# 지메일 자동 발송"
   ]
  },
  {
   "cell_type": "code",
   "execution_count": 11,
   "metadata": {},
   "outputs": [],
   "source": [
    "#구글 메일은 네이버와는 다르게 자동 프로그램 규제가 없음 그래도 모니터링은 필요\n",
    "for i in range(5):\n",
    "    browser.find_elements_by_xpath('//*[@class=\"T-I J-J5-Ji T-I-KE L3\"]')[0].click()\n",
    "    #수신자 이메일 입력\n",
    "    browser.find_elements_by_xpath('//textarea[@aria-label = \"받는사람\"]')[0].send_keys('alsdyd95@nate.com')\n",
    "    time.sleep(1.5)\n",
    "    #수신자 이메일 친 뒤 엔터\n",
    "    browser.find_elements_by_xpath('//textarea[@aria-label = \"받는사람\"]')[0].send_keys(Keys.RETURN)\n",
    "    \n",
    "    #제목 영역에 텍스트 삽입\n",
    "    browser.find_elements_by_xpath('//div[@class=\"aoD az6\"]/div/input')[0].send_keys('테스트메일입니다')\n",
    "    time.sleep(1.5)\n",
    "    \n",
    "    #본문 영역에 텍스트 삽입\n",
    "    browser.find_elements_by_xpath('//div[@aria-label=\"메일 본문\"]')[0].send_keys('안녕하세요 테스트 메세지 보냅니다안녕하세요 테스트 메세지 보냅니다안녕하세요 테스트 메세지 보냅니다안녕하세요 테스트 메세지 보냅니다안녕하세요 테스트 메세지 보냅니다안녕하세요 테스트 메세지 보냅니다안녕하세요 테스트 메세지 보냅니다안녕하세요 테스트 메세지 보냅니다안녕하세요 테스트 메세지 보냅니다안녕하세요 테스트 메세지 보냅니다안녕하세요 테스트 메세지 보냅니다안녕하세요 테스트 메세지 보냅니다안녕하세요 테스트 메세지 보냅니다, 아마 보내는 텍스트 양이 많겟죠? 아마 보내는 텍스트 양이 많겟죠? 아마 보내는 텍스트 양이 많겟죠? 아마 보내는 텍스트 양이 많겟죠? 아마 보내는 텍스트 양이 많겟죠? 아마 보내는 텍스트 양이 많겟죠? 아마 보내는 텍스트 양이 많겟죠? 아마 보내는 텍스트 양이 많겟죠? 아마 보내는 텍스트 양이 많겟죠? 아마 보내는 텍스트 양이 많겟죠? 아마 보내는 텍스트 양이 많겟죠? 아마 보내는 텍스트 양이 많겟죠?')\n",
    "    \n",
    "    time.sleep(1)\n",
    "    \n",
    "    browser.find_elements_by_xpath('//td[@class=\"gU Up\"]/div/div[2]/div[1]')[0].click()\n",
    "    time.sleep(1.5)"
   ]
  },
  {
   "cell_type": "code",
   "execution_count": null,
   "metadata": {},
   "outputs": [],
   "source": []
  },
  {
   "cell_type": "markdown",
   "metadata": {},
   "source": [
    "# daum 자동 메일 발송"
   ]
  },
  {
   "cell_type": "code",
   "execution_count": 208,
   "metadata": {},
   "outputs": [],
   "source": [
    "base_url = 'https://mail.daum.net'"
   ]
  },
  {
   "cell_type": "code",
   "execution_count": 209,
   "metadata": {},
   "outputs": [],
   "source": [
    "browser = Chrome()\n",
    "browser.maximize_window()\n",
    "time.sleep(1.5)\n",
    "browser.get(base_url) #아이디와 비밀번호는 직접 입력해야함"
   ]
  },
  {
   "cell_type": "code",
   "execution_count": 262,
   "metadata": {},
   "outputs": [],
   "source": [
    "browser.find_elements_by_xpath('//*[@class=\"write_mail\"]/button[1]')[0].click()"
   ]
  },
  {
   "cell_type": "code",
   "execution_count": 231,
   "metadata": {},
   "outputs": [],
   "source": [
    "#받는 사람 영역 클릭 - 클릭하지 않아도 됨\n",
    "browser.find_elements_by_xpath('//*[@class=\"desc_write connectedSortable ui-sortable\"]/div[2]/textarea')[0].click()"
   ]
  },
  {
   "cell_type": "code",
   "execution_count": 263,
   "metadata": {},
   "outputs": [],
   "source": [
    "#받는 사람 입력\n",
    "browser.find_elements_by_xpath('//*[@class=\"desc_write connectedSortable ui-sortable\"]/div[2]/textarea')[0].send_keys('gyejr95@naver.com')"
   ]
  },
  {
   "cell_type": "code",
   "execution_count": 264,
   "metadata": {},
   "outputs": [],
   "source": [
    "#받는 사람 입력 - 엔터\n",
    "browser.find_elements_by_xpath('//*[@class=\"desc_write connectedSortable ui-sortable\"]/div[2]/textarea')[0].send_keys(Keys.RETURN)"
   ]
  },
  {
   "cell_type": "code",
   "execution_count": 250,
   "metadata": {},
   "outputs": [],
   "source": [
    "#메일 제목 영역 클릭 -클릭하지 않아도 됨\n",
    "browser.find_elements_by_xpath('//*[@class=\"desc_subject\"]/div/input')[0].click()"
   ]
  },
  {
   "cell_type": "code",
   "execution_count": 265,
   "metadata": {},
   "outputs": [],
   "source": [
    "#메일 제목 영역 텍스트 삽입\n",
    "browser.find_elements_by_xpath('//*[@class=\"desc_subject\"]/div/input')[0].send_keys('test메일입니다')"
   ]
  },
  {
   "cell_type": "code",
   "execution_count": 267,
   "metadata": {},
   "outputs": [],
   "source": [
    "browser.switch_to_frame(browser.find_element_by_name('tx_canvas_wysiwyg'))"
   ]
  },
  {
   "cell_type": "code",
   "execution_count": 257,
   "metadata": {},
   "outputs": [],
   "source": [
    "browser.find_elements_by_xpath('//*[@class=\"tx-content-container\"]')[0].click()"
   ]
  },
  {
   "cell_type": "code",
   "execution_count": 268,
   "metadata": {},
   "outputs": [],
   "source": [
    "browser.find_elements_by_xpath('//*[@class=\"tx-content-container\"]')[0].send_keys('테스트 파일입니다테스트 파일입니다테스트 파일입니다테스트 파일입니다테스트 파일입니다테스트 파일입니다')"
   ]
  },
  {
   "cell_type": "code",
   "execution_count": 269,
   "metadata": {},
   "outputs": [],
   "source": [
    "browser.switch_to_default_content()"
   ]
  },
  {
   "cell_type": "code",
   "execution_count": 270,
   "metadata": {},
   "outputs": [],
   "source": [
    "browser.find_elements_by_xpath('//*[@class=\"btn_toolbar btn_write\"]')[0].click()"
   ]
  },
  {
   "cell_type": "markdown",
   "metadata": {},
   "source": [
    "## 다음 메일 자동 발송"
   ]
  },
  {
   "cell_type": "code",
   "execution_count": 271,
   "metadata": {},
   "outputs": [],
   "source": [
    "#자동 프로그램 방지하지 않음\n",
    "#but 종종 모니터링이 필요\n",
    "for i in range(10):\n",
    "    browser.find_elements_by_xpath('//*[@class=\"write_mail\"]/button[1]')[0].click()\n",
    "    time.sleep(1.5)\n",
    "    #받는 사람 입력\n",
    "    browser.find_elements_by_xpath('//*[@class=\"desc_write connectedSortable ui-sortable\"]/div[2]/textarea')[0].send_keys('gyejr95@naver.com')\n",
    "    #받는 사람 입력 - 엔터\n",
    "    browser.find_elements_by_xpath('//*[@class=\"desc_write connectedSortable ui-sortable\"]/div[2]/textarea')[0].send_keys(Keys.RETURN)\n",
    "    \n",
    "    #메일 제목 영역 텍스트 삽입\n",
    "    browser.find_elements_by_xpath('//*[@class=\"desc_subject\"]/div/input')[0].send_keys('test메일입니다')\n",
    "    \n",
    "    time.sleep(1.5)\n",
    "    browser.switch_to_frame(browser.find_element_by_name('tx_canvas_wysiwyg'))\n",
    "    \n",
    "    browser.find_elements_by_xpath('//*[@class=\"tx-content-container\"]')[0].send_keys('테스트 파일입니다테스트 파일입니다테스트 파일입니다테스트 파일입니다테스트 파일입니다테스트 파일입니다')\n",
    "    \n",
    "    time.sleep(1.5)\n",
    "    browser.switch_to_default_content()\n",
    "    \n",
    "    browser.find_elements_by_xpath('//*[@class=\"btn_toolbar btn_write\"]')[0].click()\n",
    "    time.sleep(2)"
   ]
  },
  {
   "cell_type": "code",
   "execution_count": null,
   "metadata": {},
   "outputs": [],
   "source": []
  },
  {
   "cell_type": "code",
   "execution_count": null,
   "metadata": {},
   "outputs": [],
   "source": []
  },
  {
   "cell_type": "code",
   "execution_count": null,
   "metadata": {},
   "outputs": [],
   "source": []
  },
  {
   "cell_type": "code",
   "execution_count": null,
   "metadata": {},
   "outputs": [],
   "source": []
  }
 ],
 "metadata": {
  "kernelspec": {
   "display_name": "Python 3",
   "language": "python",
   "name": "python3"
  },
  "language_info": {
   "codemirror_mode": {
    "name": "ipython",
    "version": 3
   },
   "file_extension": ".py",
   "mimetype": "text/x-python",
   "name": "python",
   "nbconvert_exporter": "python",
   "pygments_lexer": "ipython3",
   "version": "3.6.5"
  }
 },
 "nbformat": 4,
 "nbformat_minor": 2
}
