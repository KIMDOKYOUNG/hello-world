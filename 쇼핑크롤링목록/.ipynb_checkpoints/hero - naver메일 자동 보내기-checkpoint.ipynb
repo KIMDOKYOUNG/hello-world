{
 "cells": [
  {
   "cell_type": "code",
   "execution_count": 1,
   "metadata": {},
   "outputs": [],
   "source": [
    "import requests # 웹 페이지 소스를 얻기 위한 패키지(기본 내장 패키지이다.)\n",
    "from bs4 import BeautifulSoup # 웹 페이지 소스를 얻기 위한 패키지, 더 간단히 얻을 수 있다는 장점이 있다고 한다.\n",
    "from datetime import datetime                                # (!pip install beautifulsoup4 으로 다운받을 수 있다.)\n",
    "import pandas as pd # 데이터를 처리하기 위한 가장 기본적인 패키지\n",
    "import time # 사이트를 불러올 때, 작업 지연시간을 지정해주기 위한 패키지이다. (사이트가 늦게 켜지면 에러가 발생하기 때문)\n",
    "import urllib.request #\n",
    "from selenium.webdriver import Chrome\n",
    "import json\n",
    "import re     \n",
    "from selenium.webdriver.chrome.options import Options\n",
    "from selenium.webdriver.common.keys import Keys\n",
    "import datetime as dt"
   ]
  },
  {
   "cell_type": "code",
   "execution_count": 2,
   "metadata": {},
   "outputs": [],
   "source": [
    "base_url = 'https://mail.naver.com'"
   ]
  },
  {
   "cell_type": "code",
   "execution_count": 3,
   "metadata": {},
   "outputs": [],
   "source": [
    "browser = Chrome()"
   ]
  },
  {
   "cell_type": "code",
   "execution_count": 4,
   "metadata": {},
   "outputs": [],
   "source": [
    "browser.maximize_window()"
   ]
  },
  {
   "cell_type": "code",
   "execution_count": 5,
   "metadata": {},
   "outputs": [],
   "source": [
    "browser.get(base_url) #아이디와 비밀번호는 직접 입력해야함"
   ]
  },
  {
   "cell_type": "code",
   "execution_count": 13,
   "metadata": {},
   "outputs": [],
   "source": [
    "#메일쓰기 클릭\n",
    "browser.find_elements_by_xpath('//*[@class = \"btn_workset\"]/a[1]/strong')[0].click()"
   ]
  },
  {
   "cell_type": "code",
   "execution_count": 6,
   "metadata": {
    "scrolled": true
   },
   "outputs": [],
   "source": [
    "#수신자 이메일\n",
    "browser.find_elements_by_xpath('//*[@class = \"mInput_holder mInput_over\"]/ul/li/div/div[1]/textarea')[0].send_keys('alsdyd95@nate.com')"
   ]
  },
  {
   "cell_type": "code",
   "execution_count": 7,
   "metadata": {},
   "outputs": [],
   "source": [
    "#메일 제목\n",
    "browser.find_elements_by_xpath('//*[@class = \"sguide\"]/input')[0].send_keys('안녕하세요')"
   ]
  },
  {
   "cell_type": "code",
   "execution_count": 19,
   "metadata": {},
   "outputs": [],
   "source": [
    "#본문작성을 위한 iframe으로의 변환\n",
    "browser.switch_to_frame(browser.find_element_by_name('se2_iframe'))"
   ]
  },
  {
   "cell_type": "code",
   "execution_count": 20,
   "metadata": {},
   "outputs": [],
   "source": [
    "#본문작성위해서 본문 영역 클릭\n",
    "browser.find_elements_by_xpath('//*[@class=\"se2_inputarea\"]')[0].click()"
   ]
  },
  {
   "cell_type": "code",
   "execution_count": 21,
   "metadata": {},
   "outputs": [],
   "source": [
    "#본문작성\n",
    "browser.find_elements_by_xpath('//*[@class=\"se2_inputarea\"]')[0].send_keys('제이릅은 신민용입니다')"
   ]
  },
  {
   "cell_type": "code",
   "execution_count": 22,
   "metadata": {},
   "outputs": [],
   "source": [
    "browser.switch_to_default_content() #iframe밖으로 다시 나오는 것"
   ]
  },
  {
   "cell_type": "code",
   "execution_count": 23,
   "metadata": {},
   "outputs": [],
   "source": [
    "#보내기 버튼\n",
    "browser.find_elements_by_xpath('//*[@id = \"writeBtnMenu\"]/div[1]/button[1]')[0].click()"
   ]
  },
  {
   "cell_type": "code",
   "execution_count": 3,
   "metadata": {},
   "outputs": [],
   "source": [
    "base_url = 'https://mail.naver.com'\n",
    "browser = Chrome()\n",
    "browser.maximize_window()\n",
    "time.sleep(1.5)\n",
    "browser.get(base_url) #아이디와 비밀번호는 직접 입력해야함"
   ]
  },
  {
   "cell_type": "markdown",
   "metadata": {},
   "source": [
    "# 자동 프로그램을 사용하여 메일을 반복해서 보내게 되면 오류가 매크로 방지 프로그램이 켜짐 따라서 보낼 때 모니터링 해야할 듯"
   ]
  },
  {
   "cell_type": "code",
   "execution_count": 17,
   "metadata": {},
   "outputs": [
    {
     "ename": "NameError",
     "evalue": "name 'br233owser' is not defined",
     "output_type": "error",
     "traceback": [
      "\u001b[1;31m---------------------------------------------------------------------------\u001b[0m",
      "\u001b[1;31mNameError\u001b[0m                                 Traceback (most recent call last)",
      "\u001b[1;32m<ipython-input-17-94b39fe73cbc>\u001b[0m in \u001b[0;36m<module>\u001b[1;34m()\u001b[0m\n\u001b[0;32m      9\u001b[0m \u001b[1;33m\u001b[0m\u001b[0m\n\u001b[0;32m     10\u001b[0m     \u001b[1;31m#본문작성을 위한 iframe으로의 변환\u001b[0m\u001b[1;33m\u001b[0m\u001b[1;33m\u001b[0m\u001b[0m\n\u001b[1;32m---> 11\u001b[1;33m     \u001b[0mbrowser\u001b[0m\u001b[1;33m.\u001b[0m\u001b[0mswitch_to_frame\u001b[0m\u001b[1;33m(\u001b[0m\u001b[0mbr233owser\u001b[0m\u001b[1;33m.\u001b[0m\u001b[0mfind_element_by_name\u001b[0m\u001b[1;33m(\u001b[0m\u001b[1;34m'se2_iframe'\u001b[0m\u001b[1;33m)\u001b[0m\u001b[1;33m)\u001b[0m\u001b[1;33m\u001b[0m\u001b[0m\n\u001b[0m\u001b[0;32m     12\u001b[0m \u001b[1;33m\u001b[0m\u001b[0m\n\u001b[0;32m     13\u001b[0m     \u001b[1;31m#본문작성위해서 본문 영역 클릭\u001b[0m\u001b[1;33m\u001b[0m\u001b[1;33m\u001b[0m\u001b[0m\n",
      "\u001b[1;31mNameError\u001b[0m: name 'br233owser' is not defined"
     ]
    }
   ],
   "source": [
    "for i in range(5):\n",
    "    #메일쓰기 클릭\n",
    "    browser.find_elements_by_xpath('//*[@class = \"btn_workset\"]/a[1]/strong')[0].click()\n",
    "    #수신자 이메일\n",
    "    time.sleep(1.5)\n",
    "    browser.find_elements_by_xpath('//*[@class = \"mInput_holder mInput_over\"]/ul/li/div/div[1]/textarea')[0].send_keys('alsdyd95@nate.com')\n",
    "    #메일 제목\n",
    "    browser.find_elements_by_xpath('//*[@class = \"sguide\"]/input')[0].send_keys('안녕하세요')\n",
    "    \n",
    "    #본문작성을 위한 iframe으로의 변환\n",
    "    browser.switch_to_frame(br233owser.find_element_by_name('se2_iframe'))\n",
    "    \n",
    "    #본문작성위해서 본문 영역 클릭\n",
    "    browser.find_elements_by_xpath('//*[@class=\"se2_inputarea\"]')[0].click()\n",
    "    #본문작성\n",
    "    browser.find_elements_by_xpath('//*[@class=\"se2_inputarea\"]')[0].send_keys('제이릅은 신민용입니다')\n",
    "    browser.switch_to_default_content() #iframe밖으로 다시 나오는 것\n",
    "    time.sleep(1.5)\n",
    "    #보내기 버튼\n",
    "    browser.find_elements_by_xpath('//*[@id = \"writeBtnMenu\"]/div[1]/button[1]')[0].click()\n",
    "    time.sleep(2)\n"
   ]
  },
  {
   "cell_type": "code",
   "execution_count": null,
   "metadata": {},
   "outputs": [],
   "source": []
  }
 ],
 "metadata": {
  "kernelspec": {
   "display_name": "Python 3",
   "language": "python",
   "name": "python3"
  },
  "language_info": {
   "codemirror_mode": {
    "name": "ipython",
    "version": 3
   },
   "file_extension": ".py",
   "mimetype": "text/x-python",
   "name": "python",
   "nbconvert_exporter": "python",
   "pygments_lexer": "ipython3",
   "version": "3.6.5"
  }
 },
 "nbformat": 4,
 "nbformat_minor": 2
}
