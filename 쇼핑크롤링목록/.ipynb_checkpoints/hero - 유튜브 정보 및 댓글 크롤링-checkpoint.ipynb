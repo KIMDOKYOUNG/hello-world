{
 "cells": [
  {
   "cell_type": "code",
   "execution_count": 1,
   "metadata": {},
   "outputs": [],
   "source": [
    "import requests # 웹 페이지 소스를 얻기 위한 패키지(기본 내장 패키지이다.)\n",
    "from bs4 import BeautifulSoup # 웹 페이지 소스를 얻기 위한 패키지, 더 간단히 얻을 수 있다는 장점이 있다고 한다.\n",
    "from datetime import datetime                                # (!pip install beautifulsoup4 으로 다운받을 수 있다.)\n",
    "import pandas as pd # 데이터를 처리하기 위한 가장 기본적인 패키지\n",
    "import time # 사이트를 불러올 때, 작업 지연시간을 지정해주기 위한 패키지이다. (사이트가 늦게 켜지면 에러가 발생하기 때문)\n",
    "import urllib.request #\n",
    "from selenium.webdriver import Chrome\n",
    "import json\n",
    "import re     "
   ]
  },
  {
   "cell_type": "code",
   "execution_count": 2,
   "metadata": {},
   "outputs": [],
   "source": [
    "import time"
   ]
  },
  {
   "cell_type": "code",
   "execution_count": 3,
   "metadata": {},
   "outputs": [],
   "source": [
    "start_url = 'https://www.youtube.com/channel/UC9kmlDcqksaOnCkC_qzGacA/featured'\n",
    "#videos"
   ]
  },
  {
   "cell_type": "code",
   "execution_count": 4,
   "metadata": {},
   "outputs": [],
   "source": [
    "delay = 3"
   ]
  },
  {
   "cell_type": "code",
   "execution_count": 6,
   "metadata": {},
   "outputs": [],
   "source": [
    "browser = Chrome()\n",
    "browser.implicitly_wait(delay)"
   ]
  },
  {
   "cell_type": "code",
   "execution_count": 7,
   "metadata": {},
   "outputs": [],
   "source": [
    "browser.get(start_url)  "
   ]
  },
  {
   "cell_type": "code",
   "execution_count": 8,
   "metadata": {
    "collapsed": true
   },
   "outputs": [
    {
     "ename": "NoSuchElementException",
     "evalue": "Message: no such element: Unable to locate element: {\"method\":\"xpath\",\"selector\":\"//*[@class=\"style-scope ytd-c4-tabbed-header-renderer\"]/div[text()=\"동영상\"]\"}\n  (Session info: chrome=73.0.3683.86)\n  (Driver info: chromedriver=2.38.552522 (437e6fbedfa8762dec75e2c5b3ddb86763dc9dcb),platform=Windows NT 10.0.17134 x86_64)\n",
     "output_type": "error",
     "traceback": [
      "\u001b[1;31m---------------------------------------------------------------------------\u001b[0m",
      "\u001b[1;31mNoSuchElementException\u001b[0m                    Traceback (most recent call last)",
      "\u001b[1;32m<ipython-input-8-5e0e9b1b8bf3>\u001b[0m in \u001b[0;36m<module>\u001b[1;34m()\u001b[0m\n\u001b[1;32m----> 1\u001b[1;33m \u001b[0mbrowser\u001b[0m\u001b[1;33m.\u001b[0m\u001b[0mfind_element_by_xpath\u001b[0m\u001b[1;33m(\u001b[0m\u001b[1;34m'//*[@class=\"style-scope ytd-c4-tabbed-header-renderer\"]/div[text()=\"동영상\"]'\u001b[0m\u001b[1;33m)\u001b[0m\u001b[1;33m.\u001b[0m\u001b[0mclick\u001b[0m\u001b[1;33m(\u001b[0m\u001b[1;33m)\u001b[0m\u001b[1;33m\u001b[0m\u001b[0m\n\u001b[0m\u001b[0;32m      2\u001b[0m \u001b[1;31m#현재 text로 클릭이 안되는 이유는 text의 공백부분이 너무 많이 때문에 클릭하기 위해선 밑의 코드를 따른다\u001b[0m\u001b[1;33m\u001b[0m\u001b[1;33m\u001b[0m\u001b[0m\n",
      "\u001b[1;32m~\\Anaconda3\\lib\\site-packages\\selenium\\webdriver\\remote\\webdriver.py\u001b[0m in \u001b[0;36mfind_element_by_xpath\u001b[1;34m(self, xpath)\u001b[0m\n\u001b[0;32m    391\u001b[0m             \u001b[0melement\u001b[0m \u001b[1;33m=\u001b[0m \u001b[0mdriver\u001b[0m\u001b[1;33m.\u001b[0m\u001b[0mfind_element_by_xpath\u001b[0m\u001b[1;33m(\u001b[0m\u001b[1;34m'//div/td[1]'\u001b[0m\u001b[1;33m)\u001b[0m\u001b[1;33m\u001b[0m\u001b[0m\n\u001b[0;32m    392\u001b[0m         \"\"\"\n\u001b[1;32m--> 393\u001b[1;33m         \u001b[1;32mreturn\u001b[0m \u001b[0mself\u001b[0m\u001b[1;33m.\u001b[0m\u001b[0mfind_element\u001b[0m\u001b[1;33m(\u001b[0m\u001b[0mby\u001b[0m\u001b[1;33m=\u001b[0m\u001b[0mBy\u001b[0m\u001b[1;33m.\u001b[0m\u001b[0mXPATH\u001b[0m\u001b[1;33m,\u001b[0m \u001b[0mvalue\u001b[0m\u001b[1;33m=\u001b[0m\u001b[0mxpath\u001b[0m\u001b[1;33m)\u001b[0m\u001b[1;33m\u001b[0m\u001b[0m\n\u001b[0m\u001b[0;32m    394\u001b[0m \u001b[1;33m\u001b[0m\u001b[0m\n\u001b[0;32m    395\u001b[0m     \u001b[1;32mdef\u001b[0m \u001b[0mfind_elements_by_xpath\u001b[0m\u001b[1;33m(\u001b[0m\u001b[0mself\u001b[0m\u001b[1;33m,\u001b[0m \u001b[0mxpath\u001b[0m\u001b[1;33m)\u001b[0m\u001b[1;33m:\u001b[0m\u001b[1;33m\u001b[0m\u001b[0m\n",
      "\u001b[1;32m~\\Anaconda3\\lib\\site-packages\\selenium\\webdriver\\remote\\webdriver.py\u001b[0m in \u001b[0;36mfind_element\u001b[1;34m(self, by, value)\u001b[0m\n\u001b[0;32m    964\u001b[0m         return self.execute(Command.FIND_ELEMENT, {\n\u001b[0;32m    965\u001b[0m             \u001b[1;34m'using'\u001b[0m\u001b[1;33m:\u001b[0m \u001b[0mby\u001b[0m\u001b[1;33m,\u001b[0m\u001b[1;33m\u001b[0m\u001b[0m\n\u001b[1;32m--> 966\u001b[1;33m             'value': value})['value']\n\u001b[0m\u001b[0;32m    967\u001b[0m \u001b[1;33m\u001b[0m\u001b[0m\n\u001b[0;32m    968\u001b[0m     \u001b[1;32mdef\u001b[0m \u001b[0mfind_elements\u001b[0m\u001b[1;33m(\u001b[0m\u001b[0mself\u001b[0m\u001b[1;33m,\u001b[0m \u001b[0mby\u001b[0m\u001b[1;33m=\u001b[0m\u001b[0mBy\u001b[0m\u001b[1;33m.\u001b[0m\u001b[0mID\u001b[0m\u001b[1;33m,\u001b[0m \u001b[0mvalue\u001b[0m\u001b[1;33m=\u001b[0m\u001b[1;32mNone\u001b[0m\u001b[1;33m)\u001b[0m\u001b[1;33m:\u001b[0m\u001b[1;33m\u001b[0m\u001b[0m\n",
      "\u001b[1;32m~\\Anaconda3\\lib\\site-packages\\selenium\\webdriver\\remote\\webdriver.py\u001b[0m in \u001b[0;36mexecute\u001b[1;34m(self, driver_command, params)\u001b[0m\n\u001b[0;32m    318\u001b[0m         \u001b[0mresponse\u001b[0m \u001b[1;33m=\u001b[0m \u001b[0mself\u001b[0m\u001b[1;33m.\u001b[0m\u001b[0mcommand_executor\u001b[0m\u001b[1;33m.\u001b[0m\u001b[0mexecute\u001b[0m\u001b[1;33m(\u001b[0m\u001b[0mdriver_command\u001b[0m\u001b[1;33m,\u001b[0m \u001b[0mparams\u001b[0m\u001b[1;33m)\u001b[0m\u001b[1;33m\u001b[0m\u001b[0m\n\u001b[0;32m    319\u001b[0m         \u001b[1;32mif\u001b[0m \u001b[0mresponse\u001b[0m\u001b[1;33m:\u001b[0m\u001b[1;33m\u001b[0m\u001b[0m\n\u001b[1;32m--> 320\u001b[1;33m             \u001b[0mself\u001b[0m\u001b[1;33m.\u001b[0m\u001b[0merror_handler\u001b[0m\u001b[1;33m.\u001b[0m\u001b[0mcheck_response\u001b[0m\u001b[1;33m(\u001b[0m\u001b[0mresponse\u001b[0m\u001b[1;33m)\u001b[0m\u001b[1;33m\u001b[0m\u001b[0m\n\u001b[0m\u001b[0;32m    321\u001b[0m             response['value'] = self._unwrap_value(\n\u001b[0;32m    322\u001b[0m                 response.get('value', None))\n",
      "\u001b[1;32m~\\Anaconda3\\lib\\site-packages\\selenium\\webdriver\\remote\\errorhandler.py\u001b[0m in \u001b[0;36mcheck_response\u001b[1;34m(self, response)\u001b[0m\n\u001b[0;32m    240\u001b[0m                 \u001b[0malert_text\u001b[0m \u001b[1;33m=\u001b[0m \u001b[0mvalue\u001b[0m\u001b[1;33m[\u001b[0m\u001b[1;34m'alert'\u001b[0m\u001b[1;33m]\u001b[0m\u001b[1;33m.\u001b[0m\u001b[0mget\u001b[0m\u001b[1;33m(\u001b[0m\u001b[1;34m'text'\u001b[0m\u001b[1;33m)\u001b[0m\u001b[1;33m\u001b[0m\u001b[0m\n\u001b[0;32m    241\u001b[0m             \u001b[1;32mraise\u001b[0m \u001b[0mexception_class\u001b[0m\u001b[1;33m(\u001b[0m\u001b[0mmessage\u001b[0m\u001b[1;33m,\u001b[0m \u001b[0mscreen\u001b[0m\u001b[1;33m,\u001b[0m \u001b[0mstacktrace\u001b[0m\u001b[1;33m,\u001b[0m \u001b[0malert_text\u001b[0m\u001b[1;33m)\u001b[0m\u001b[1;33m\u001b[0m\u001b[0m\n\u001b[1;32m--> 242\u001b[1;33m         \u001b[1;32mraise\u001b[0m \u001b[0mexception_class\u001b[0m\u001b[1;33m(\u001b[0m\u001b[0mmessage\u001b[0m\u001b[1;33m,\u001b[0m \u001b[0mscreen\u001b[0m\u001b[1;33m,\u001b[0m \u001b[0mstacktrace\u001b[0m\u001b[1;33m)\u001b[0m\u001b[1;33m\u001b[0m\u001b[0m\n\u001b[0m\u001b[0;32m    243\u001b[0m \u001b[1;33m\u001b[0m\u001b[0m\n\u001b[0;32m    244\u001b[0m     \u001b[1;32mdef\u001b[0m \u001b[0m_value_or_default\u001b[0m\u001b[1;33m(\u001b[0m\u001b[0mself\u001b[0m\u001b[1;33m,\u001b[0m \u001b[0mobj\u001b[0m\u001b[1;33m,\u001b[0m \u001b[0mkey\u001b[0m\u001b[1;33m,\u001b[0m \u001b[0mdefault\u001b[0m\u001b[1;33m)\u001b[0m\u001b[1;33m:\u001b[0m\u001b[1;33m\u001b[0m\u001b[0m\n",
      "\u001b[1;31mNoSuchElementException\u001b[0m: Message: no such element: Unable to locate element: {\"method\":\"xpath\",\"selector\":\"//*[@class=\"style-scope ytd-c4-tabbed-header-renderer\"]/div[text()=\"동영상\"]\"}\n  (Session info: chrome=73.0.3683.86)\n  (Driver info: chromedriver=2.38.552522 (437e6fbedfa8762dec75e2c5b3ddb86763dc9dcb),platform=Windows NT 10.0.17134 x86_64)\n"
     ]
    }
   ],
   "source": [
    "browser.find_element_by_xpath('//*[@class=\"style-scope ytd-c4-tabbed-header-renderer\"]/div[text()=\"동영상\"]').click()\n",
    "#현재 text로 클릭이 안되는 이유는 text의 공백부분이 너무 많이 때문에 클릭하기 위해선 밑의 코드를 따른다"
   ]
  },
  {
   "cell_type": "code",
   "execution_count": 9,
   "metadata": {},
   "outputs": [],
   "source": [
    "browser.find_element_by_xpath('//*[@class=\"scrollable style-scope paper-tabs\"]/paper-tab[2]').click()"
   ]
  },
  {
   "cell_type": "code",
   "execution_count": 10,
   "metadata": {},
   "outputs": [],
   "source": [
    "body = browser.find_element_by_tag_name('body')"
   ]
  },
  {
   "cell_type": "code",
   "execution_count": 11,
   "metadata": {},
   "outputs": [
    {
     "data": {
      "text/plain": [
       "<selenium.webdriver.remote.webelement.WebElement (session=\"048eafd23ba53ba276b3fb2e0598bdd4\", element=\"0.15454261619266463-2\")>"
      ]
     },
     "execution_count": 11,
     "metadata": {},
     "output_type": "execute_result"
    }
   ],
   "source": [
    "body"
   ]
  },
  {
   "cell_type": "code",
   "execution_count": 12,
   "metadata": {},
   "outputs": [],
   "source": [
    "from selenium.webdriver.common.keys import Keys\n"
   ]
  },
  {
   "cell_type": "code",
   "execution_count": 13,
   "metadata": {},
   "outputs": [],
   "source": [
    "num_of_pagedowns = 20\n",
    "#10번 밑으로 내리는 것\n",
    "while num_of_pagedowns:\n",
    "    body.send_keys(Keys.PAGE_DOWN)\n",
    "    time.sleep(2)\n",
    "    num_of_pagedowns -= 1"
   ]
  },
  {
   "cell_type": "code",
   "execution_count": 14,
   "metadata": {},
   "outputs": [],
   "source": [
    "html0 = browser.page_source"
   ]
  },
  {
   "cell_type": "code",
   "execution_count": 15,
   "metadata": {},
   "outputs": [],
   "source": [
    "html = BeautifulSoup(html0,'html.parser')"
   ]
  },
  {
   "cell_type": "code",
   "execution_count": 16,
   "metadata": {},
   "outputs": [],
   "source": [
    "video_list0 = html.find('div',{'id':'items'})"
   ]
  },
  {
   "cell_type": "code",
   "execution_count": 17,
   "metadata": {},
   "outputs": [],
   "source": [
    "video_list2 = video_list0.find_all('ytd-grid-video-renderer',{'class':'style-scope ytd-grid-renderer'})"
   ]
  },
  {
   "cell_type": "code",
   "execution_count": 18,
   "metadata": {},
   "outputs": [
    {
     "data": {
      "text/plain": [
       "<ytd-grid-video-renderer class=\"style-scope ytd-grid-renderer\" lockup=\"\"><div class=\"style-scope ytd-grid-video-renderer\" id=\"dismissable\"><ytd-thumbnail class=\"style-scope ytd-grid-video-renderer\" use-hovered-property=\"\" width=\"210\">\n",
       "<a aria-hidden=\"true\" class=\"yt-simple-endpoint inline-block style-scope ytd-thumbnail\" href=\"/watch?v=NRGosJR4zp0\" id=\"thumbnail\" rel=\"null\" tabindex=\"-1\">\n",
       "<yt-img-shadow class=\"style-scope ytd-thumbnail no-transition\" loaded=\"\" style=\"background-color: transparent;\"><img alt=\"\" class=\"style-scope yt-img-shadow\" id=\"img\" src=\"https://i.ytimg.com/vi/NRGosJR4zp0/hqdefault.jpg?sqp=-oaymwEZCPYBEIoBSFXyq4qpAwsIARUAAIhCGAFwAQ==&amp;rs=AOn4CLClCnFTim0MXyF-iMWYBvPjSPloig\" width=\"210\"/></yt-img-shadow>\n",
       "<div class=\"style-scope ytd-thumbnail\" id=\"overlays\"><ytd-thumbnail-overlay-time-status-renderer class=\"style-scope ytd-thumbnail\" overlay-style=\"DEFAULT\"><span aria-label=\"15분\" class=\"style-scope ytd-thumbnail-overlay-time-status-renderer\">\n",
       "      15:12\n",
       "    </span></ytd-thumbnail-overlay-time-status-renderer></div>\n",
       "<div class=\"style-scope ytd-thumbnail\" id=\"mouseover-overlay\"></div>\n",
       "<div class=\"style-scope ytd-thumbnail\" id=\"hover-overlays\"></div>\n",
       "</a>\n",
       "</ytd-thumbnail><div class=\"style-scope ytd-grid-video-renderer\" id=\"details\"><div class=\"style-scope ytd-grid-video-renderer\" id=\"meta\"><h3 class=\"style-scope ytd-grid-video-renderer\"><ytd-badge-supported-renderer class=\"style-scope ytd-grid-video-renderer\" disable-upgrade=\"\" hidden=\"\"></ytd-badge-supported-renderer><a aria-label=\"[Eng] 화사한 코랄 메이크업💐[하객룩+데이트에도 딱💕] l 이사배(RISABAE Makeup) 게시자: RISABAE 1주 전 15분 조회수 339,222회\" class=\"yt-simple-endpoint style-scope ytd-grid-video-renderer\" href=\"/watch?v=NRGosJR4zp0\" id=\"video-title\" title=\"[Eng] 화사한 코랄 메이크업💐[하객룩+데이트에도 딱💕] l 이사배(RISABAE Makeup)\">[Eng] 화사한 코랄 메이크업💐[하객룩+데이트에도 딱💕] l 이사배(RISABAE Makeup)</a></h3><div class=\"grid style-scope ytd-grid-video-renderer\" id=\"metadata-container\" meta-block=\"\"><div class=\"style-scope ytd-grid-video-renderer\" id=\"metadata\"><div class=\"style-scope ytd-grid-video-renderer\" hidden=\"\" id=\"byline-container\"><yt-formatted-string class=\"style-scope ytd-grid-video-renderer\" ellipsis-truncate=\"\" id=\"byline\" title=\"\"></yt-formatted-string><ytd-badge-supported-renderer class=\"style-scope ytd-grid-video-renderer\" disable-upgrade=\"\" hidden=\"\"></ytd-badge-supported-renderer></div><div class=\"style-scope ytd-grid-video-renderer\" id=\"metadata-line\"><span class=\"style-scope ytd-grid-video-renderer\">조회수 33만회</span><span class=\"style-scope ytd-grid-video-renderer\">1주 전</span><template class=\"style-scope ytd-grid-video-renderer\" is=\"dom-repeat\" strip-whitespace=\"\"></template></div></div><div class=\"style-scope ytd-grid-video-renderer\" id=\"additional-metadata-line\"><template class=\"style-scope ytd-grid-video-renderer\" is=\"dom-repeat\" strip-whitespace=\"\"></template></div></div></div><ytd-badge-supported-renderer class=\"style-scope ytd-grid-video-renderer\" disable-upgrade=\"\" hidden=\"\"></ytd-badge-supported-renderer><div class=\"style-scope ytd-grid-video-renderer\" id=\"menu\"></div></div><div class=\"style-scope ytd-grid-video-renderer\" id=\"buttons\"></div></div><div class=\"style-scope ytd-grid-video-renderer\" id=\"dismissed\"><div class=\"style-scope ytd-grid-video-renderer\" id=\"dismissed-content\"></div></div></ytd-grid-video-renderer>"
      ]
     },
     "execution_count": 18,
     "metadata": {},
     "output_type": "execute_result"
    }
   ],
   "source": [
    "video_list2[2]"
   ]
  },
  {
   "cell_type": "code",
   "execution_count": 19,
   "metadata": {},
   "outputs": [
    {
     "data": {
      "text/plain": [
       "'[Eng] 🛫해외 갈 때 꼭! 챙기는 필수템 (출장&여행) l 이사배(RISABAE Makeup)'"
      ]
     },
     "execution_count": 19,
     "metadata": {},
     "output_type": "execute_result"
    }
   ],
   "source": [
    "video_list2[0].find('a',{'id':'video-title'}).text"
   ]
  },
  {
   "cell_type": "code",
   "execution_count": 41,
   "metadata": {},
   "outputs": [
    {
     "data": {
      "text/plain": [
       "'https://i.ytimg.com/vi/vR8NPTKi7t4/hqdefault.jpg?sqp=-oaymwEZCPYBEIoBSFXyq4qpAwsIARUAAIhCGAFwAQ==&rs=AOn4CLCtf8_6PMcizOM4pVYQZv3_Ce9WWA'"
      ]
     },
     "execution_count": 41,
     "metadata": {},
     "output_type": "execute_result"
    }
   ],
   "source": [
    "video_list2[0].find('a',{'id':'thumbnail'}).find('img')['src']"
   ]
  },
  {
   "cell_type": "code",
   "execution_count": 42,
   "metadata": {},
   "outputs": [],
   "source": [
    "meta0 =video_list2[0].find('div',{'id':'metadata-line'})"
   ]
  },
  {
   "cell_type": "code",
   "execution_count": 47,
   "metadata": {},
   "outputs": [
    {
     "data": {
      "text/plain": [
       "[<span class=\"style-scope ytd-grid-video-renderer\">조회수 7.6만회</span>,\n",
       " <span class=\"style-scope ytd-grid-video-renderer\">15시간 전</span>]"
      ]
     },
     "execution_count": 47,
     "metadata": {},
     "output_type": "execute_result"
    }
   ],
   "source": [
    "meta0.find_all('span',{'class':'style-scope ytd-grid-video-renderer'})"
   ]
  },
  {
   "cell_type": "code",
   "execution_count": 58,
   "metadata": {},
   "outputs": [
    {
     "data": {
      "text/plain": [
       "'14만회'"
      ]
     },
     "execution_count": 58,
     "metadata": {},
     "output_type": "execute_result"
    }
   ],
   "source": [
    "meta0.find_all('span',{'class':'style-scope ytd-grid-video-renderer'})[0].text.split()[1]"
   ]
  },
  {
   "cell_type": "code",
   "execution_count": 22,
   "metadata": {},
   "outputs": [],
   "source": [
    "base_url = 'http://www.youtube.com'"
   ]
  },
  {
   "cell_type": "code",
   "execution_count": 23,
   "metadata": {},
   "outputs": [],
   "source": [
    "isabe_url = []\n",
    "for i in range(len(video_list2)):\n",
    "    url = base_url+video_list2[i].find('a',{'id':'thumbnail'})['href']\n",
    "    isabe_url.append(url)"
   ]
  },
  {
   "cell_type": "code",
   "execution_count": 29,
   "metadata": {},
   "outputs": [],
   "source": [
    "isabe = pd.DataFrame({'name':[],\n",
    "                     'thumbnail':[],\n",
    "                     'view':[],\n",
    "                     'previous_time':[],\n",
    "                     'video_url':[],\n",
    "                     'start_date':[],\n",
    "                     'comment':[]})\n",
    "base_url = 'http://www.youtube.com'\n",
    "delay = 3\n",
    "browser = Chrome()\n",
    "browser.implicitly_wait(delay)\n",
    "\n",
    "for i in range(16,21):\n",
    "    name = video_list2[i].find('a',{'id':'video-title'}).text\n",
    "    \n",
    "    thum = video_list2[i].find('a',{'id':'thumbnail'}).find('img')['src']\n",
    "    \n",
    "    url = base_url+video_list2[i].find('a',{'id':'thumbnail'})['href']\n",
    "        \n",
    "    \n",
    "    meta0 =video_list2[i].find('div',{'id':'metadata-line'})\n",
    "    \n",
    "    view = meta0.find_all('span',{'class':'style-scope ytd-grid-video-renderer'})[0].text.split()[1]\n",
    "    #조회수는 숫자만 뽑을 수 있고 모든 데이터는 원하는 형식으로 뽑을 수 있음\n",
    "    previous = meta0.find_all('span',{'class':'style-scope ytd-grid-video-renderer'})[1].text\n",
    "    \n",
    "    start_url = isabe_url[i]\n",
    "    browser.get(start_url) \n",
    "    body = browser.find_element_by_tag_name('body')\n",
    "    \n",
    "    num_of_pagedowns = 10\n",
    "    while num_of_pagedowns:\n",
    "        body.send_keys(Keys.PAGE_DOWN)\n",
    "        time.sleep(1.5) #스크롤 속도를 지정할 수 있는 것인데  1.5초가 가장 적당할 듯 1초면 너무 빠름\n",
    "        #현재는 스크롤을 7번만 하도록 설정되어 있으나 이후에 댓글을 크롤링하기 위해서는 스크롤을 댓글이 안보\n",
    "        #일때까지 내리면 될텐데 시간이 엄청 오래 걸릴 것임 - 따라서 적당한 수준의 댓글을 크롤링하는것이 좋음\n",
    "        num_of_pagedowns -= 1\n",
    "    html0 = browser.page_source\n",
    "    html = BeautifulSoup(html0,'html.parser')\n",
    "    \n",
    "    start_date = html.find('span',{'class':'date style-scope ytd-video-secondary-info-renderer'}).text\n",
    "    comment = html.find('h2',{'id':'count'}).find('yt-formatted-string').text\n",
    "    \n",
    "    insert_data = pd.DataFrame({'name':[name],\n",
    "                     'thumbnail':[thum],\n",
    "                     'view':[view],\n",
    "                     'previous_time':[previous],\n",
    "                     'video_url':[url],\n",
    "                     'start_date':[start_date],\n",
    "                     'comment':[comment]})\n",
    "    \n",
    "    isabe = isabe.append(insert_data)\n",
    "isabe.index = range(len(isabe))"
   ]
  },
  {
   "cell_type": "code",
   "execution_count": 28,
   "metadata": {
    "scrolled": true
   },
   "outputs": [
    {
     "data": {
      "text/html": [
       "<div>\n",
       "<style scoped>\n",
       "    .dataframe tbody tr th:only-of-type {\n",
       "        vertical-align: middle;\n",
       "    }\n",
       "\n",
       "    .dataframe tbody tr th {\n",
       "        vertical-align: top;\n",
       "    }\n",
       "\n",
       "    .dataframe thead th {\n",
       "        text-align: right;\n",
       "    }\n",
       "</style>\n",
       "<table border=\"1\" class=\"dataframe\">\n",
       "  <thead>\n",
       "    <tr style=\"text-align: right;\">\n",
       "      <th></th>\n",
       "      <th>name</th>\n",
       "      <th>thumbnail</th>\n",
       "      <th>view</th>\n",
       "      <th>previous_time</th>\n",
       "      <th>video_url</th>\n",
       "      <th>start_date</th>\n",
       "      <th>comment</th>\n",
       "    </tr>\n",
       "  </thead>\n",
       "  <tbody>\n",
       "    <tr>\n",
       "      <th>0</th>\n",
       "      <td>[Eng] 🛫해외 갈 때 꼭! 챙기는 필수템 (출장&amp;여행) l 이사배(RISABAE...</td>\n",
       "      <td>https://i.ytimg.com/vi/vR8NPTKi7t4/hqdefault.j...</td>\n",
       "      <td>8.8만회</td>\n",
       "      <td>21시간 전</td>\n",
       "      <td>http://www.youtube.com/watch?v=vR8NPTKi7t4</td>\n",
       "      <td>게시일: 2019. 4. 8.</td>\n",
       "      <td>댓글 170개</td>\n",
       "    </tr>\n",
       "    <tr>\n",
       "      <th>0</th>\n",
       "      <td>[Eng] 흑백 메이크업 (feat.아리아나그란데) Black&amp;White Makeu...</td>\n",
       "      <td>https://i.ytimg.com/vi/Hhowj4f1geQ/hqdefault.j...</td>\n",
       "      <td>14만회</td>\n",
       "      <td>1주 전</td>\n",
       "      <td>http://www.youtube.com/watch?v=Hhowj4f1geQ</td>\n",
       "      <td>게시일: 2019. 4. 1.</td>\n",
       "      <td>댓글 325개</td>\n",
       "    </tr>\n",
       "    <tr>\n",
       "      <th>0</th>\n",
       "      <td>[Eng] 화사한 코랄 메이크업💐[하객룩+데이트에도 딱💕] l 이사배(RISABAE...</td>\n",
       "      <td>https://i.ytimg.com/vi/NRGosJR4zp0/hqdefault.j...</td>\n",
       "      <td>33만회</td>\n",
       "      <td>1주 전</td>\n",
       "      <td>http://www.youtube.com/watch?v=NRGosJR4zp0</td>\n",
       "      <td>게시일: 2019. 3. 27.</td>\n",
       "      <td>댓글 410개</td>\n",
       "    </tr>\n",
       "    <tr>\n",
       "      <th>0</th>\n",
       "      <td>[Eng] 배우 수현 커버 메이크업💫 CLAUDIA KIM COVER MAKEUP ...</td>\n",
       "      <td>https://i.ytimg.com/vi/698XKr0cYyM/hqdefault.j...</td>\n",
       "      <td>22만회</td>\n",
       "      <td>2주 전</td>\n",
       "      <td>http://www.youtube.com/watch?v=698XKr0cYyM</td>\n",
       "      <td>게시일: 2019. 3. 22.</td>\n",
       "      <td>댓글 487개</td>\n",
       "    </tr>\n",
       "    <tr>\n",
       "      <th>0</th>\n",
       "      <td>[GRWM] 미세먼지 심한 날 메이크업  + 붙임머리/염색 vlog💇🏻‍♀💇🏼‍♀✨...</td>\n",
       "      <td>https://i.ytimg.com/vi/pEtwG60WpdI/hqdefault.j...</td>\n",
       "      <td>30만회</td>\n",
       "      <td>2주 전</td>\n",
       "      <td>http://www.youtube.com/watch?v=pEtwG60WpdI</td>\n",
       "      <td>게시일: 2019. 3. 19.</td>\n",
       "      <td>댓글 327개</td>\n",
       "    </tr>\n",
       "    <tr>\n",
       "      <th>0</th>\n",
       "      <td>백화점 쇼핑하울 속옷부터-가방까지!👙👛🥰 [+엄마 옷] l 이사배(RISABAE M...</td>\n",
       "      <td>https://i.ytimg.com/vi/p26ggSim0aY/hqdefault.j...</td>\n",
       "      <td>44만회</td>\n",
       "      <td>3주 전</td>\n",
       "      <td>http://www.youtube.com/watch?v=p26ggSim0aY</td>\n",
       "      <td>게시일: 2019. 3. 15.</td>\n",
       "      <td>댓글 386개</td>\n",
       "    </tr>\n",
       "    <tr>\n",
       "      <th>0</th>\n",
       "      <td>[Eng] 봄이 오기전에 봄 메이크업 해봄🌼 Spring Makeup Tutoria...</td>\n",
       "      <td>https://i.ytimg.com/vi/ZytjDm5lnkw/hqdefault.j...</td>\n",
       "      <td>42만회</td>\n",
       "      <td>1개월 전</td>\n",
       "      <td>http://www.youtube.com/watch?v=ZytjDm5lnkw</td>\n",
       "      <td>게시일: 2019. 3. 8.</td>\n",
       "      <td>댓글 589개</td>\n",
       "    </tr>\n",
       "    <tr>\n",
       "      <th>0</th>\n",
       "      <td>[Eng] 백투베이직-블러셔편 : 나에게 맞는 블러셔 정복하기 ! l 이사배(RIS...</td>\n",
       "      <td>https://i.ytimg.com/vi/0F0aoPTL2mc/hqdefault.j...</td>\n",
       "      <td>55만회</td>\n",
       "      <td>1개월 전</td>\n",
       "      <td>http://www.youtube.com/watch?v=0F0aoPTL2mc</td>\n",
       "      <td>게시일: 2019. 2. 26.</td>\n",
       "      <td>댓글 846개</td>\n",
       "    </tr>\n",
       "    <tr>\n",
       "      <th>0</th>\n",
       "      <td>[GRWM] 어떤 컬러 의상에도 잘 어울리는 메이크업💙같이 준비해요!!✨ l 이사배...</td>\n",
       "      <td>https://i.ytimg.com/vi/WiKDflV6BPY/hqdefault.j...</td>\n",
       "      <td>43만회</td>\n",
       "      <td>1개월 전</td>\n",
       "      <td>http://www.youtube.com/watch?v=WiKDflV6BPY</td>\n",
       "      <td>게시일: 2019. 2. 21.</td>\n",
       "      <td>댓글 602개</td>\n",
       "    </tr>\n",
       "    <tr>\n",
       "      <th>0</th>\n",
       "      <td>[Eng] 활용도 10000% 면접메이크업 l 이사배(RISABAE Makeup)</td>\n",
       "      <td>https://i.ytimg.com/vi/lB-WHUhHVzw/hqdefault.j...</td>\n",
       "      <td>35만회</td>\n",
       "      <td>1개월 전</td>\n",
       "      <td>http://www.youtube.com/watch?v=lB-WHUhHVzw</td>\n",
       "      <td>게시일: 2019. 2. 15.</td>\n",
       "      <td>댓글 561개</td>\n",
       "    </tr>\n",
       "    <tr>\n",
       "      <th>0</th>\n",
       "      <td>지금까지 이런 팬밋업은 없었다- 이것은 놀이동산인가 콘서트인가 (feat.🐯) l ...</td>\n",
       "      <td>https://i.ytimg.com/vi/roV0Q4RHxtc/hqdefault.j...</td>\n",
       "      <td>6.5만회</td>\n",
       "      <td>1개월 전</td>\n",
       "      <td>http://www.youtube.com/watch?v=roV0Q4RHxtc</td>\n",
       "      <td>게시일: 2019. 2. 14.</td>\n",
       "      <td>댓글 190개</td>\n",
       "    </tr>\n",
       "    <tr>\n",
       "      <th>0</th>\n",
       "      <td>어드벤쳐에서 받은 감동의💓선물언박싱😭🧡 (feat.눈물의개봉기) l 이사배(RISA...</td>\n",
       "      <td>https://i.ytimg.com/vi/c3PFdBUwj6M/hqdefault.j...</td>\n",
       "      <td>26만회</td>\n",
       "      <td>2개월 전</td>\n",
       "      <td>http://www.youtube.com/watch?v=c3PFdBUwj6M</td>\n",
       "      <td>게시일: 2019. 2. 2.</td>\n",
       "      <td>댓글 353개</td>\n",
       "    </tr>\n",
       "    <tr>\n",
       "      <th>0</th>\n",
       "      <td>꼼화아가씨 도련님들과 하루종일 이사배어드벤쳐🎡 #1일차 l 이사배(RISABAE M...</td>\n",
       "      <td>https://i.ytimg.com/vi/GR8L1JE5WQE/hqdefault.j...</td>\n",
       "      <td>11만회</td>\n",
       "      <td>2개월 전</td>\n",
       "      <td>http://www.youtube.com/watch?v=GR8L1JE5WQE</td>\n",
       "      <td>게시일: 2019. 2. 1.</td>\n",
       "      <td>댓글 261개</td>\n",
       "    </tr>\n",
       "    <tr>\n",
       "      <th>0</th>\n",
       "      <td>[이벤트종료💓] 쉽게 완벽한 눈썹 그리기 (feat.베네피트 브로우팔레트)  l 이...</td>\n",
       "      <td>https://i.ytimg.com/vi/nn1cOLQ_MGA/hqdefault.j...</td>\n",
       "      <td>29만회</td>\n",
       "      <td>2개월 전</td>\n",
       "      <td>http://www.youtube.com/watch?v=nn1cOLQ_MGA</td>\n",
       "      <td>게시일: 2019. 1. 29.</td>\n",
       "      <td>댓글 1,008개</td>\n",
       "    </tr>\n",
       "    <tr>\n",
       "      <th>0</th>\n",
       "      <td>[Eng]  '스카이캐슬' 김주영-쓰앵님 커버메이크업 SKY CASTLE COVER...</td>\n",
       "      <td>https://i.ytimg.com/vi/EMHHK7jVFu8/hqdefault.j...</td>\n",
       "      <td>69만회</td>\n",
       "      <td>2개월 전</td>\n",
       "      <td>http://www.youtube.com/watch?v=EMHHK7jVFu8</td>\n",
       "      <td>게시일: 2019. 1. 25.</td>\n",
       "      <td>댓글 2,095개</td>\n",
       "    </tr>\n",
       "    <tr>\n",
       "      <th>0</th>\n",
       "      <td>[Eng] 좀비사극 드라마 ‘킹덤’ 좀비 커버분장 (죽었던 왕이..?) l 이사배(...</td>\n",
       "      <td>https://i.ytimg.com/vi/CNZE9mKQqfQ/hqdefault.j...</td>\n",
       "      <td>23만회</td>\n",
       "      <td>2개월 전</td>\n",
       "      <td>http://www.youtube.com/watch?v=CNZE9mKQqfQ</td>\n",
       "      <td>게시일: 2019. 1. 24.</td>\n",
       "      <td>댓글 549개</td>\n",
       "    </tr>\n",
       "    <tr>\n",
       "      <th>0</th>\n",
       "      <td>1999st 메이크업하고 힙합우상★타이거JK님★만나기!! + 녹음까지🎧 l이사배(R...</td>\n",
       "      <td>https://i.ytimg.com/vi/3X51q_VEaNA/hqdefault.j...</td>\n",
       "      <td>24만회</td>\n",
       "      <td>2개월 전</td>\n",
       "      <td>http://www.youtube.com/watch?v=3X51q_VEaNA</td>\n",
       "      <td>게시일: 2019. 1. 12.</td>\n",
       "      <td>댓글 835개</td>\n",
       "    </tr>\n",
       "  </tbody>\n",
       "</table>\n",
       "</div>"
      ],
      "text/plain": [
       "                                                name  \\\n",
       "0  [Eng] 🛫해외 갈 때 꼭! 챙기는 필수템 (출장&여행) l 이사배(RISABAE...   \n",
       "0  [Eng] 흑백 메이크업 (feat.아리아나그란데) Black&White Makeu...   \n",
       "0  [Eng] 화사한 코랄 메이크업💐[하객룩+데이트에도 딱💕] l 이사배(RISABAE...   \n",
       "0  [Eng] 배우 수현 커버 메이크업💫 CLAUDIA KIM COVER MAKEUP ...   \n",
       "0  [GRWM] 미세먼지 심한 날 메이크업  + 붙임머리/염색 vlog💇🏻‍♀💇🏼‍♀✨...   \n",
       "0  백화점 쇼핑하울 속옷부터-가방까지!👙👛🥰 [+엄마 옷] l 이사배(RISABAE M...   \n",
       "0  [Eng] 봄이 오기전에 봄 메이크업 해봄🌼 Spring Makeup Tutoria...   \n",
       "0  [Eng] 백투베이직-블러셔편 : 나에게 맞는 블러셔 정복하기 ! l 이사배(RIS...   \n",
       "0  [GRWM] 어떤 컬러 의상에도 잘 어울리는 메이크업💙같이 준비해요!!✨ l 이사배...   \n",
       "0      [Eng] 활용도 10000% 면접메이크업 l 이사배(RISABAE Makeup)   \n",
       "0  지금까지 이런 팬밋업은 없었다- 이것은 놀이동산인가 콘서트인가 (feat.🐯) l ...   \n",
       "0  어드벤쳐에서 받은 감동의💓선물언박싱😭🧡 (feat.눈물의개봉기) l 이사배(RISA...   \n",
       "0  꼼화아가씨 도련님들과 하루종일 이사배어드벤쳐🎡 #1일차 l 이사배(RISABAE M...   \n",
       "0  [이벤트종료💓] 쉽게 완벽한 눈썹 그리기 (feat.베네피트 브로우팔레트)  l 이...   \n",
       "0  [Eng]  '스카이캐슬' 김주영-쓰앵님 커버메이크업 SKY CASTLE COVER...   \n",
       "0  [Eng] 좀비사극 드라마 ‘킹덤’ 좀비 커버분장 (죽었던 왕이..?) l 이사배(...   \n",
       "0  1999st 메이크업하고 힙합우상★타이거JK님★만나기!! + 녹음까지🎧 l이사배(R...   \n",
       "\n",
       "                                           thumbnail   view previous_time  \\\n",
       "0  https://i.ytimg.com/vi/vR8NPTKi7t4/hqdefault.j...  8.8만회        21시간 전   \n",
       "0  https://i.ytimg.com/vi/Hhowj4f1geQ/hqdefault.j...   14만회          1주 전   \n",
       "0  https://i.ytimg.com/vi/NRGosJR4zp0/hqdefault.j...   33만회          1주 전   \n",
       "0  https://i.ytimg.com/vi/698XKr0cYyM/hqdefault.j...   22만회          2주 전   \n",
       "0  https://i.ytimg.com/vi/pEtwG60WpdI/hqdefault.j...   30만회          2주 전   \n",
       "0  https://i.ytimg.com/vi/p26ggSim0aY/hqdefault.j...   44만회          3주 전   \n",
       "0  https://i.ytimg.com/vi/ZytjDm5lnkw/hqdefault.j...   42만회         1개월 전   \n",
       "0  https://i.ytimg.com/vi/0F0aoPTL2mc/hqdefault.j...   55만회         1개월 전   \n",
       "0  https://i.ytimg.com/vi/WiKDflV6BPY/hqdefault.j...   43만회         1개월 전   \n",
       "0  https://i.ytimg.com/vi/lB-WHUhHVzw/hqdefault.j...   35만회         1개월 전   \n",
       "0  https://i.ytimg.com/vi/roV0Q4RHxtc/hqdefault.j...  6.5만회         1개월 전   \n",
       "0  https://i.ytimg.com/vi/c3PFdBUwj6M/hqdefault.j...   26만회         2개월 전   \n",
       "0  https://i.ytimg.com/vi/GR8L1JE5WQE/hqdefault.j...   11만회         2개월 전   \n",
       "0  https://i.ytimg.com/vi/nn1cOLQ_MGA/hqdefault.j...   29만회         2개월 전   \n",
       "0  https://i.ytimg.com/vi/EMHHK7jVFu8/hqdefault.j...   69만회         2개월 전   \n",
       "0  https://i.ytimg.com/vi/CNZE9mKQqfQ/hqdefault.j...   23만회         2개월 전   \n",
       "0  https://i.ytimg.com/vi/3X51q_VEaNA/hqdefault.j...   24만회         2개월 전   \n",
       "\n",
       "                                    video_url         start_date    comment  \n",
       "0  http://www.youtube.com/watch?v=vR8NPTKi7t4   게시일: 2019. 4. 8.    댓글 170개  \n",
       "0  http://www.youtube.com/watch?v=Hhowj4f1geQ   게시일: 2019. 4. 1.    댓글 325개  \n",
       "0  http://www.youtube.com/watch?v=NRGosJR4zp0  게시일: 2019. 3. 27.    댓글 410개  \n",
       "0  http://www.youtube.com/watch?v=698XKr0cYyM  게시일: 2019. 3. 22.    댓글 487개  \n",
       "0  http://www.youtube.com/watch?v=pEtwG60WpdI  게시일: 2019. 3. 19.    댓글 327개  \n",
       "0  http://www.youtube.com/watch?v=p26ggSim0aY  게시일: 2019. 3. 15.    댓글 386개  \n",
       "0  http://www.youtube.com/watch?v=ZytjDm5lnkw   게시일: 2019. 3. 8.    댓글 589개  \n",
       "0  http://www.youtube.com/watch?v=0F0aoPTL2mc  게시일: 2019. 2. 26.    댓글 846개  \n",
       "0  http://www.youtube.com/watch?v=WiKDflV6BPY  게시일: 2019. 2. 21.    댓글 602개  \n",
       "0  http://www.youtube.com/watch?v=lB-WHUhHVzw  게시일: 2019. 2. 15.    댓글 561개  \n",
       "0  http://www.youtube.com/watch?v=roV0Q4RHxtc  게시일: 2019. 2. 14.    댓글 190개  \n",
       "0  http://www.youtube.com/watch?v=c3PFdBUwj6M   게시일: 2019. 2. 2.    댓글 353개  \n",
       "0  http://www.youtube.com/watch?v=GR8L1JE5WQE   게시일: 2019. 2. 1.    댓글 261개  \n",
       "0  http://www.youtube.com/watch?v=nn1cOLQ_MGA  게시일: 2019. 1. 29.  댓글 1,008개  \n",
       "0  http://www.youtube.com/watch?v=EMHHK7jVFu8  게시일: 2019. 1. 25.  댓글 2,095개  \n",
       "0  http://www.youtube.com/watch?v=CNZE9mKQqfQ  게시일: 2019. 1. 24.    댓글 549개  \n",
       "0  http://www.youtube.com/watch?v=3X51q_VEaNA  게시일: 2019. 1. 12.    댓글 835개  "
      ]
     },
     "execution_count": 28,
     "metadata": {},
     "output_type": "execute_result"
    }
   ],
   "source": [
    "isabe"
   ]
  },
  {
   "cell_type": "code",
   "execution_count": 30,
   "metadata": {
    "scrolled": true
   },
   "outputs": [
    {
     "data": {
      "text/html": [
       "<div>\n",
       "<style scoped>\n",
       "    .dataframe tbody tr th:only-of-type {\n",
       "        vertical-align: middle;\n",
       "    }\n",
       "\n",
       "    .dataframe tbody tr th {\n",
       "        vertical-align: top;\n",
       "    }\n",
       "\n",
       "    .dataframe thead th {\n",
       "        text-align: right;\n",
       "    }\n",
       "</style>\n",
       "<table border=\"1\" class=\"dataframe\">\n",
       "  <thead>\n",
       "    <tr style=\"text-align: right;\">\n",
       "      <th></th>\n",
       "      <th>name</th>\n",
       "      <th>thumbnail</th>\n",
       "      <th>view</th>\n",
       "      <th>previous_time</th>\n",
       "      <th>video_url</th>\n",
       "      <th>start_date</th>\n",
       "      <th>comment</th>\n",
       "    </tr>\n",
       "  </thead>\n",
       "  <tbody>\n",
       "    <tr>\n",
       "      <th>0</th>\n",
       "      <td>1999st 메이크업하고 힙합우상★타이거JK님★만나기!! + 녹음까지🎧 l이사배(R...</td>\n",
       "      <td>https://i.ytimg.com/vi/3X51q_VEaNA/hqdefault.j...</td>\n",
       "      <td>24만회</td>\n",
       "      <td>2개월 전</td>\n",
       "      <td>http://www.youtube.com/watch?v=3X51q_VEaNA</td>\n",
       "      <td>게시일: 2019. 1. 12.</td>\n",
       "      <td>댓글 835개</td>\n",
       "    </tr>\n",
       "    <tr>\n",
       "      <th>1</th>\n",
       "      <td>[Eng] 민낯에 레드립st 메이크업💄 (레드립 꿀팁!) + 이벤트(종료!) l 이...</td>\n",
       "      <td>https://i.ytimg.com/vi/t3p15Qzirjo/hqdefault.j...</td>\n",
       "      <td>74만회</td>\n",
       "      <td>2개월 전</td>\n",
       "      <td>http://www.youtube.com/watch?v=t3p15Qzirjo</td>\n",
       "      <td>게시일: 2019. 1. 11.</td>\n",
       "      <td>댓글 1,291개</td>\n",
       "    </tr>\n",
       "    <tr>\n",
       "      <th>2</th>\n",
       "      <td>[GRWM] 필카느낌 셀카잘나오는 메이크업📸😏✌🏻같이준비해요! l 이사배(RISAB...</td>\n",
       "      <td>https://i.ytimg.com/vi/y0zQgUWpzHk/hqdefault.j...</td>\n",
       "      <td>30만회</td>\n",
       "      <td>3개월 전</td>\n",
       "      <td>http://www.youtube.com/watch?v=y0zQgUWpzHk</td>\n",
       "      <td>게시일: 2019. 1. 4.</td>\n",
       "      <td>댓글 313개</td>\n",
       "    </tr>\n",
       "    <tr>\n",
       "      <th>3</th>\n",
       "      <td>2018 잘~썼다! 아이템 TOP 9 🎉 l 이사배(RISABAE Makeup)</td>\n",
       "      <td>https://i.ytimg.com/vi/P0-gKMq48aI/hqdefault.j...</td>\n",
       "      <td>98만회</td>\n",
       "      <td>3개월 전</td>\n",
       "      <td>http://www.youtube.com/watch?v=P0-gKMq48aI</td>\n",
       "      <td>게시일: 2018. 12. 29.</td>\n",
       "      <td>댓글 746개</td>\n",
       "    </tr>\n",
       "    <tr>\n",
       "      <th>4</th>\n",
       "      <td>[Eng] 연말파티에 딱! 화려한-브라운메이크업🥂✨ l 이사배(RISABAE Mak...</td>\n",
       "      <td>https://i.ytimg.com/vi/hQ2ffSZuAPw/hqdefault.j...</td>\n",
       "      <td>20만회</td>\n",
       "      <td>3개월 전</td>\n",
       "      <td>http://www.youtube.com/watch?v=hQ2ffSZuAPw</td>\n",
       "      <td>게시일: 2018. 12. 24.</td>\n",
       "      <td>댓글 229개</td>\n",
       "    </tr>\n",
       "  </tbody>\n",
       "</table>\n",
       "</div>"
      ],
      "text/plain": [
       "                                                name  \\\n",
       "0  1999st 메이크업하고 힙합우상★타이거JK님★만나기!! + 녹음까지🎧 l이사배(R...   \n",
       "1  [Eng] 민낯에 레드립st 메이크업💄 (레드립 꿀팁!) + 이벤트(종료!) l 이...   \n",
       "2  [GRWM] 필카느낌 셀카잘나오는 메이크업📸😏✌🏻같이준비해요! l 이사배(RISAB...   \n",
       "3       2018 잘~썼다! 아이템 TOP 9 🎉 l 이사배(RISABAE Makeup)   \n",
       "4  [Eng] 연말파티에 딱! 화려한-브라운메이크업🥂✨ l 이사배(RISABAE Mak...   \n",
       "\n",
       "                                           thumbnail  view previous_time  \\\n",
       "0  https://i.ytimg.com/vi/3X51q_VEaNA/hqdefault.j...  24만회         2개월 전   \n",
       "1  https://i.ytimg.com/vi/t3p15Qzirjo/hqdefault.j...  74만회         2개월 전   \n",
       "2  https://i.ytimg.com/vi/y0zQgUWpzHk/hqdefault.j...  30만회         3개월 전   \n",
       "3  https://i.ytimg.com/vi/P0-gKMq48aI/hqdefault.j...  98만회         3개월 전   \n",
       "4  https://i.ytimg.com/vi/hQ2ffSZuAPw/hqdefault.j...  20만회         3개월 전   \n",
       "\n",
       "                                    video_url          start_date    comment  \n",
       "0  http://www.youtube.com/watch?v=3X51q_VEaNA   게시일: 2019. 1. 12.    댓글 835개  \n",
       "1  http://www.youtube.com/watch?v=t3p15Qzirjo   게시일: 2019. 1. 11.  댓글 1,291개  \n",
       "2  http://www.youtube.com/watch?v=y0zQgUWpzHk    게시일: 2019. 1. 4.    댓글 313개  \n",
       "3  http://www.youtube.com/watch?v=P0-gKMq48aI  게시일: 2018. 12. 29.    댓글 746개  \n",
       "4  http://www.youtube.com/watch?v=hQ2ffSZuAPw  게시일: 2018. 12. 24.    댓글 229개  "
      ]
     },
     "execution_count": 30,
     "metadata": {},
     "output_type": "execute_result"
    }
   ],
   "source": [
    "isabe"
   ]
  },
  {
   "cell_type": "code",
   "execution_count": 178,
   "metadata": {},
   "outputs": [],
   "source": [
    "start_url = isabe_url[1]\n"
   ]
  },
  {
   "cell_type": "code",
   "execution_count": 90,
   "metadata": {},
   "outputs": [],
   "source": [
    "delay = 3\n",
    "browser = Chrome()\n",
    "browser.implicitly_wait(delay)"
   ]
  },
  {
   "cell_type": "code",
   "execution_count": 180,
   "metadata": {},
   "outputs": [],
   "source": [
    "browser.get(start_url)  "
   ]
  },
  {
   "cell_type": "code",
   "execution_count": 181,
   "metadata": {},
   "outputs": [],
   "source": [
    "body = browser.find_element_by_tag_name('body')"
   ]
  },
  {
   "cell_type": "code",
   "execution_count": 134,
   "metadata": {},
   "outputs": [],
   "source": [
    "num_of_pagedowns = 20\n",
    "while num_of_pagedowns:\n",
    "    body.send_keys(Keys.PAGE_DOWN)\n",
    "    time.sleep(2)\n",
    "    num_of_pagedowns -= 1"
   ]
  },
  {
   "cell_type": "code",
   "execution_count": 182,
   "metadata": {},
   "outputs": [],
   "source": [
    "num_of_pagedowns = 7\n",
    "while num_of_pagedowns:\n",
    "    body.send_keys(Keys.PAGE_DOWN)\n",
    "    time.sleep(1)\n",
    "    num_of_pagedowns -= 1"
   ]
  },
  {
   "cell_type": "code",
   "execution_count": 183,
   "metadata": {},
   "outputs": [],
   "source": [
    "html0 = browser.page_source"
   ]
  },
  {
   "cell_type": "code",
   "execution_count": 184,
   "metadata": {},
   "outputs": [],
   "source": [
    "html = BeautifulSoup(html0,'html.parser')"
   ]
  },
  {
   "cell_type": "code",
   "execution_count": 185,
   "metadata": {
    "scrolled": true
   },
   "outputs": [
    {
     "data": {
      "text/plain": [
       "'게시일: 2019. 4. 1.'"
      ]
     },
     "execution_count": 185,
     "metadata": {},
     "output_type": "execute_result"
    }
   ],
   "source": [
    "html.find('span',{'class':'date style-scope ytd-video-secondary-info-renderer'}).text"
   ]
  },
  {
   "cell_type": "code",
   "execution_count": 186,
   "metadata": {},
   "outputs": [
    {
     "data": {
      "text/plain": [
       "'댓글 324개'"
      ]
     },
     "execution_count": 186,
     "metadata": {},
     "output_type": "execute_result"
    }
   ],
   "source": [
    "html.find('h2',{'id':'count'}).find('yt-formatted-string').text"
   ]
  },
  {
   "cell_type": "markdown",
   "metadata": {},
   "source": [
    "# 유튜브 댓글 크롤링"
   ]
  },
  {
   "cell_type": "code",
   "execution_count": null,
   "metadata": {},
   "outputs": [],
   "source": []
  }
 ],
 "metadata": {
  "kernelspec": {
   "display_name": "Python 3",
   "language": "python",
   "name": "python3"
  },
  "language_info": {
   "codemirror_mode": {
    "name": "ipython",
    "version": 3
   },
   "file_extension": ".py",
   "mimetype": "text/x-python",
   "name": "python",
   "nbconvert_exporter": "python",
   "pygments_lexer": "ipython3",
   "version": "3.6.5"
  }
 },
 "nbformat": 4,
 "nbformat_minor": 2
}
