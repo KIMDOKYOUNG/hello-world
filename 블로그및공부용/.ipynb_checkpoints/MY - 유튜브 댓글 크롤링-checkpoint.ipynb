{
 "cells": [
  {
   "cell_type": "markdown",
   "metadata": {},
   "source": [
    "# 영상별 url추출"
   ]
  },
  {
   "cell_type": "code",
   "execution_count": null,
   "metadata": {},
   "outputs": [],
   "source": [
    "html0 = browser.page_source\n",
    "html = BeautifulSoup(html0,'html.parser')\n",
    "video_list0 = html.find('div',{'id':'items'})\n",
    "video_list2 = video_list0.find_all('ytd-grid-video-renderer',{'class':'style-scope ytd-grid-renderer'})"
   ]
  },
  {
   "cell_type": "code",
   "execution_count": null,
   "metadata": {},
   "outputs": [],
   "source": [
    "base_url = 'http://www.youtube.com' #영상별url이 유튜브 기본 url을 포함하지 않기 때문에 꼭 확인해줘야 함\n",
    "isabe_url = []\n",
    "for i in range(len(video_list2)):\n",
    "    url = base_url+video_list2[i].find('a',{'id':'thumbnail'})['href']\n",
    "    isabe_url.append(url)"
   ]
  },
  {
   "cell_type": "code",
   "execution_count": null,
   "metadata": {},
   "outputs": [],
   "source": [
    "start_url = isabe_url[0] #리스트로 만들어져 있는 url중 한개의 url을 이용\n",
    "\n",
    "browser.get(start_url) \n",
    "body = browser.find_element_by_tag_name('body')\n",
    "#웹드라이버로 url접속한 뒤 스크롤 내리기 위한 소스를 받아오는 것"
   ]
  },
  {
   "cell_type": "code",
   "execution_count": null,
   "metadata": {},
   "outputs": [],
   "source": [
    "num_page_down = 1\n",
    "while num_page_down:\n",
    "    body.send_keys(Keys.PAGE_DOWN)\n",
    "    time.sleep(1.5)\n",
    "    num_page_down -= 1       "
   ]
  },
  {
   "cell_type": "code",
   "execution_count": null,
   "metadata": {},
   "outputs": [],
   "source": [
    "#인기순/작성순 선택할 수 있는 영역 클릭\n",
    "browser.find_element_by_xpath('//paper-button[@class=\"dropdown-trigger style-scope yt-dropdown-menu\"]').click()\n",
    "#인기순 카테고리 클릭\n",
    "browser.find_element_by_xpath('//paper-listbox[@class=\"dropdown-content style-scope yt-dropdown-menu\"]/a[1]').click()"
   ]
  },
  {
   "cell_type": "code",
   "execution_count": null,
   "metadata": {},
   "outputs": [],
   "source": [
    "num_page_down = 20\n",
    "while num_page_down:\n",
    "    body.send_keys(Keys.PAGE_DOWN)\n",
    "    time.sleep(1.5)\n",
    "    num_page_down -= 1"
   ]
  },
  {
   "cell_type": "markdown",
   "metadata": {},
   "source": [
    "# 댓글 수집 크롤러"
   ]
  },
  {
   "cell_type": "code",
   "execution_count": null,
   "metadata": {},
   "outputs": [],
   "source": [
    "comment_data = pd.DataFrame({'youtube_id':[],\n",
    "                            'comment':[],\n",
    "                            'like_num':[]})\n",
    "browser = Chrome()#chrome_options=options\n",
    "browser.implicitly_wait(delay)\n",
    "browser.maximize_window()#전체화면이 아니라 최대화하는 방법\n",
    "\n",
    "start_url = isabe_url[0]\n",
    "browser.get(start_url) \n",
    "body = browser.find_element_by_tag_name('body')\n",
    "#웹드라이버로 url접속한 뒤 스크롤 내리기 위한 소스를 받아오는 것\n",
    "\n",
    "time.sleep(2)\n",
    "\n",
    "num_page_down = 1\n",
    "while num_page_down:\n",
    "    body.send_keys(Keys.PAGE_DOWN)\n",
    "    time.sleep(1.5)\n",
    "    num_page_down -= 1\n",
    "\n",
    "#이 세개가 다 되는 코드임 - 자동제어 창을 띄어놔야 코드실행이 빨라짐\n",
    "#browser.find_element_by_xpath('//*[@id=\"sort-menu\"]').click()\n",
    "browser.find_element_by_xpath('//paper-button[@class=\"dropdown-trigger style-scope yt-dropdown-menu\"]').click()\n",
    "#browser.find_element_by_xpath('//paper-menu-button[@class=\"style-scope yt-dropdown-menu\"]').click()\n",
    "#반드시 클릭은 해당 클릭할 화면이 보여야 클릭이 가능하다 당연히 제어하는 것이기 때문에\n",
    "\n",
    "time.sleep(1.5)\n",
    "browser.find_element_by_xpath('//paper-listbox[@class=\"dropdown-content style-scope yt-dropdown-menu\"]/a[1]').click()\n",
    "#driver.find_element_by_xpath('//*[@id=\"menu\"]/a[2]/paper-item/paper-item-body/div[text()=\"최근 날짜순\"]').click()\n",
    "#이렇게 직접 텍스트를 지정해줌으로써 클릭하게 할 수 있음 -> 현재는 인기댓글순임\n",
    "\n",
    "num_page_down = 20\n",
    "while num_page_down:\n",
    "    body.send_keys(Keys.PAGE_DOWN)\n",
    "    time.sleep(1.5)\n",
    "    num_page_down -= 1\n",
    "    \n",
    "html_s0 = browser.page_source\n",
    "html_s = BeautifulSoup(html_s0,'html.parser')\n",
    "\n",
    "comment0 = html_s.find_all('ytd-comment-renderer',{'class':'style-scope ytd-comment-thread-renderer'})\n",
    "\n",
    "for i in range(len(comment0)):\n",
    "    #댓글\n",
    "    comment = comment0[i].find('yt-formatted-string',{'id':'content-text','class':'style-scope ytd-comment-renderer'}).text\n",
    "    \n",
    "    try:\n",
    "        aa = comment0[i].find('span',{'id':'vote-count-left'}).text\n",
    "        #정규표현식으로 숫자만 추출하는 것은 정규표현식에 대한 공부를 더 한 뒤 해결\n",
    "        #re.findall('[0-9]',aa)\n",
    "        #\"\".join(re.findall('[0-9]',aa)) -> 리스트 내부의 문자열의 합\n",
    "        like_num = \"\".join(re.findall('[0-9]',aa)) + \"개\"\n",
    "    except:\n",
    "        like_num = 0\n",
    "        \n",
    "    bb = comment0[i].find('a',{'id':'author-text'}).find('span').text\n",
    "    youtube_id = \"\".join(re.findall('[가-힣0-9a-zA-Z]',bb))\n",
    "    \n",
    "    insert_data =  pd.DataFrame({'youtube_id':[youtube_id],\n",
    "                                               'comment':[comment],\n",
    "                                               'like_num':[like_num]})\n",
    "\n",
    "    comment_data = comment_data.append(insert_data)\n",
    "    \n",
    "comment_data.index = range(len(comment_data))\n"
   ]
  }
 ],
 "metadata": {
  "kernelspec": {
   "display_name": "Python 3",
   "language": "python",
   "name": "python3"
  },
  "language_info": {
   "codemirror_mode": {
    "name": "ipython",
    "version": 3
   },
   "file_extension": ".py",
   "mimetype": "text/x-python",
   "name": "python",
   "nbconvert_exporter": "python",
   "pygments_lexer": "ipython3",
   "version": "3.6.5"
  }
 },
 "nbformat": 4,
 "nbformat_minor": 2
}
