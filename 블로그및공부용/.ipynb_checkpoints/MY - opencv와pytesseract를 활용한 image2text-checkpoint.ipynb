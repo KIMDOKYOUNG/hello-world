{
 "cells": [
  {
   "cell_type": "code",
   "execution_count": 1,
   "metadata": {},
   "outputs": [],
   "source": [
    "from PIL import Image\n",
    "from pytesseract import *\n",
    "import re\n",
    "import cv2\n",
    "import pandas as pd"
   ]
  },
  {
   "cell_type": "code",
   "execution_count": 101,
   "metadata": {},
   "outputs": [],
   "source": [
    "\n",
    "img = Image.open('더블 브레스티드 자켓(SV4JK82)size9.jpg')\n",
    "text = pytesseract.image_to_string(img,lang='kor')\n",
    "\n",
    "size_table = re.split('\\n',text)\n",
    "matchers = ['사이즈(','어깨너비','가슴둘레','소매길이','총장'] #단위와 어깨/암홀로 한 차이가 약 30상품(에러가 30개)차이가 남\n",
    "size = [s for s in size_table if any(xs in s for xs in matchers)]\n",
    "#예외처리해야할 부분이 존재함 -> 사이즈가 리스트로 정리하지 못하게 아예단이 띄어져있는 경우가 있음\n",
    "#규칙파악해서 조건문으로 처리해야할 듯\n",
    "#규칙파악해서 조건문으로 처리해야 하는 것은 split할 때 단 넘기기로 구분하지 말고 다르게 구분한 뒤->단순하게 split함수 사용하면 텍스트만 분리됨\n",
    "#''.join사용\n"
   ]
  },
  {
   "cell_type": "code",
   "execution_count": 13,
   "metadata": {},
   "outputs": [],
   "source": [
    "size2 = []\n",
    "for i in range(len(size)):\n",
    "    size2.append(size[i].split())"
   ]
  },
  {
   "cell_type": "code",
   "execution_count": 14,
   "metadata": {},
   "outputs": [
    {
     "data": {
      "text/plain": [
       "[['사이즈(5126)', '055', '066', '067'],\n",
       " ['흥', '1는몰라', '어깨너비', '37.5', '38.6', '39.4'],\n",
       " ['멀', '가슴둘레', '88.3', '93.6', '98.4'],\n",
       " ['소매길이', '01', '012', '64.5'],\n",
       " ['총장', '67.3', '67.9', '68.6']]"
      ]
     },
     "execution_count": 14,
     "metadata": {},
     "output_type": "execute_result"
    }
   ],
   "source": [
    "size2"
   ]
  },
  {
   "cell_type": "code",
   "execution_count": 23,
   "metadata": {},
   "outputs": [],
   "source": [
    "size3=[]\n",
    "for i in range(len(size2)):\n",
    "    if len(size2[i]) == len(size2[0]):\n",
    "        size3.append(size2[i])\n",
    "    else:\n",
    "        diff = len(size2[i]) - len(size2[0])\n",
    "        size3.append(size2[i][diff:])"
   ]
  },
  {
   "cell_type": "code",
   "execution_count": 24,
   "metadata": {
    "scrolled": true
   },
   "outputs": [
    {
     "data": {
      "text/plain": [
       "[['사이즈(5126)', '055', '066', '067'],\n",
       " ['어깨너비', '37.5', '38.6', '39.4'],\n",
       " ['가슴둘레', '88.3', '93.6', '98.4'],\n",
       " ['소매길이', '01', '012', '64.5'],\n",
       " ['총장', '67.3', '67.9', '68.6']]"
      ]
     },
     "execution_count": 24,
     "metadata": {},
     "output_type": "execute_result"
    }
   ],
   "source": [
    "size3"
   ]
  },
  {
   "cell_type": "code",
   "execution_count": 27,
   "metadata": {},
   "outputs": [],
   "source": [
    "size4 = list(map(list, zip(*size3))) #리스트를 transpose하는 법\n"
   ]
  },
  {
   "cell_type": "code",
   "execution_count": 29,
   "metadata": {
    "scrolled": true
   },
   "outputs": [
    {
     "data": {
      "text/plain": [
       "[['사이즈', '어깨너비', '가슴둘레', '소매길이', '총장'],\n",
       " ['055', '37.5', '88.3', '01', '67.3'],\n",
       " ['066', '38.6', '93.6', '012', '67.9'],\n",
       " ['067', '39.4', '98.4', '64.5', '68.6']]"
      ]
     },
     "execution_count": 29,
     "metadata": {},
     "output_type": "execute_result"
    }
   ],
   "source": [
    "size4"
   ]
  },
  {
   "cell_type": "code",
   "execution_count": null,
   "metadata": {},
   "outputs": [],
   "source": [
    "\n",
    "df_size = pd.DataFrame(size4[1:], columns = size4[0])"
   ]
  },
  {
   "cell_type": "code",
   "execution_count": 26,
   "metadata": {},
   "outputs": [
    {
     "data": {
      "text/html": [
       "<div>\n",
       "<style scoped>\n",
       "    .dataframe tbody tr th:only-of-type {\n",
       "        vertical-align: middle;\n",
       "    }\n",
       "\n",
       "    .dataframe tbody tr th {\n",
       "        vertical-align: top;\n",
       "    }\n",
       "\n",
       "    .dataframe thead th {\n",
       "        text-align: right;\n",
       "    }\n",
       "</style>\n",
       "<table border=\"1\" class=\"dataframe\">\n",
       "  <thead>\n",
       "    <tr style=\"text-align: right;\">\n",
       "      <th></th>\n",
       "      <th>사이즈</th>\n",
       "      <th>어깨너비</th>\n",
       "      <th>가슴둘레</th>\n",
       "      <th>소매길이</th>\n",
       "      <th>총장</th>\n",
       "    </tr>\n",
       "  </thead>\n",
       "  <tbody>\n",
       "    <tr>\n",
       "      <th>0</th>\n",
       "      <td>055</td>\n",
       "      <td>37.5</td>\n",
       "      <td>88.3</td>\n",
       "      <td>01</td>\n",
       "      <td>67.3</td>\n",
       "    </tr>\n",
       "    <tr>\n",
       "      <th>1</th>\n",
       "      <td>066</td>\n",
       "      <td>38.6</td>\n",
       "      <td>93.6</td>\n",
       "      <td>012</td>\n",
       "      <td>67.9</td>\n",
       "    </tr>\n",
       "    <tr>\n",
       "      <th>2</th>\n",
       "      <td>067</td>\n",
       "      <td>39.4</td>\n",
       "      <td>98.4</td>\n",
       "      <td>64.5</td>\n",
       "      <td>68.6</td>\n",
       "    </tr>\n",
       "  </tbody>\n",
       "</table>\n",
       "</div>"
      ],
      "text/plain": [
       "   사이즈  어깨너비  가슴둘레  소매길이    총장\n",
       "0  055  37.5  88.3    01  67.3\n",
       "1  066  38.6  93.6   012  67.9\n",
       "2  067  39.4  98.4  64.5  68.6"
      ]
     },
     "execution_count": 26,
     "metadata": {},
     "output_type": "execute_result"
    }
   ],
   "source": [
    "df_size"
   ]
  },
  {
   "cell_type": "markdown",
   "metadata": {},
   "source": [
    "# opencv를 활용한 전처리"
   ]
  },
  {
   "cell_type": "code",
   "execution_count": 30,
   "metadata": {},
   "outputs": [],
   "source": [
    "image = cv2.imread('ocr테스트이미지.jpg')"
   ]
  },
  {
   "cell_type": "code",
   "execution_count": 34,
   "metadata": {
    "scrolled": true
   },
   "outputs": [
    {
     "ename": "TypeError",
     "evalue": "Expected cv::UMat for argument 'src'",
     "output_type": "error",
     "traceback": [
      "\u001b[1;31m---------------------------------------------------------------------------\u001b[0m",
      "\u001b[1;31mTypeError\u001b[0m                                 Traceback (most recent call last)",
      "\u001b[1;32m<ipython-input-34-b7b4c86ca4bd>\u001b[0m in \u001b[0;36m<module>\u001b[1;34m()\u001b[0m\n\u001b[1;32m----> 1\u001b[1;33m \u001b[0mgray\u001b[0m \u001b[1;33m=\u001b[0m \u001b[0mcv2\u001b[0m\u001b[1;33m.\u001b[0m\u001b[0mcvtColor\u001b[0m\u001b[1;33m(\u001b[0m\u001b[0mimg\u001b[0m\u001b[1;33m,\u001b[0m \u001b[0mcv2\u001b[0m\u001b[1;33m.\u001b[0m\u001b[0mCOLOR_BGR2GRAY\u001b[0m\u001b[1;33m)\u001b[0m\u001b[1;33m\u001b[0m\u001b[0m\n\u001b[0m",
      "\u001b[1;31mTypeError\u001b[0m: Expected cv::UMat for argument 'src'"
     ]
    }
   ],
   "source": [
    "gray = cv2.cvtColor(img, cv2.COLOR_BGR2GRAY)"
   ]
  },
  {
   "cell_type": "code",
   "execution_count": null,
   "metadata": {},
   "outputs": [],
   "source": []
  },
  {
   "cell_type": "code",
   "execution_count": 2,
   "metadata": {},
   "outputs": [],
   "source": [
    "\n",
    "img = Image.open('surprise_test.jpg')\n",
    "\n",
    "\n",
    "\n",
    "\n",
    "#규칙파악해서 조건문으로 처리해야할 듯\n",
    "#규칙파악해서 조건문으로 처리해야 하는 것은 split할 때 단 넘기기로 구분하지 말고 다르게 구분한 뒤->단순하게 split함수 사용하면 텍스트만 분리됨\n",
    "#''.join사용\n"
   ]
  },
  {
   "cell_type": "code",
   "execution_count": 5,
   "metadata": {},
   "outputs": [],
   "source": [
    "text = pytesseract.image_to_string(img,lang='eng')"
   ]
  },
  {
   "cell_type": "code",
   "execution_count": 6,
   "metadata": {
    "scrolled": true
   },
   "outputs": [
    {
     "name": "stdout",
     "output_type": "stream",
     "text": [
      "import pandas as pd\n",
      "Ser see acl\n",
      "\n",
      "caer ee ee\n",
      "\n",
      "reo\n",
      "creo\n",
      "cae\n",
      "ae\n",
      "reo\n",
      "Src\n",
      "Sree\n",
      "Sree\n",
      "reo\n",
      "creo\n",
      "cae\n",
      "\n",
      "ae\n",
      "\n",
      "Sree ees ae Ce ean omc ECL\n",
      "\n",
      "reid\n",
      "er Sees\n",
      "ree as\n",
      "reed\n",
      "reed\n",
      "rs ees\n",
      "reed\n",
      "read\n",
      "reed\n",
      "rE Sees\n",
      "\n",
      "reed\n",
      "\n",
      "ety acs\n",
      "rOnCEESts\n",
      "\n",
      "CO eg sc\n",
      "POneercraes\n",
      "PONCE eSetS\n",
      "Ei)\n",
      "\n",
      "CEES eure Lay\n",
      "By\n",
      "\n",
      "ra\n",
      "\n",
      "Steed\n",
      "erent sur\n",
      "\n",
      "Sat staal met eT\n",
      "\n",
      "Rarer as tM cae Cacti Cag\n",
      "\n",
      "Re tee ee as CU eae Uae eed\n"
     ]
    }
   ],
   "source": [
    "print(text)"
   ]
  },
  {
   "cell_type": "code",
   "execution_count": null,
   "metadata": {},
   "outputs": [],
   "source": []
  }
 ],
 "metadata": {
  "kernelspec": {
   "display_name": "Python 3",
   "language": "python",
   "name": "python3"
  },
  "language_info": {
   "codemirror_mode": {
    "name": "ipython",
    "version": 3
   },
   "file_extension": ".py",
   "mimetype": "text/x-python",
   "name": "python",
   "nbconvert_exporter": "python",
   "pygments_lexer": "ipython3",
   "version": "3.6.5"
  }
 },
 "nbformat": 4,
 "nbformat_minor": 2
}
