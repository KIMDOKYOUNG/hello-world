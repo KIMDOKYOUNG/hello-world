{
 "cells": [
  {
   "cell_type": "markdown",
   "metadata": {},
   "source": [
    "# Recommendation\n",
    "#### ex)넷플릭스,왓챠"
   ]
  },
  {
   "cell_type": "markdown",
   "metadata": {},
   "source": [
    "### popularity, high rated based 추천 시스템\n",
    "#### 가장 쉽게 인기도, 높은 평점을 갖는 item을 추천가능\n",
    "#### 모두에게 동일한 item이 추천"
   ]
  },
  {
   "cell_type": "code",
   "execution_count": 3,
   "metadata": {},
   "outputs": [],
   "source": [
    "#데이터를 튜플형식으로 나타냄\n",
    "ratings={\n",
    "     'Dave':{'달콤한인생':5,'범죄도시':3,'샤인':3},\n",
    "     'David':{'달콤한인생':5,'범죄도시':1,'샤인':4},\n",
    "     'Alex':{'달콤한인생':0,'범죄도시':4,'샤인':5},\n",
    "     'Andy':{'달콤한인생':2,'범죄도시':1,'샤인':5}\n",
    "}"
   ]
  },
  {
   "cell_type": "code",
   "execution_count": 30,
   "metadata": {},
   "outputs": [
    {
     "data": {
      "text/plain": [
       "dict"
      ]
     },
     "execution_count": 30,
     "metadata": {},
     "output_type": "execute_result"
    }
   ],
   "source": [
    "type(ratings)"
   ]
  },
  {
   "cell_type": "code",
   "execution_count": 10,
   "metadata": {},
   "outputs": [
    {
     "data": {
      "text/plain": [
       "{'달콤한인생': 5, '범죄도시': 3, '샤인': 3}"
      ]
     },
     "execution_count": 10,
     "metadata": {},
     "output_type": "execute_result"
    }
   ],
   "source": [
    "ratings['Dave']#['달콤한인생']"
   ]
  },
  {
   "cell_type": "markdown",
   "metadata": {},
   "source": [
    "#### 즉 해당 추천 시스템에서는 평점이 높은순서대로 item을 추천해주면 됨"
   ]
  },
  {
   "cell_type": "code",
   "execution_count": 12,
   "metadata": {},
   "outputs": [
    {
     "data": {
      "text/plain": [
       "dict_keys(['달콤한인생', '범죄도시', '샤인'])"
      ]
     },
     "execution_count": 12,
     "metadata": {},
     "output_type": "execute_result"
    }
   ],
   "source": [
    "ratings['Dave'].keys()"
   ]
  },
  {
   "cell_type": "code",
   "execution_count": 13,
   "metadata": {},
   "outputs": [],
   "source": [
    "#영화들의 평점 합을 구하기\n",
    "movie_dict = dict()\n",
    "for rating in ratings:\n",
    "    for movie in ratings[rating].keys():\n",
    "        if movie not in movie_dict:\n",
    "            movie_dict[movie] = ratings[rating][movie]\n",
    "        else:\n",
    "            movie_dict[movie] = (movie_dict[movie] + ratings[rating][movie]) \n"
   ]
  },
  {
   "cell_type": "code",
   "execution_count": 20,
   "metadata": {},
   "outputs": [],
   "source": [
    "#영화별로 평균 내기\n",
    "for i in movie_dict.keys():\n",
    "    movie_dict[i] = movie_dict[i]/4"
   ]
  },
  {
   "cell_type": "code",
   "execution_count": 21,
   "metadata": {},
   "outputs": [
    {
     "data": {
      "text/plain": [
       "{'달콤한인생': 3.0, '범죄도시': 2.25, '샤인': 4.25}"
      ]
     },
     "execution_count": 21,
     "metadata": {},
     "output_type": "execute_result"
    }
   ],
   "source": [
    "movie_dict"
   ]
  },
  {
   "cell_type": "code",
   "execution_count": 25,
   "metadata": {},
   "outputs": [],
   "source": [
    "import operator\n",
    "#영화별 아이템화 한 후 평점 높은 순 2개 추천해주기\n",
    "#튜플 형식을 내림차순 정렬한 후 리스트화\n",
    "sorted_x = sorted(movie_dict.items(),key=operator.itemgetter(1),reverse=True)"
   ]
  },
  {
   "cell_type": "code",
   "execution_count": 26,
   "metadata": {},
   "outputs": [
    {
     "data": {
      "text/plain": [
       "[('샤인', 4.25), ('달콤한인생', 3.0), ('범죄도시', 2.25)]"
      ]
     },
     "execution_count": 26,
     "metadata": {},
     "output_type": "execute_result"
    }
   ],
   "source": [
    "sorted_x"
   ]
  },
  {
   "cell_type": "code",
   "execution_count": 29,
   "metadata": {
    "scrolled": true
   },
   "outputs": [
    {
     "data": {
      "text/plain": [
       "[('샤인', 4.25), ('달콤한인생', 3.0)]"
      ]
     },
     "execution_count": 29,
     "metadata": {},
     "output_type": "execute_result"
    }
   ],
   "source": [
    "sorted_x[0:2]"
   ]
  },
  {
   "cell_type": "markdown",
   "metadata": {},
   "source": [
    "#### 이처럼 popularity추천시스템은 단순히 평점이 높은 순으로 추천해주는 것이다."
   ]
  },
  {
   "cell_type": "code",
   "execution_count": null,
   "metadata": {},
   "outputs": [],
   "source": []
  },
  {
   "cell_type": "markdown",
   "metadata": {},
   "source": [
    "# collaborative filtering"
   ]
  },
  {
   "cell_type": "markdown",
   "metadata": {},
   "source": [
    "#### 데이터 구성 : 라용자가 입력한 선호도를 사용하여 사용자-item의 선호도행렬을 만든다\n",
    "#### 유사도 계산 : 1단계에서 만들어진 행렬을 사용하여 사용자들간의 유사도 계산(euclidian,cosine)\n",
    "#### 예측 값 계산 및 추천 목록 생성 : 사용자들 간의 유사도를 바탕으로 모든 항목에 대해 예측값을 계산하고 높은 예측값을 갖는 상위 n개의 추천 목록을 생성한다."
   ]
  },
  {
   "cell_type": "code",
   "execution_count": 31,
   "metadata": {},
   "outputs": [],
   "source": [
    "ratings={\n",
    "     'Dave':{'달콤한인생':5,'범죄도시':3,'샤인':3},\n",
    "     'David':{'달콤한인생':2,'범죄도시':1,'샤인':4},\n",
    "     'Alex':{'범죄도시':4,'샤인':5},\n",
    "     'Andy':{'달콤한인생':2,'범죄도시':1,'샤인':5}\n",
    "}"
   ]
  },
  {
   "cell_type": "code",
   "execution_count": 32,
   "metadata": {
    "scrolled": true
   },
   "outputs": [
    {
     "data": {
      "text/plain": [
       "{'Dave': {'달콤한인생': 5, '범죄도시': 3, '샤인': 3},\n",
       " 'David': {'달콤한인생': 2, '범죄도시': 1, '샤인': 4},\n",
       " 'Alex': {'범죄도시': 4, '샤인': 5},\n",
       " 'Andy': {'달콤한인생': 2, '범죄도시': 1, '샤인': 5}}"
      ]
     },
     "execution_count": 32,
     "metadata": {},
     "output_type": "execute_result"
    }
   ],
   "source": [
    "ratings"
   ]
  },
  {
   "cell_type": "code",
   "execution_count": 34,
   "metadata": {},
   "outputs": [
    {
     "data": {
      "text/plain": [
       "{'달콤한인생': 5, '범죄도시': 3, '샤인': 3}"
      ]
     },
     "execution_count": 34,
     "metadata": {},
     "output_type": "execute_result"
    }
   ],
   "source": [
    "ratings['Dave']"
   ]
  },
  {
   "cell_type": "code",
   "execution_count": 35,
   "metadata": {},
   "outputs": [
    {
     "data": {
      "text/plain": [
       "3"
      ]
     },
     "execution_count": 35,
     "metadata": {},
     "output_type": "execute_result"
    }
   ],
   "source": [
    "#딕셔너리형식은 .get method를 통해서 value산출 가능\n",
    "ratings['Dave'].get('샤인')"
   ]
  },
  {
   "cell_type": "markdown",
   "metadata": {},
   "source": [
    "유사도구하기(피타고라스)"
   ]
  },
  {
   "cell_type": "code",
   "execution_count": 36,
   "metadata": {},
   "outputs": [],
   "source": [
    "import math"
   ]
  },
  {
   "cell_type": "code",
   "execution_count": 48,
   "metadata": {},
   "outputs": [],
   "source": [
    "def sim(i,j):\n",
    "    return math.sqrt(pow(i,2)+pow(j,2))#pow(a,b) = a**b"
   ]
  },
  {
   "cell_type": "code",
   "execution_count": 44,
   "metadata": {},
   "outputs": [],
   "source": [
    "var1 = ratings['Alex'].get('범죄도시') -ratings['Andy'].get('범죄도시')"
   ]
  },
  {
   "cell_type": "code",
   "execution_count": 45,
   "metadata": {},
   "outputs": [],
   "source": [
    "var2 =  ratings['Alex'].get('샤인') -ratings['Andy'].get('샤인')"
   ]
  },
  {
   "cell_type": "code",
   "execution_count": 49,
   "metadata": {},
   "outputs": [
    {
     "data": {
      "text/plain": [
       "3.0"
      ]
     },
     "execution_count": 49,
     "metadata": {},
     "output_type": "execute_result"
    }
   ],
   "source": [
    "sim(var1,var2)"
   ]
  },
  {
   "cell_type": "markdown",
   "metadata": {},
   "source": [
    "alex가 평가한 범죄도시, 샤인을  평가한 다른 사용자와의 거리 구하기(유사도 구하기)"
   ]
  },
  {
   "cell_type": "code",
   "execution_count": 51,
   "metadata": {},
   "outputs": [
    {
     "name": "stdout",
     "output_type": "stream",
     "text": [
      "Dave : 2.23606797749979\n",
      "David : 3.1622776601683795\n",
      "Andy : 3.0\n"
     ]
    }
   ],
   "source": [
    "for i in ratings:\n",
    "    if i == 'Alex':\n",
    "        pass\n",
    "    else:\n",
    "        var1 = ratings['Alex'].get('범죄도시') -ratings[i].get('범죄도시')\n",
    "        var2 = ratings['Alex'].get('샤인') -ratings[i].get('샤인')\n",
    "        print(i + ' : ' + str(sim(var1,var2)))"
   ]
  },
  {
   "cell_type": "markdown",
   "metadata": {},
   "source": [
    "유사도가 0-1사이에 위치하고 1과 가까울수록 유사도가 높아지도록 변경"
   ]
  },
  {
   "cell_type": "code",
   "execution_count": 52,
   "metadata": {},
   "outputs": [
    {
     "name": "stdout",
     "output_type": "stream",
     "text": [
      "Dave : 0.3090169943749474\n",
      "David : 0.2402530733520421\n",
      "Andy : 0.25\n"
     ]
    }
   ],
   "source": [
    "for i in ratings:\n",
    "    if i == 'Alex':\n",
    "        pass\n",
    "    else:\n",
    "        var1 = ratings['Alex'].get('범죄도시') -ratings[i].get('범죄도시')\n",
    "        var2 = ratings['Alex'].get('샤인') -ratings[i].get('샤인')\n",
    "        print(i + ' : ' + str(1/(1+sim(var1,var2))))"
   ]
  },
  {
   "cell_type": "markdown",
   "metadata": {},
   "source": [
    "# 유사도 계산 방식"
   ]
  },
  {
   "cell_type": "markdown",
   "metadata": {},
   "source": [
    "1. 평균제곱차이 유사도(msd)  \n",
    "2. 코사인 유사도  \n",
    "3. 피어슨 유사도"
   ]
  },
  {
   "cell_type": "markdown",
   "metadata": {},
   "source": [
    "#### 1. 평균제곱차이 유사도  \n",
    "* user-based collaborative filter  \n",
    "사용자 u와 v간의 msd = 사용자 u,v가 평가한 상품들의 평점간의 차의 제곱 / 사용자 u,v모두 평가한 **상품의 수**    \n",
    "* item-based collaborative filter  \n",
    "분모를 상품i와 상품j모두를 평가한 **사용자**의 수  \n",
    "따라서 유사도를 구하기 위해서는 1에 가까울수록 높게 만들기 위해서 역수 취급으로 하여 유사도를 구한다"
   ]
  },
  {
   "cell_type": "code",
   "execution_count": 54,
   "metadata": {},
   "outputs": [],
   "source": [
    "def sim_msd(data,name1,name2):\n",
    "    sum = 0\n",
    "    count = 0\n",
    "    for movie in data[name1]:\n",
    "        if movie in data[name2]: #name1유저와 name2유저가 같은 영화를 봤는지 확인하기 위해서\n",
    "            sum += pow(data[name1][movie] - data[name2][movie],2)\n",
    "            count += 1\n",
    "            \n",
    "    return sum/count\n",
    "            "
   ]
  },
  {
   "cell_type": "code",
   "execution_count": 55,
   "metadata": {},
   "outputs": [
    {
     "data": {
      "text/plain": [
       "0.2857142857142857"
      ]
     },
     "execution_count": 55,
     "metadata": {},
     "output_type": "execute_result"
    }
   ],
   "source": [
    "1/(1+sim_msd(ratings,'Dave','Alex')) #데이브와 알렉스의 유사도"
   ]
  },
  {
   "cell_type": "code",
   "execution_count": 56,
   "metadata": {},
   "outputs": [
    {
     "data": {
      "text/plain": [
       "0.15"
      ]
     },
     "execution_count": 56,
     "metadata": {},
     "output_type": "execute_result"
    }
   ],
   "source": [
    "1/(1+sim_msd(ratings,'Dave','Andy'))#데이브와 앤디의 유사도"
   ]
  },
  {
   "cell_type": "markdown",
   "metadata": {},
   "source": [
    "#### 2. 코사인유사도\n",
    "* 코사인 유사도는 두 특성 벡터간의 유사 정도를 코사인 값으로 표현한 것 -> w2v에서 주로 사용  \n",
    "* 코사인 유사도는 [-1,1]의 범위값을 가지며 -1은 완전히 반대되는 경우 0은 독립 1은 완전이 같은 경우  \n",
    "* cos = x * y / abs(x) * abs(y)  \n",
    "* 코사인유사도도 마찬가지로 같은 영화를 본 것에 대해서 계산을 해야한다\n",
    "* cosine_sim(u,v) = sum((u의평점) * (v의평점)) / sqrt(sum(u의평점^2)) * sqrt(sum(v의평점^2))  \n",
    "* cosine_sim(i,j) = 상품간의 유사도도 마찬가지  \n",
    "* 스칼라곱 - 두벡터로 스칼라를 계산하는 연산 a벡터 * b 벡터 = sum(ai * bi)\n",
    "* 따라서 w2v에서 변수간의 코사인 유사도를 도출할 때 위의 식으로 도출하는 것이다 열을 기준으로  \n",
    "* a열과 b열간의 유사도를 구하는 것이기 때문에 코사인 유사도를 구하려면 열을 기준으로 구하자 생각해보니 행도 가능할듯?  "
   ]
  },
  {
   "cell_type": "code",
   "execution_count": 57,
   "metadata": {},
   "outputs": [
    {
     "data": {
      "text/plain": [
       "{'Dave': {'달콤한인생': 5, '범죄도시': 3, '샤인': 3},\n",
       " 'David': {'달콤한인생': 2, '범죄도시': 1, '샤인': 4},\n",
       " 'Alex': {'범죄도시': 4, '샤인': 5},\n",
       " 'Andy': {'달콤한인생': 2, '범죄도시': 1, '샤인': 5}}"
      ]
     },
     "execution_count": 57,
     "metadata": {},
     "output_type": "execute_result"
    }
   ],
   "source": [
    "ratings"
   ]
  },
  {
   "cell_type": "code",
   "execution_count": 60,
   "metadata": {},
   "outputs": [],
   "source": [
    "def sim_cosine(data,name1,name2):\n",
    "    cos1 = 0\n",
    "    cos2 = 0\n",
    "    cos1_cos2 = 0\n",
    "    for i in data[name1]:\n",
    "        if i in data[name2]:\n",
    "            cos1 += pow(data[name1][i],2)\n",
    "            cos2 += pow(data[name2][i],2)\n",
    "            cos1_cos2 += data[name1][i]*data[name2][i]\n",
    "    return cos1_cos2/(math.sqrt(cos1)*math.sqrt(cos2))"
   ]
  },
  {
   "cell_type": "code",
   "execution_count": 64,
   "metadata": {},
   "outputs": [
    {
     "data": {
      "text/plain": [
       "0.9938837346736189"
      ]
     },
     "execution_count": 64,
     "metadata": {},
     "output_type": "execute_result"
    }
   ],
   "source": [
    "#dave와 가장 유사한 사용자는?\n",
    "sim_cosine(ratings,'Dave','Alex')"
   ]
  },
  {
   "cell_type": "code",
   "execution_count": 65,
   "metadata": {},
   "outputs": [
    {
     "data": {
      "text/plain": [
       "0.8319479070496523"
      ]
     },
     "execution_count": 65,
     "metadata": {},
     "output_type": "execute_result"
    }
   ],
   "source": [
    "sim_cosine(ratings,'Dave','David')"
   ]
  },
  {
   "cell_type": "code",
   "execution_count": 66,
   "metadata": {},
   "outputs": [
    {
     "data": {
      "text/plain": [
       "0.7795844649455863"
      ]
     },
     "execution_count": 66,
     "metadata": {},
     "output_type": "execute_result"
    }
   ],
   "source": [
    "sim_cosine(ratings,'Dave','Andy')"
   ]
  },
  {
   "cell_type": "markdown",
   "metadata": {},
   "source": [
    "#### 피어슨 유사도\n",
    "* 피어슨 유사도는 두 벡터의 상관계수를 의미한다  \n",
    "* 특정인물의 점수기준이 극단적으로 너무 낮거나 높을 경우 유사도에 영향을 크게 주기 때문에 이를 막기 위해 상관계수를 사용  \n",
    "* user based pearson sim =  \n",
    "                           sum((u의평점-u의평균평점) * (v의평점-v의평균평점)) /     sqrt(sum((u의평점-u의평균평점)^2)) * sqrt(sum((v의평점-v의평균평점)^2))  \n",
    "* item기반도 마찬가지"
   ]
  },
  {
   "cell_type": "code",
   "execution_count": 72,
   "metadata": {},
   "outputs": [],
   "source": [
    "def sim_pearson(data, name1, name2):\n",
    "    avg_name1 = 0\n",
    "    avg_name2 = 0\n",
    "    count = 0\n",
    "    for movies in data[name1]:\n",
    "        if movies in data[name2]: #같은 영화를 봤다면\n",
    "            avg_name1 = data[name1][movies]\n",
    "            avg_name2 = data[name2][movies]\n",
    "            count += 1\n",
    "    \n",
    "    avg_name1 = avg_name1 / count\n",
    "    avg_name2 = avg_name2 / count\n",
    "    \n",
    "    sum_name1 = 0\n",
    "    sum_name2 = 0\n",
    "    sum_name1_name2 = 0\n",
    "    count = 0\n",
    "    for movies in data[name1]:\n",
    "        if movies in data[name2]: #같은 영화를 봤다면\n",
    "            sum_name1 += pow(data[name1][movies] - avg_name1, 2)\n",
    "            sum_name2 += pow(data[name2][movies] - avg_name2, 2)\n",
    "            sum_name1_name2 += (data[name1][movies] - avg_name1) * (data[name2][movies] - avg_name2)\n",
    "    \n",
    "    return sum_name1_name2 / (math.sqrt(sum_name1)*math.sqrt(sum_name2))"
   ]
  },
  {
   "cell_type": "code",
   "execution_count": 74,
   "metadata": {},
   "outputs": [
    {
     "data": {
      "text/plain": [
       "0.970142500145332"
      ]
     },
     "execution_count": 74,
     "metadata": {},
     "output_type": "execute_result"
    }
   ],
   "source": [
    "sim_pearson(ratings,'Dave','Alex')"
   ]
  },
  {
   "cell_type": "code",
   "execution_count": 75,
   "metadata": {},
   "outputs": [],
   "source": [
    "def top_match(data,name,index=3,sim_function=sim_pearson):\n",
    "    li = []\n",
    "    for i in data:\n",
    "        if i != name:\n",
    "            li.append((sim_function(data,name,i),i))#sim_function()의 피어슨 상관계수 추출\n",
    "    li.sort()#정렬\n",
    "    li.reverse()#내림차순\n",
    "    return li[:index]"
   ]
  },
  {
   "cell_type": "code",
   "execution_count": 78,
   "metadata": {},
   "outputs": [
    {
     "data": {
      "text/plain": [
       "[(0.970142500145332, 'Alex'),\n",
       " (0.5406205059012895, 'David'),\n",
       " (0.39840953644479793, 'Andy')]"
      ]
     },
     "execution_count": 78,
     "metadata": {},
     "output_type": "execute_result"
    }
   ],
   "source": [
    "top_match(ratings,'Dave',3)"
   ]
  },
  {
   "cell_type": "code",
   "execution_count": 79,
   "metadata": {},
   "outputs": [
    {
     "data": {
      "text/plain": [
       "[(0.9938837346736189, 'Alex'),\n",
       " (0.8319479070496523, 'David'),\n",
       " (0.7795844649455863, 'Andy')]"
      ]
     },
     "execution_count": 79,
     "metadata": {},
     "output_type": "execute_result"
    }
   ],
   "source": [
    "top_match(ratings,'Dave',3,sim_function=sim_cosine)"
   ]
  },
  {
   "cell_type": "markdown",
   "metadata": {},
   "source": [
    "# 유사도와 knn을 활용한 예측 값 계산 및 추천 목록 생성"
   ]
  },
  {
   "cell_type": "markdown",
   "metadata": {},
   "source": [
    "https://www.fun-coding.org/recommend_basic4.html"
   ]
  },
  {
   "cell_type": "code",
   "execution_count": null,
   "metadata": {},
   "outputs": [],
   "source": []
  }
 ],
 "metadata": {
  "kernelspec": {
   "display_name": "Python 3",
   "language": "python",
   "name": "python3"
  },
  "language_info": {
   "codemirror_mode": {
    "name": "ipython",
    "version": 3
   },
   "file_extension": ".py",
   "mimetype": "text/x-python",
   "name": "python",
   "nbconvert_exporter": "python",
   "pygments_lexer": "ipython3",
   "version": "3.6.5"
  }
 },
 "nbformat": 4,
 "nbformat_minor": 2
}
