{
 "cells": [
  {
   "cell_type": "code",
   "execution_count": 3,
   "metadata": {},
   "outputs": [],
   "source": [
    "from __future__ import print_function\n",
    "import matplotlib.pylab as plt\n",
    "import pandas as pd\n",
    "import urllib.request\n",
    "from urllib import request"
   ]
  },
  {
   "cell_type": "code",
   "execution_count": 1,
   "metadata": {},
   "outputs": [],
   "source": [
    "import pandas as pd\n",
    "from plotnine import *\n",
    "import warnings\n",
    "warnings.filterwarnings(action='ignore') "
   ]
  },
  {
   "cell_type": "markdown",
   "metadata": {},
   "source": [
    "# 1. url 데이터 불러오기"
   ]
  },
  {
   "cell_type": "code",
   "execution_count": 4,
   "metadata": {},
   "outputs": [
    {
     "data": {
      "text/plain": [
       "('es.txt', <http.client.HTTPMessage at 0x21d51eb1160>)"
      ]
     },
     "execution_count": 4,
     "metadata": {},
     "output_type": "execute_result"
    }
   ],
   "source": [
    "#url로 되어 있는 파일 저장하기\n",
    "request.urlretrieve('https://www.stoxx.com/document/Indices/Current/HistoricalData/hbrbcpe.txt','es.txt')"
   ]
  },
  {
   "cell_type": "code",
   "execution_count": 5,
   "metadata": {},
   "outputs": [
    {
     "data": {
      "text/plain": [
       "('vs.txt', <http.client.HTTPMessage at 0x21d51eb15c0>)"
      ]
     },
     "execution_count": 5,
     "metadata": {},
     "output_type": "execute_result"
    }
   ],
   "source": [
    "request.urlretrieve('https://www.stoxx.com/document/Indices/Current/HistoricalData/h_vstoxx.txt','vs.txt')"
   ]
  },
  {
   "cell_type": "code",
   "execution_count": 6,
   "metadata": {},
   "outputs": [],
   "source": [
    "lines = open('es.txt', 'r').readlines()\n",
    "lines2 = open('vs.txt', 'r').readlines()"
   ]
  },
  {
   "cell_type": "code",
   "execution_count": 7,
   "metadata": {},
   "outputs": [],
   "source": [
    "def read_txt(filename):\n",
    "    with open(filename,'r') as f:\n",
    "        data = [ls.split(';') for ls in f.read().splitlines()]\n",
    "        \n",
    "        data = data[3:]\n",
    "    return data\n",
    "\n",
    "\n",
    "def read_txt2(filename):\n",
    "    with open(filename,'r') as f:\n",
    "        data = [ls.split(',') for ls in f.read().splitlines()]\n",
    "        \n",
    "        data = data[2:]\n",
    "    return data\n"
   ]
  },
  {
   "cell_type": "code",
   "execution_count": 8,
   "metadata": {},
   "outputs": [],
   "source": [
    "es = read_txt('es.txt')\n",
    "vs = read_txt2('vs.txt')"
   ]
  },
  {
   "cell_type": "markdown",
   "metadata": {},
   "source": [
    "# 2. 불러온 데이터 df화"
   ]
  },
  {
   "cell_type": "code",
   "execution_count": 9,
   "metadata": {},
   "outputs": [],
   "source": [
    "es_df = pd.DataFrame(es[1:],columns=['date','SX5P','SX5E','SXXP','SXXE','SXXF','SXXA','DK5F','DKXF','DEL'])\n",
    "vs_df = pd.DataFrame(vs[1:],columns=vs[0])"
   ]
  },
  {
   "cell_type": "code",
   "execution_count": 10,
   "metadata": {},
   "outputs": [],
   "source": [
    "date_rvs = []\n",
    "for i in range(len(es_df)):\n",
    "    rvs = list(reversed(es_df['date'].iloc[i].split('.')))\n",
    "    date_rvs.append('-'.join(rvs))\n",
    "    \n",
    "date_rvs2 = []\n",
    "for i in range(len(vs_df)):\n",
    "    rvs = list(reversed(vs_df['Date'].iloc[i].split('.')))\n",
    "    date_rvs2.append('-'.join(rvs))"
   ]
  },
  {
   "cell_type": "code",
   "execution_count": 11,
   "metadata": {},
   "outputs": [],
   "source": [
    "es_df['date']=date_rvs\n",
    "vs_df['Date']=date_rvs2"
   ]
  },
  {
   "cell_type": "code",
   "execution_count": 12,
   "metadata": {},
   "outputs": [],
   "source": [
    "es_df = es_df.iloc[:,:-1]"
   ]
  },
  {
   "cell_type": "code",
   "execution_count": 13,
   "metadata": {},
   "outputs": [],
   "source": [
    "for i in range(1, len(es_df.columns)):\n",
    "    es_df.iloc[:,i] = es_df.iloc[:,i].astype('float64').tolist()"
   ]
  },
  {
   "cell_type": "code",
   "execution_count": 14,
   "metadata": {},
   "outputs": [],
   "source": [
    "for i in range(1, len(vs_df.columns)):\n",
    "    for j in range(len(vs_df)):\n",
    "        if vs_df.iloc[:,i].iloc[j] == 'NA':\n",
    "            vs_df.iloc[:,i].iloc[j] = 0\n",
    "        else:\n",
    "            pass"
   ]
  },
  {
   "cell_type": "code",
   "execution_count": 15,
   "metadata": {
    "scrolled": true
   },
   "outputs": [],
   "source": [
    "for i in range(1, len(vs_df.columns)):\n",
    "    vs_df.iloc[:,i] = vs_df.iloc[:,i].astype('float64').tolist()"
   ]
  },
  {
   "cell_type": "code",
   "execution_count": 16,
   "metadata": {
    "scrolled": true
   },
   "outputs": [
    {
     "data": {
      "text/html": [
       "<div>\n",
       "<style scoped>\n",
       "    .dataframe tbody tr th:only-of-type {\n",
       "        vertical-align: middle;\n",
       "    }\n",
       "\n",
       "    .dataframe tbody tr th {\n",
       "        vertical-align: top;\n",
       "    }\n",
       "\n",
       "    .dataframe thead th {\n",
       "        text-align: right;\n",
       "    }\n",
       "</style>\n",
       "<table border=\"1\" class=\"dataframe\">\n",
       "  <thead>\n",
       "    <tr style=\"text-align: right;\">\n",
       "      <th></th>\n",
       "      <th>Date</th>\n",
       "      <th>V2TX</th>\n",
       "      <th>V6I1</th>\n",
       "      <th>V6I2</th>\n",
       "      <th>V6I3</th>\n",
       "      <th>V6I4</th>\n",
       "      <th>V6I5</th>\n",
       "      <th>V6I6</th>\n",
       "      <th>V6I7</th>\n",
       "      <th>V6I8</th>\n",
       "    </tr>\n",
       "  </thead>\n",
       "  <tbody>\n",
       "    <tr>\n",
       "      <th>4352</th>\n",
       "      <td>2016-02-08</td>\n",
       "      <td>33.3917</td>\n",
       "      <td>34.7251</td>\n",
       "      <td>33.2189</td>\n",
       "      <td>31.8308</td>\n",
       "      <td>31.4783</td>\n",
       "      <td>30.6941</td>\n",
       "      <td>30.3705</td>\n",
       "      <td>29.8478</td>\n",
       "      <td>29.2559</td>\n",
       "    </tr>\n",
       "    <tr>\n",
       "      <th>4353</th>\n",
       "      <td>2016-02-09</td>\n",
       "      <td>33.9664</td>\n",
       "      <td>35.7884</td>\n",
       "      <td>33.7800</td>\n",
       "      <td>32.6220</td>\n",
       "      <td>32.2459</td>\n",
       "      <td>31.5572</td>\n",
       "      <td>31.1659</td>\n",
       "      <td>30.5339</td>\n",
       "      <td>29.9000</td>\n",
       "    </tr>\n",
       "    <tr>\n",
       "      <th>4354</th>\n",
       "      <td>2016-02-10</td>\n",
       "      <td>33.4528</td>\n",
       "      <td>34.6020</td>\n",
       "      <td>33.3637</td>\n",
       "      <td>32.1438</td>\n",
       "      <td>32.0018</td>\n",
       "      <td>31.2099</td>\n",
       "      <td>30.9937</td>\n",
       "      <td>30.8174</td>\n",
       "      <td>30.2533</td>\n",
       "    </tr>\n",
       "    <tr>\n",
       "      <th>4355</th>\n",
       "      <td>2016-02-11</td>\n",
       "      <td>38.3051</td>\n",
       "      <td>41.2095</td>\n",
       "      <td>38.1347</td>\n",
       "      <td>35.8676</td>\n",
       "      <td>35.1073</td>\n",
       "      <td>33.7847</td>\n",
       "      <td>33.4126</td>\n",
       "      <td>32.2234</td>\n",
       "      <td>31.2124</td>\n",
       "    </tr>\n",
       "    <tr>\n",
       "      <th>4356</th>\n",
       "      <td>2016-02-12</td>\n",
       "      <td>35.6846</td>\n",
       "      <td>35.3849</td>\n",
       "      <td>35.6965</td>\n",
       "      <td>34.1404</td>\n",
       "      <td>33.8645</td>\n",
       "      <td>32.9590</td>\n",
       "      <td>32.8208</td>\n",
       "      <td>32.3189</td>\n",
       "      <td>31.8194</td>\n",
       "    </tr>\n",
       "  </tbody>\n",
       "</table>\n",
       "</div>"
      ],
      "text/plain": [
       "            Date     V2TX     V6I1     V6I2     V6I3     V6I4     V6I5  \\\n",
       "4352  2016-02-08  33.3917  34.7251  33.2189  31.8308  31.4783  30.6941   \n",
       "4353  2016-02-09  33.9664  35.7884  33.7800  32.6220  32.2459  31.5572   \n",
       "4354  2016-02-10  33.4528  34.6020  33.3637  32.1438  32.0018  31.2099   \n",
       "4355  2016-02-11  38.3051  41.2095  38.1347  35.8676  35.1073  33.7847   \n",
       "4356  2016-02-12  35.6846  35.3849  35.6965  34.1404  33.8645  32.9590   \n",
       "\n",
       "         V6I6     V6I7     V6I8  \n",
       "4352  30.3705  29.8478  29.2559  \n",
       "4353  31.1659  30.5339  29.9000  \n",
       "4354  30.9937  30.8174  30.2533  \n",
       "4355  33.4126  32.2234  31.2124  \n",
       "4356  32.8208  32.3189  31.8194  "
      ]
     },
     "execution_count": 16,
     "metadata": {},
     "output_type": "execute_result"
    }
   ],
   "source": [
    "vs_df.tail()"
   ]
  },
  {
   "cell_type": "code",
   "execution_count": 17,
   "metadata": {},
   "outputs": [],
   "source": [
    "es_df['date']=pd.to_datetime(es_df['date']).tolist()\n",
    "vs_df['Date']=pd.to_datetime(vs_df['Date']).tolist()\n"
   ]
  },
  {
   "cell_type": "code",
   "execution_count": 18,
   "metadata": {
    "scrolled": true
   },
   "outputs": [],
   "source": [
    "#pandas columns to index\n",
    "vs_df2 = vs_df.set_index('Date')"
   ]
  },
  {
   "cell_type": "code",
   "execution_count": 19,
   "metadata": {
    "scrolled": true
   },
   "outputs": [],
   "source": [
    "es_df2 = es_df.set_index(\"date\")"
   ]
  },
  {
   "cell_type": "markdown",
   "metadata": {},
   "source": [
    "#### 각 df에서 필요한 데이터만 추출하기"
   ]
  },
  {
   "cell_type": "code",
   "execution_count": 20,
   "metadata": {},
   "outputs": [],
   "source": [
    "import datetime as dt\n",
    "data = pd.DataFrame({'EUROSTOXX' :\n",
    "                     es_df2['SX5E'][es_df2.index > dt.datetime(1999, 1, 1)]})\n",
    "data = data.join(pd.DataFrame({'VSTOXX' :\n",
    "                     vs_df2['V2TX'][vs_df2.index > dt.datetime(1999, 1, 1)]}))"
   ]
  },
  {
   "cell_type": "code",
   "execution_count": 21,
   "metadata": {},
   "outputs": [],
   "source": [
    "#누락된 데이터 처리\n",
    "notnull = data[data.notnull().all(axis=1)].tail()\n",
    "notnull\n",
    "\n",
    "data = data[data.index <= notnull.index[-1]]"
   ]
  },
  {
   "cell_type": "code",
   "execution_count": 22,
   "metadata": {},
   "outputs": [
    {
     "name": "stdout",
     "output_type": "stream",
     "text": [
      "<class 'pandas.core.frame.DataFrame'>\n",
      "DatetimeIndex: 4387 entries, 1999-01-04 to 2016-02-12\n",
      "Data columns (total 2 columns):\n",
      "EUROSTOXX    4387 non-null float64\n",
      "VSTOXX       4387 non-null float64\n",
      "dtypes: float64(2)\n",
      "memory usage: 102.8 KB\n"
     ]
    }
   ],
   "source": [
    "data = data.fillna(method='ffill') # ffill method??\n",
    "data.info()"
   ]
  },
  {
   "cell_type": "code",
   "execution_count": 23,
   "metadata": {},
   "outputs": [
    {
     "data": {
      "text/plain": [
       "0"
      ]
     },
     "execution_count": 23,
     "metadata": {},
     "output_type": "execute_result"
    }
   ],
   "source": [
    "#결측치 데이터 확인 method\n",
    "len(data[data.isnull().any(axis=1)]) #컬럼 별로 검사"
   ]
  },
  {
   "cell_type": "code",
   "execution_count": 27,
   "metadata": {},
   "outputs": [
    {
     "data": {
      "image/png": "[encoded data removed]",
      "text/plain": [
       "<Figure size 432x288 with 2 Axes>"
      ]
     },
     "metadata": {},
     "output_type": "display_data"
    }
   ],
   "source": [
    "#시간의 흐름에 따른 추세 관측\n",
    "data.plot(subplots = True)\n",
    "plt.grid()\n",
    "plt.show()\n"
   ]
  },
  {
   "cell_type": "markdown",
   "metadata": {},
   "source": [
    "# 3. 주가 지수를 수익률로 환산(전장대비 수익률)\n",
    "eurostoxx주가지수와 vstoxx 각각의 주가지수를 통한 수익률을 계산한 뒤 테스트"
   ]
  },
  {
   "cell_type": "code",
   "execution_count": 39,
   "metadata": {},
   "outputs": [],
   "source": [
    "import numpy as np\n",
    "import matplotlib.pyplot as plt\n",
    "\n",
    "plt.style.use('ggplot') #ggplot스타일 사용"
   ]
  },
  {
   "cell_type": "code",
   "execution_count": 37,
   "metadata": {
    "scrolled": true
   },
   "outputs": [],
   "source": [
    "#전날의 데이터를 분모로 하여 연산을 시켜준뒤 로그화\n",
    "#데이터프레임화한 지수를 수익률로 환산하는 식 (전날 대비 이익)\n",
    "\n",
    "#log화 한 값이 음수일 때 : 음의 수익률 / log화 한 값이 양수일 때 : 양의 수익률\n",
    "rets = np.log(data / data.shift(1))  #df.shift(n) = 전체적인 행을 아래로 n칸 내리는 명령어"
   ]
  },
  {
   "cell_type": "code",
   "execution_count": 40,
   "metadata": {},
   "outputs": [
    {
     "data": {
      "image/png": "[encoded data removed]",
      "text/plain": [
       "<Figure size 576x432 with 2 Axes>"
      ]
     },
     "metadata": {},
     "output_type": "display_data"
    }
   ],
   "source": [
    "rets.plot(subplots=True,grid=True,style='b',figsize=(8,6))\n",
    "plt.show()"
   ]
  },
  {
   "cell_type": "markdown",
   "metadata": {},
   "source": [
    "# regression"
   ]
  },
  {
   "cell_type": "code",
   "execution_count": 41,
   "metadata": {},
   "outputs": [],
   "source": [
    "import statsmodels.api as sm"
   ]
  },
  {
   "cell_type": "code",
   "execution_count": 42,
   "metadata": {},
   "outputs": [],
   "source": [
    "model_sm = sm.OLS.from_formula(\"VSTOXX ~ EUROSTOXX\", data=rets) #eurostoxx를 설명변수로 vstoxx예측"
   ]
  },
  {
   "cell_type": "code",
   "execution_count": 43,
   "metadata": {},
   "outputs": [
    {
     "name": "stdout",
     "output_type": "stream",
     "text": [
      "                            OLS Regression Results                            \n",
      "==============================================================================\n",
      "Dep. Variable:                 VSTOXX   R-squared:                       0.543\n",
      "Model:                            OLS   Adj. R-squared:                  0.543\n",
      "Method:                 Least Squares   F-statistic:                     5212.\n",
      "Date:                Fri, 07 Jun 2019   Prob (F-statistic):               0.00\n",
      "Time:                        17:10:53   Log-Likelihood:                 7966.3\n",
      "No. Observations:                4386   AIC:                        -1.593e+04\n",
      "Df Residuals:                    4384   BIC:                        -1.592e+04\n",
      "Df Model:                           1                                         \n",
      "Covariance Type:            nonrobust                                         \n",
      "==============================================================================\n",
      "                 coef    std err          t      P>|t|      [0.025      0.975]\n",
      "------------------------------------------------------------------------------\n",
      "Intercept   -9.51e-06      0.001     -0.016      0.987      -0.001       0.001\n",
      "EUROSTOXX     -2.8461      0.039    -72.194      0.000      -2.923      -2.769\n",
      "==============================================================================\n",
      "Omnibus:                     1316.059   Durbin-Watson:                   2.050\n",
      "Prob(Omnibus):                  0.000   Jarque-Bera (JB):            24623.464\n",
      "Skew:                           0.951   Prob(JB):                         0.00\n",
      "Kurtosis:                      14.451   Cond. No.                         66.3\n",
      "==============================================================================\n",
      "\n",
      "Warnings:\n",
      "[1] Standard Errors assume that the covariance matrix of the errors is correctly specified.\n"
     ]
    }
   ],
   "source": [
    "result_sm = model_sm.fit()\n",
    "print(result_sm.summary()) #결정계수 0.543"
   ]
  },
  {
   "cell_type": "markdown",
   "metadata": {},
   "source": [
    "### 상관계수"
   ]
  },
  {
   "cell_type": "code",
   "execution_count": 44,
   "metadata": {},
   "outputs": [
    {
     "data": {
      "text/html": [
       "<div>\n",
       "<style scoped>\n",
       "    .dataframe tbody tr th:only-of-type {\n",
       "        vertical-align: middle;\n",
       "    }\n",
       "\n",
       "    .dataframe tbody tr th {\n",
       "        vertical-align: top;\n",
       "    }\n",
       "\n",
       "    .dataframe thead th {\n",
       "        text-align: right;\n",
       "    }\n",
       "</style>\n",
       "<table border=\"1\" class=\"dataframe\">\n",
       "  <thead>\n",
       "    <tr style=\"text-align: right;\">\n",
       "      <th></th>\n",
       "      <th>EUROSTOXX</th>\n",
       "      <th>VSTOXX</th>\n",
       "    </tr>\n",
       "  </thead>\n",
       "  <tbody>\n",
       "    <tr>\n",
       "      <th>EUROSTOXX</th>\n",
       "      <td>1.00000</td>\n",
       "      <td>-0.73698</td>\n",
       "    </tr>\n",
       "    <tr>\n",
       "      <th>VSTOXX</th>\n",
       "      <td>-0.73698</td>\n",
       "      <td>1.00000</td>\n",
       "    </tr>\n",
       "  </tbody>\n",
       "</table>\n",
       "</div>"
      ],
      "text/plain": [
       "           EUROSTOXX   VSTOXX\n",
       "EUROSTOXX    1.00000 -0.73698\n",
       "VSTOXX      -0.73698  1.00000"
      ]
     },
     "execution_count": 44,
     "metadata": {},
     "output_type": "execute_result"
    }
   ],
   "source": [
    "rets.corr() # 상당히 높은 음의 상관관계임을 알 수 있다."
   ]
  },
  {
   "cell_type": "code",
   "execution_count": 47,
   "metadata": {},
   "outputs": [
    {
     "data": {
      "image/png": "[encoded data removed]",
      "text/plain": [
       "<Figure size 432x288 with 1 Axes>"
      ]
     },
     "metadata": {},
     "output_type": "display_data"
    }
   ],
   "source": [
    "rets['EUROSTOXX'].rolling(window=252).corr(rets['VSTOXX']).plot(grid=True, style='b')\n",
    "plt.show()"
   ]
  },
  {
   "cell_type": "markdown",
   "metadata": {},
   "source": [
    "# 포트폴리오 즉, 분산투자를 통한 수익률 테스트 및 시뮬레이션"
   ]
  },
  {
   "cell_type": "markdown",
   "metadata": {},
   "source": [
    "## 포트폴리오 최적화"
   ]
  },
  {
   "cell_type": "code",
   "execution_count": 50,
   "metadata": {},
   "outputs": [],
   "source": [
    "import numpy as np\n",
    "import pandas as pd\n",
    "import matplotlib.pyplot as plt"
   ]
  },
  {
   "cell_type": "markdown",
   "metadata": {},
   "source": [
    "### 1. 주가데이터 수집"
   ]
  },
  {
   "cell_type": "code",
   "execution_count": 51,
   "metadata": {},
   "outputs": [
    {
     "ename": "ModuleNotFoundError",
     "evalue": "No module named 'pandas_datareader'",
     "output_type": "error",
     "traceback": [
      "\u001b[1;31m---------------------------------------------------------------------------\u001b[0m",
      "\u001b[1;31mModuleNotFoundError\u001b[0m                       Traceback (most recent call last)",
      "\u001b[1;32m<ipython-input-51-cc0623506b86>\u001b[0m in \u001b[0;36m<module>\u001b[1;34m()\u001b[0m\n\u001b[1;32m----> 1\u001b[1;33m \u001b[1;32mimport\u001b[0m \u001b[0mpandas_datareader\u001b[0m\u001b[1;33m.\u001b[0m\u001b[0mdata\u001b[0m \u001b[1;32mas\u001b[0m \u001b[0mwb\u001b[0m\u001b[1;33m\u001b[0m\u001b[0m\n\u001b[0m\u001b[0;32m      2\u001b[0m \u001b[1;33m\u001b[0m\u001b[0m\n\u001b[0;32m      3\u001b[0m \u001b[0msymbols\u001b[0m \u001b[1;33m=\u001b[0m \u001b[1;33m[\u001b[0m\u001b[1;34m'AAPL'\u001b[0m\u001b[1;33m,\u001b[0m \u001b[1;34m'MSFT'\u001b[0m\u001b[1;33m,\u001b[0m \u001b[1;34m'YHOO'\u001b[0m\u001b[1;33m,\u001b[0m \u001b[1;34m'DB'\u001b[0m\u001b[1;33m,\u001b[0m \u001b[1;34m'GLD'\u001b[0m\u001b[1;33m]\u001b[0m\u001b[1;33m\u001b[0m\u001b[0m\n\u001b[0;32m      4\u001b[0m \u001b[0mnoa\u001b[0m \u001b[1;33m=\u001b[0m \u001b[0mlen\u001b[0m\u001b[1;33m(\u001b[0m\u001b[0msymbols\u001b[0m\u001b[1;33m)\u001b[0m\u001b[1;33m\u001b[0m\u001b[0m\n\u001b[0;32m      5\u001b[0m \u001b[0mdata\u001b[0m \u001b[1;33m=\u001b[0m \u001b[0mpd\u001b[0m\u001b[1;33m.\u001b[0m\u001b[0mDataFrame\u001b[0m\u001b[1;33m(\u001b[0m\u001b[1;33m)\u001b[0m\u001b[1;33m\u001b[0m\u001b[0m\n",
      "\u001b[1;31mModuleNotFoundError\u001b[0m: No module named 'pandas_datareader'"
     ]
    }
   ],
   "source": [
    "import pandas_datareader.data as wb\n",
    "\n",
    "symbols = ['AAPL', 'MSFT', 'YHOO', 'DB', 'GLD']\n",
    "noa = len(symbols)\n",
    "data = pd.DataFrame()\n",
    "for sym in symbols:\n",
    "    data[sym] = wb.DataReader(sym, data_source='google',\n",
    "                              end='2014-09-12')['Close']\n",
    "data.columns = symbols\n",
    "data.tail()"
   ]
  },
  {
   "cell_type": "code",
   "execution_count": null,
   "metadata": {},
   "outputs": [],
   "source": []
  }
 ],
 "metadata": {
  "kernelspec": {
   "display_name": "Python 3",
   "language": "python",
   "name": "python3"
  },
  "language_info": {
   "codemirror_mode": {
    "name": "ipython",
    "version": 3
   },
   "file_extension": ".py",
   "mimetype": "text/x-python",
   "name": "python",
   "nbconvert_exporter": "python",
   "pygments_lexer": "ipython3",
   "version": "3.6.5"
  }
 },
 "nbformat": 4,
 "nbformat_minor": 2
}
