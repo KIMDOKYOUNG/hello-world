{
 "cells": [
  {
   "cell_type": "code",
   "execution_count": 1,
   "metadata": {},
   "outputs": [],
   "source": [
    "import requests # 웹 페이지 소스를 얻기 위한 패키지(기본 내장 패키지이다.)\n",
    "from bs4 import BeautifulSoup # 웹 페이지 소스를 얻기 위한 패키지, 더 간단히 얻을 수 있다는 장점이 있다고 한다.\n",
    "from datetime import datetime                                # (!pip install beautifulsoup4 으로 다운받을 수 있다.)\n",
    "import pandas as pd # 데이터를 처리하기 위한 가장 기본적인 패키지\n",
    "import time # 사이트를 불러올 때, 작업 지연시간을 지정해주기 위한 패키지이다. (사이트가 늦게 켜지면 에러가 발생하기 때문)\n",
    "import urllib.request #\n",
    "from selenium.webdriver import Chrome\n",
    "import json\n",
    "import re     \n",
    "from selenium.webdriver.chrome.options import Options\n",
    "from selenium.webdriver.common.keys import Keys\n",
    "import datetime as dt"
   ]
  },
  {
   "cell_type": "markdown",
   "metadata": {},
   "source": [
    "# find와 비교하면서 추출하자 - bs4\n",
    "#### select의 특징은 find_all, elements처럼 리스트 형식으로 추출된다는 것이다. "
   ]
  },
  {
   "cell_type": "code",
   "execution_count": 2,
   "metadata": {},
   "outputs": [],
   "source": [
    "base_url = 'http://v.media.daum.net/v/20170615203441266'"
   ]
  },
  {
   "cell_type": "code",
   "execution_count": 3,
   "metadata": {},
   "outputs": [],
   "source": [
    "res = requests.get(base_url)"
   ]
  },
  {
   "cell_type": "code",
   "execution_count": 4,
   "metadata": {},
   "outputs": [],
   "source": [
    "soup = BeautifulSoup(res.content,'html.parser')"
   ]
  },
  {
   "cell_type": "code",
   "execution_count": 6,
   "metadata": {},
   "outputs": [
    {
     "data": {
      "text/plain": [
       "'잔금대출에도 DTI 규제 적용 검토'"
      ]
     },
     "execution_count": 6,
     "metadata": {},
     "output_type": "execute_result"
    }
   ],
   "source": [
    "soup.find('h3',{'class':'tit_view'}).text"
   ]
  },
  {
   "cell_type": "code",
   "execution_count": 7,
   "metadata": {},
   "outputs": [
    {
     "data": {
      "text/plain": [
       "[<h3 class=\"tit_view\" data-translation=\"\">잔금대출에도 DTI 규제 적용 검토</h3>,\n",
       " <h3 class=\"txt_newsview\">포토&amp;TV</h3>,\n",
       " <h3 class=\"txt_newsview\">실시간 이슈</h3>,\n",
       " <h3 class=\"txt_newsview\">이 시각 추천뉴스</h3>,\n",
       " <h3 class=\"txt_newsview\">실시간 주요이슈</h3>]"
      ]
     },
     "execution_count": 7,
     "metadata": {},
     "output_type": "execute_result"
    }
   ],
   "source": [
    "#select를 하게 되면 리스트형식으로 전체가 추출된다 따라서 이는 find_all과 같은 코드임\n",
    "soup.select('h3')"
   ]
  },
  {
   "cell_type": "code",
   "execution_count": 15,
   "metadata": {},
   "outputs": [
    {
     "data": {
      "text/plain": [
       "'잔금대출에도 DTI 규제 적용 검토'"
      ]
     },
     "execution_count": 15,
     "metadata": {},
     "output_type": "execute_result"
    }
   ],
   "source": [
    "#select는 태그만 검색?\n",
    "soup.select('h3')[0].text"
   ]
  },
  {
   "cell_type": "code",
   "execution_count": 19,
   "metadata": {},
   "outputs": [
    {
     "data": {
      "text/plain": [
       "[<h3 class=\"tit_view\" data-translation=\"\">잔금대출에도 DTI 규제 적용 검토</h3>,\n",
       " <h3 class=\"txt_newsview\">포토&amp;TV</h3>,\n",
       " <h3 class=\"txt_newsview\">실시간 이슈</h3>,\n",
       " <h3 class=\"txt_newsview\">이 시각 추천뉴스</h3>,\n",
       " <h3 class=\"txt_newsview\">실시간 주요이슈</h3>]"
      ]
     },
     "execution_count": 19,
     "metadata": {},
     "output_type": "execute_result"
    }
   ],
   "source": [
    "# \">\" 를 사용할 때는 바로 아래 자식태그만 검색가능\n",
    "soup.select('div > h3')"
   ]
  },
  {
   "cell_type": "code",
   "execution_count": 20,
   "metadata": {},
   "outputs": [
    {
     "data": {
      "text/plain": [
       "[<h3 class=\"tit_view\" data-translation=\"\">잔금대출에도 DTI 규제 적용 검토</h3>]"
      ]
     },
     "execution_count": 20,
     "metadata": {},
     "output_type": "execute_result"
    }
   ],
   "source": [
    "#select를 이용하여 앞에서는 태그를 검색하는 것을 알았지만 class를 검색하는 방법\n",
    "soup.select('.tit_view')"
   ]
  },
  {
   "cell_type": "code",
   "execution_count": 28,
   "metadata": {
    "scrolled": true
   },
   "outputs": [
    {
     "data": {
      "text/plain": [
       "[<p dmcf-pid=\"nzrJ5KB3Cc\" dmcf-ptype=\"general\">내주 부동산 종합대책 발표</p>,\n",
       " <p dmcf-pid=\"ncFbmYUgSc\" dmcf-ptype=\"general\">집값 상승 노린 투기 분양 차단</p>,\n",
       " <p dmcf-pid=\"naDeB8j0HH\" dmcf-ptype=\"general\">LTVㆍDTI 규제 다시 강화할 듯</p>,\n",
       " <p dmcf-pid=\"ngfl6lJwwk\" dmcf-ptype=\"general\">저소득 실수요자 피해 우려도</p>,\n",
       " <p class=\"link_figure\"><img class=\"thumb_g_article\" dmcf-mid=\"nkjJSoPdyb\" dmcf-mtype=\"image\" height=\"236\" src=\"https://t1.daumcdn.net/news/201706/15/hankooki/20170615044256378kzbd.jpg\" width=\"330\"/></p>,\n",
       " <p dmcf-pid=\"n8guDAko3Z\" dmcf-ptype=\"general\">금융당국이 급증하는 가계부채 증가세를 막기 위해 아파트 잔금대출에도 소득을 따져 대출한도를 정하는 총부채상환비율(DTI)을 적용하는 방안을 유력하게 검토하고 있다. 지금은 집값을 기준으로 대출한도를 매기는 주택담보인정비율(LTV) 규제만 적용돼 소득이 없어도 집값의 70%를 빌려 잔금을 치르는 게 가능하다. 앞으로 잔금대출에 DTI가 적용되면 소득 없는 사람이 입주 뒤 집값 상승을 노리고 분양시장에 뛰어드는 게 사실상 불가능해진다. </p>,\n",
       " <p dmcf-pid=\"nYPaCCRO1q\" dmcf-ptype=\"general\">금융당국 고위관계자는 15일 “잔금대출에도 DTI를 적용하는 방안을 검토 중”이라며 “다만 아직 최종 결론이 난 건 아니다”고 말했다. 정부는 내주 이 같은 내용을 포함한 부동산 종합 대책을 발표할 예정이다. </p>,\n",
       " <p dmcf-pid=\"naZLBbSgoZ\" dmcf-ptype=\"general\">정부가 잔금대출 DTI 적용 카드를 꺼내는 건, 집단대출을 잡지 않고선 과열된 주택시장을 진정시키기 어렵다는 판단에서다. 실제 정부는 지난해 잔금대출도 대출 초기부터 원리금을 함께 갚도록 하는 여신심사 가이드라인을 도입했지만 이렇다 할 효과를 거두지 못했다. 오히려 정부 대책에도 불구, 집단대출 증가액은 매달 늘어나는 추세인데 지난달엔 2조원으로 올 들어 최고치를 기록했다. </p>,\n",
       " <p dmcf-pid=\"nhAfneUtnA\" dmcf-ptype=\"general\">아파트 분양 집단대출은 중도금과 잔금대출로 구분된다. 계약금 10%를 내면 입주 전까지 집값의 60%를 중도금 대출로 받을 수 있다. 중도금 대출은 건설사 보증으로 이뤄져 소득심사를 안 거친다. 잔금대출은 건설사가 아닌 집을 담보로 이뤄지는 대출이다. LTV 규제만 적용돼 소득이 없어도 집값의 70%까지 대출이 가능하다. 때문에 지금은 잔금대출로 집값의 70%를 대출받아 기존 중도금 대출을 갚고 나머지 20%만 본인 돈으로 충당하면 집을 살 수 있다.</p>,\n",
       " <p dmcf-pid=\"nCcfu6DK1b\" dmcf-ptype=\"general\">앞으로 잔금대출에 DTI가 적용되면 소득이 없는 사람은 집값의 70% 대출 받는 게 어려워진다. 입주 뒤 집값 상승을 노리는 투기수요를 확실히 걸러낼 초강력 대책이 될 수 있다. 하지만 부작용도 우려된다. 소득이 낮은 사회초년생 등은 청약통장을 갖고도 분양시장에 진입하는 게 어려워지기 때문이다. </p>,\n",
       " <p dmcf-pid=\"nzh7QZekII\" dmcf-ptype=\"general\">이에 따라 잔금대출에 DTI를 적용하는 것 역시 지역 등에 따라 선별적으로 이뤄질 가능성이 높다. 현재 당국은 신규 분양 물량부터 규제를 적용할지 아니면 기존 분양 물량까지 규제 범위를 확대할지를 놓고 시뮬레이션을 하고 있다. </p>,\n",
       " <p dmcf-pid=\"nihh22vlmu\" dmcf-ptype=\"general\">아울러 당국은 지난 2년간 완화됐던 LTV와 DTI를 다시 강화할 것으로 보인다. 현재 LTV(은행 기준)는 기존 50~60%에서 70%, DTI는 50~60%에서 60%로 완화돼 있는 상태다. 당국은 일괄적인 조이기보다 지역ㆍ집값 수준별로 기준을 다르게 적용하는 방식을 모색할 것으로 보인다.</p>,\n",
       " <p dmcf-pid=\"naJ5HNfuMQ\" dmcf-ptype=\"general\">김동욱 기자 kdw1280@hankookilbo.com</p>]"
      ]
     },
     "execution_count": 28,
     "metadata": {},
     "output_type": "execute_result"
    }
   ],
   "source": [
    "soup.select('.article_view')[0].find_all('p')"
   ]
  },
  {
   "cell_type": "code",
   "execution_count": 31,
   "metadata": {},
   "outputs": [
    {
     "name": "stdout",
     "output_type": "stream",
     "text": [
      "내주 부동산 종합대책 발표\n",
      "집값 상승 노린 투기 분양 차단\n",
      "LTVㆍDTI 규제 다시 강화할 듯\n",
      "저소득 실수요자 피해 우려도\n",
      "\n",
      "금융당국이 급증하는 가계부채 증가세를 막기 위해 아파트 잔금대출에도 소득을 따져 대출한도를 정하는 총부채상환비율(DTI)을 적용하는 방안을 유력하게 검토하고 있다. 지금은 집값을 기준으로 대출한도를 매기는 주택담보인정비율(LTV) 규제만 적용돼 소득이 없어도 집값의 70%를 빌려 잔금을 치르는 게 가능하다. 앞으로 잔금대출에 DTI가 적용되면 소득 없는 사람이 입주 뒤 집값 상승을 노리고 분양시장에 뛰어드는 게 사실상 불가능해진다. \n",
      "금융당국 고위관계자는 15일 “잔금대출에도 DTI를 적용하는 방안을 검토 중”이라며 “다만 아직 최종 결론이 난 건 아니다”고 말했다. 정부는 내주 이 같은 내용을 포함한 부동산 종합 대책을 발표할 예정이다. \n",
      "정부가 잔금대출 DTI 적용 카드를 꺼내는 건, 집단대출을 잡지 않고선 과열된 주택시장을 진정시키기 어렵다는 판단에서다. 실제 정부는 지난해 잔금대출도 대출 초기부터 원리금을 함께 갚도록 하는 여신심사 가이드라인을 도입했지만 이렇다 할 효과를 거두지 못했다. 오히려 정부 대책에도 불구, 집단대출 증가액은 매달 늘어나는 추세인데 지난달엔 2조원으로 올 들어 최고치를 기록했다. \n",
      "아파트 분양 집단대출은 중도금과 잔금대출로 구분된다. 계약금 10%를 내면 입주 전까지 집값의 60%를 중도금 대출로 받을 수 있다. 중도금 대출은 건설사 보증으로 이뤄져 소득심사를 안 거친다. 잔금대출은 건설사가 아닌 집을 담보로 이뤄지는 대출이다. LTV 규제만 적용돼 소득이 없어도 집값의 70%까지 대출이 가능하다. 때문에 지금은 잔금대출로 집값의 70%를 대출받아 기존 중도금 대출을 갚고 나머지 20%만 본인 돈으로 충당하면 집을 살 수 있다.\n",
      "앞으로 잔금대출에 DTI가 적용되면 소득이 없는 사람은 집값의 70% 대출 받는 게 어려워진다. 입주 뒤 집값 상승을 노리는 투기수요를 확실히 걸러낼 초강력 대책이 될 수 있다. 하지만 부작용도 우려된다. 소득이 낮은 사회초년생 등은 청약통장을 갖고도 분양시장에 진입하는 게 어려워지기 때문이다. \n",
      "이에 따라 잔금대출에 DTI를 적용하는 것 역시 지역 등에 따라 선별적으로 이뤄질 가능성이 높다. 현재 당국은 신규 분양 물량부터 규제를 적용할지 아니면 기존 분양 물량까지 규제 범위를 확대할지를 놓고 시뮬레이션을 하고 있다. \n",
      "아울러 당국은 지난 2년간 완화됐던 LTV와 DTI를 다시 강화할 것으로 보인다. 현재 LTV(은행 기준)는 기존 50~60%에서 70%, DTI는 50~60%에서 60%로 완화돼 있는 상태다. 당국은 일괄적인 조이기보다 지역ㆍ집값 수준별로 기준을 다르게 적용하는 방식을 모색할 것으로 보인다.\n",
      "김동욱 기자 kdw1280@hankookilbo.com\n"
     ]
    }
   ],
   "source": [
    "#깔끔하게 추출\n",
    "for i in soup.select('.article_view')[0].find_all('p'):\n",
    "    print(i.text)"
   ]
  },
  {
   "cell_type": "code",
   "execution_count": 32,
   "metadata": {
    "scrolled": true
   },
   "outputs": [
    {
     "data": {
      "text/plain": [
       "[<div class=\"article_view\" data-translation-body=\"\" id=\"harmonyContainer\">\n",
       " <section dmcf-sid=\"ndxAvoEFLc\">\n",
       " <p dmcf-pid=\"nzrJ5KB3Cc\" dmcf-ptype=\"general\">내주 부동산 종합대책 발표</p>\n",
       " <p dmcf-pid=\"ncFbmYUgSc\" dmcf-ptype=\"general\">집값 상승 노린 투기 분양 차단</p>\n",
       " <p dmcf-pid=\"naDeB8j0HH\" dmcf-ptype=\"general\">LTVㆍDTI 규제 다시 강화할 듯</p>\n",
       " <p dmcf-pid=\"ngfl6lJwwk\" dmcf-ptype=\"general\">저소득 실수요자 피해 우려도</p>\n",
       " <figure class=\"figure_frm origin_fig\" dmcf-pid=\"nYQ8LWIMpD\" dmcf-ptype=\"figure\">\n",
       " <p class=\"link_figure\"><img class=\"thumb_g_article\" dmcf-mid=\"nkjJSoPdyb\" dmcf-mtype=\"image\" height=\"236\" src=\"https://t1.daumcdn.net/news/201706/15/hankooki/20170615044256378kzbd.jpg\" width=\"330\"/></p>\n",
       " </figure>\n",
       " <p dmcf-pid=\"n8guDAko3Z\" dmcf-ptype=\"general\">금융당국이 급증하는 가계부채 증가세를 막기 위해 아파트 잔금대출에도 소득을 따져 대출한도를 정하는 총부채상환비율(DTI)을 적용하는 방안을 유력하게 검토하고 있다. 지금은 집값을 기준으로 대출한도를 매기는 주택담보인정비율(LTV) 규제만 적용돼 소득이 없어도 집값의 70%를 빌려 잔금을 치르는 게 가능하다. 앞으로 잔금대출에 DTI가 적용되면 소득 없는 사람이 입주 뒤 집값 상승을 노리고 분양시장에 뛰어드는 게 사실상 불가능해진다. </p>\n",
       " <p dmcf-pid=\"nYPaCCRO1q\" dmcf-ptype=\"general\">금융당국 고위관계자는 15일 “잔금대출에도 DTI를 적용하는 방안을 검토 중”이라며 “다만 아직 최종 결론이 난 건 아니다”고 말했다. 정부는 내주 이 같은 내용을 포함한 부동산 종합 대책을 발표할 예정이다. </p>\n",
       " <p dmcf-pid=\"naZLBbSgoZ\" dmcf-ptype=\"general\">정부가 잔금대출 DTI 적용 카드를 꺼내는 건, 집단대출을 잡지 않고선 과열된 주택시장을 진정시키기 어렵다는 판단에서다. 실제 정부는 지난해 잔금대출도 대출 초기부터 원리금을 함께 갚도록 하는 여신심사 가이드라인을 도입했지만 이렇다 할 효과를 거두지 못했다. 오히려 정부 대책에도 불구, 집단대출 증가액은 매달 늘어나는 추세인데 지난달엔 2조원으로 올 들어 최고치를 기록했다. </p>\n",
       " <p dmcf-pid=\"nhAfneUtnA\" dmcf-ptype=\"general\">아파트 분양 집단대출은 중도금과 잔금대출로 구분된다. 계약금 10%를 내면 입주 전까지 집값의 60%를 중도금 대출로 받을 수 있다. 중도금 대출은 건설사 보증으로 이뤄져 소득심사를 안 거친다. 잔금대출은 건설사가 아닌 집을 담보로 이뤄지는 대출이다. LTV 규제만 적용돼 소득이 없어도 집값의 70%까지 대출이 가능하다. 때문에 지금은 잔금대출로 집값의 70%를 대출받아 기존 중도금 대출을 갚고 나머지 20%만 본인 돈으로 충당하면 집을 살 수 있다.</p>\n",
       " <p dmcf-pid=\"nCcfu6DK1b\" dmcf-ptype=\"general\">앞으로 잔금대출에 DTI가 적용되면 소득이 없는 사람은 집값의 70% 대출 받는 게 어려워진다. 입주 뒤 집값 상승을 노리는 투기수요를 확실히 걸러낼 초강력 대책이 될 수 있다. 하지만 부작용도 우려된다. 소득이 낮은 사회초년생 등은 청약통장을 갖고도 분양시장에 진입하는 게 어려워지기 때문이다. </p>\n",
       " <p dmcf-pid=\"nzh7QZekII\" dmcf-ptype=\"general\">이에 따라 잔금대출에 DTI를 적용하는 것 역시 지역 등에 따라 선별적으로 이뤄질 가능성이 높다. 현재 당국은 신규 분양 물량부터 규제를 적용할지 아니면 기존 분양 물량까지 규제 범위를 확대할지를 놓고 시뮬레이션을 하고 있다. </p>\n",
       " <p dmcf-pid=\"nihh22vlmu\" dmcf-ptype=\"general\">아울러 당국은 지난 2년간 완화됐던 LTV와 DTI를 다시 강화할 것으로 보인다. 현재 LTV(은행 기준)는 기존 50~60%에서 70%, DTI는 50~60%에서 60%로 완화돼 있는 상태다. 당국은 일괄적인 조이기보다 지역ㆍ집값 수준별로 기준을 다르게 적용하는 방식을 모색할 것으로 보인다.</p>\n",
       " <p dmcf-pid=\"naJ5HNfuMQ\" dmcf-ptype=\"general\">김동욱 기자 kdw1280@hankookilbo.com</p>\n",
       " </section>\n",
       " </div>]"
      ]
     },
     "execution_count": 32,
     "metadata": {},
     "output_type": "execute_result"
    }
   ],
   "source": [
    "#특정 태그에서 특정 class추출 -> select에서는 tag의 class를 추출할 때는 tag.class로 추출한다\n",
    "soup.select('div.article_view')"
   ]
  },
  {
   "cell_type": "code",
   "execution_count": 41,
   "metadata": {
    "scrolled": true
   },
   "outputs": [
    {
     "data": {
      "text/plain": [
       "[<div class=\"article_view\" data-translation-body=\"\" id=\"harmonyContainer\">\n",
       " <section dmcf-sid=\"ndxAvoEFLc\">\n",
       " <p dmcf-pid=\"nzrJ5KB3Cc\" dmcf-ptype=\"general\">내주 부동산 종합대책 발표</p>\n",
       " <p dmcf-pid=\"ncFbmYUgSc\" dmcf-ptype=\"general\">집값 상승 노린 투기 분양 차단</p>\n",
       " <p dmcf-pid=\"naDeB8j0HH\" dmcf-ptype=\"general\">LTVㆍDTI 규제 다시 강화할 듯</p>\n",
       " <p dmcf-pid=\"ngfl6lJwwk\" dmcf-ptype=\"general\">저소득 실수요자 피해 우려도</p>\n",
       " <figure class=\"figure_frm origin_fig\" dmcf-pid=\"nYQ8LWIMpD\" dmcf-ptype=\"figure\">\n",
       " <p class=\"link_figure\"><img class=\"thumb_g_article\" dmcf-mid=\"nkjJSoPdyb\" dmcf-mtype=\"image\" height=\"236\" src=\"https://t1.daumcdn.net/news/201706/15/hankooki/20170615044256378kzbd.jpg\" width=\"330\"/></p>\n",
       " </figure>\n",
       " <p dmcf-pid=\"n8guDAko3Z\" dmcf-ptype=\"general\">금융당국이 급증하는 가계부채 증가세를 막기 위해 아파트 잔금대출에도 소득을 따져 대출한도를 정하는 총부채상환비율(DTI)을 적용하는 방안을 유력하게 검토하고 있다. 지금은 집값을 기준으로 대출한도를 매기는 주택담보인정비율(LTV) 규제만 적용돼 소득이 없어도 집값의 70%를 빌려 잔금을 치르는 게 가능하다. 앞으로 잔금대출에 DTI가 적용되면 소득 없는 사람이 입주 뒤 집값 상승을 노리고 분양시장에 뛰어드는 게 사실상 불가능해진다. </p>\n",
       " <p dmcf-pid=\"nYPaCCRO1q\" dmcf-ptype=\"general\">금융당국 고위관계자는 15일 “잔금대출에도 DTI를 적용하는 방안을 검토 중”이라며 “다만 아직 최종 결론이 난 건 아니다”고 말했다. 정부는 내주 이 같은 내용을 포함한 부동산 종합 대책을 발표할 예정이다. </p>\n",
       " <p dmcf-pid=\"naZLBbSgoZ\" dmcf-ptype=\"general\">정부가 잔금대출 DTI 적용 카드를 꺼내는 건, 집단대출을 잡지 않고선 과열된 주택시장을 진정시키기 어렵다는 판단에서다. 실제 정부는 지난해 잔금대출도 대출 초기부터 원리금을 함께 갚도록 하는 여신심사 가이드라인을 도입했지만 이렇다 할 효과를 거두지 못했다. 오히려 정부 대책에도 불구, 집단대출 증가액은 매달 늘어나는 추세인데 지난달엔 2조원으로 올 들어 최고치를 기록했다. </p>\n",
       " <p dmcf-pid=\"nhAfneUtnA\" dmcf-ptype=\"general\">아파트 분양 집단대출은 중도금과 잔금대출로 구분된다. 계약금 10%를 내면 입주 전까지 집값의 60%를 중도금 대출로 받을 수 있다. 중도금 대출은 건설사 보증으로 이뤄져 소득심사를 안 거친다. 잔금대출은 건설사가 아닌 집을 담보로 이뤄지는 대출이다. LTV 규제만 적용돼 소득이 없어도 집값의 70%까지 대출이 가능하다. 때문에 지금은 잔금대출로 집값의 70%를 대출받아 기존 중도금 대출을 갚고 나머지 20%만 본인 돈으로 충당하면 집을 살 수 있다.</p>\n",
       " <p dmcf-pid=\"nCcfu6DK1b\" dmcf-ptype=\"general\">앞으로 잔금대출에 DTI가 적용되면 소득이 없는 사람은 집값의 70% 대출 받는 게 어려워진다. 입주 뒤 집값 상승을 노리는 투기수요를 확실히 걸러낼 초강력 대책이 될 수 있다. 하지만 부작용도 우려된다. 소득이 낮은 사회초년생 등은 청약통장을 갖고도 분양시장에 진입하는 게 어려워지기 때문이다. </p>\n",
       " <p dmcf-pid=\"nzh7QZekII\" dmcf-ptype=\"general\">이에 따라 잔금대출에 DTI를 적용하는 것 역시 지역 등에 따라 선별적으로 이뤄질 가능성이 높다. 현재 당국은 신규 분양 물량부터 규제를 적용할지 아니면 기존 분양 물량까지 규제 범위를 확대할지를 놓고 시뮬레이션을 하고 있다. </p>\n",
       " <p dmcf-pid=\"nihh22vlmu\" dmcf-ptype=\"general\">아울러 당국은 지난 2년간 완화됐던 LTV와 DTI를 다시 강화할 것으로 보인다. 현재 LTV(은행 기준)는 기존 50~60%에서 70%, DTI는 50~60%에서 60%로 완화돼 있는 상태다. 당국은 일괄적인 조이기보다 지역ㆍ집값 수준별로 기준을 다르게 적용하는 방식을 모색할 것으로 보인다.</p>\n",
       " <p dmcf-pid=\"naJ5HNfuMQ\" dmcf-ptype=\"general\">김동욱 기자 kdw1280@hankookilbo.com</p>\n",
       " </section>\n",
       " </div>]"
      ]
     },
     "execution_count": 41,
     "metadata": {},
     "output_type": "execute_result"
    }
   ],
   "source": [
    "#div태그 중 id를 추출할 때 -> #으로 id검색\n",
    "soup.select('div#harmonyContainer')"
   ]
  },
  {
   "cell_type": "code",
   "execution_count": 44,
   "metadata": {},
   "outputs": [
    {
     "data": {
      "text/plain": [
       "'\\n\\n내주 부동산 종합대책 발표\\n집값 상승 노린 투기 분양 차단\\nLTVㆍDTI 규제 다시 강화할 듯\\n저소득 실수요자 피해 우려도\\n\\n\\n\\n금융당국이 급증하는 가계부채 증가세를 막기 위해 아파트 잔금대출에도 소득을 따져 대출한도를 정하는 총부채상환비율(DTI)을 적용하는 방안을 유력하게 검토하고 있다. 지금은 집값을 기준으로 대출한도를 매기는 주택담보인정비율(LTV) 규제만 적용돼 소득이 없어도 집값의 70%를 빌려 잔금을 치르는 게 가능하다. 앞으로 잔금대출에 DTI가 적용되면 소득 없는 사람이 입주 뒤 집값 상승을 노리고 분양시장에 뛰어드는 게 사실상 불가능해진다. \\n금융당국 고위관계자는 15일 “잔금대출에도 DTI를 적용하는 방안을 검토 중”이라며 “다만 아직 최종 결론이 난 건 아니다”고 말했다. 정부는 내주 이 같은 내용을 포함한 부동산 종합 대책을 발표할 예정이다. \\n정부가 잔금대출 DTI 적용 카드를 꺼내는 건, 집단대출을 잡지 않고선 과열된 주택시장을 진정시키기 어렵다는 판단에서다. 실제 정부는 지난해 잔금대출도 대출 초기부터 원리금을 함께 갚도록 하는 여신심사 가이드라인을 도입했지만 이렇다 할 효과를 거두지 못했다. 오히려 정부 대책에도 불구, 집단대출 증가액은 매달 늘어나는 추세인데 지난달엔 2조원으로 올 들어 최고치를 기록했다. \\n아파트 분양 집단대출은 중도금과 잔금대출로 구분된다. 계약금 10%를 내면 입주 전까지 집값의 60%를 중도금 대출로 받을 수 있다. 중도금 대출은 건설사 보증으로 이뤄져 소득심사를 안 거친다. 잔금대출은 건설사가 아닌 집을 담보로 이뤄지는 대출이다. LTV 규제만 적용돼 소득이 없어도 집값의 70%까지 대출이 가능하다. 때문에 지금은 잔금대출로 집값의 70%를 대출받아 기존 중도금 대출을 갚고 나머지 20%만 본인 돈으로 충당하면 집을 살 수 있다.\\n앞으로 잔금대출에 DTI가 적용되면 소득이 없는 사람은 집값의 70% 대출 받는 게 어려워진다. 입주 뒤 집값 상승을 노리는 투기수요를 확실히 걸러낼 초강력 대책이 될 수 있다. 하지만 부작용도 우려된다. 소득이 낮은 사회초년생 등은 청약통장을 갖고도 분양시장에 진입하는 게 어려워지기 때문이다. \\n이에 따라 잔금대출에 DTI를 적용하는 것 역시 지역 등에 따라 선별적으로 이뤄질 가능성이 높다. 현재 당국은 신규 분양 물량부터 규제를 적용할지 아니면 기존 분양 물량까지 규제 범위를 확대할지를 놓고 시뮬레이션을 하고 있다. \\n아울러 당국은 지난 2년간 완화됐던 LTV와 DTI를 다시 강화할 것으로 보인다. 현재 LTV(은행 기준)는 기존 50~60%에서 70%, DTI는 50~60%에서 60%로 완화돼 있는 상태다. 당국은 일괄적인 조이기보다 지역ㆍ집값 수준별로 기준을 다르게 적용하는 방식을 모색할 것으로 보인다.\\n김동욱 기자 kdw1280@hankookilbo.com\\n\\n'"
      ]
     },
     "execution_count": 44,
     "metadata": {},
     "output_type": "execute_result"
    }
   ],
   "source": [
    "#div태그중 id가 marticle인 태그의 하위 태그중 아이디가 article_title인 태그\n",
    "#직계자식 태그일 때는 > 로 연결하지만 직계태그가 아니고 하위 태그일 경우는 공백으로 표시\n",
    "soup.select('div#mArticle div#harmonyContainer')[0].get_text()"
   ]
  },
  {
   "cell_type": "code",
   "execution_count": 21,
   "metadata": {},
   "outputs": [],
   "source": [
    "res = requests.get('http://media.daum.net/economic/')\n",
    "\n",
    "soup = BeautifulSoup(res.content, 'html.parser')\n",
    "\n",
    "# a태그이면서 href 속성을 갖는 경우 모두 탐색, 리스트 타입으로 links 변수에 저장됨\n",
    "#속성으로 찾기\n",
    "links = soup.select('a[href]')"
   ]
  },
  {
   "cell_type": "code",
   "execution_count": 51,
   "metadata": {},
   "outputs": [
    {
     "data": {
      "text/plain": [
       "<a class=\"link_services link_services1 #service_enter\" href=\"/entertain\"><span class=\"ir_wa\">연예</span></a>"
      ]
     },
     "execution_count": 51,
     "metadata": {},
     "output_type": "execute_result"
    }
   ],
   "source": [
    "links[3]"
   ]
  },
  {
   "cell_type": "code",
   "execution_count": 52,
   "metadata": {},
   "outputs": [
    {
     "name": "stdout",
     "output_type": "stream",
     "text": [
      "http://search.daum.net/search?w=tot&DA=23W&rtmaxcoll=Z8T&q=서울특별시날씨\n",
      "http://search.daum.net/search?w=tot&DA=23W&rtmaxcoll=Z8T&q=수원시 권선구날씨\n",
      "http://search.daum.net/search?w=tot&DA=23W&rtmaxcoll=Z8T&q=인천광역시날씨\n",
      "http://search.daum.net/search?w=tot&DA=23W&rtmaxcoll=Z8T&q=대구광역시날씨\n",
      "http://search.daum.net/search?w=tot&DA=23W&rtmaxcoll=Z8T&q=대전광역시날씨\n",
      "http://search.daum.net/search?w=tot&DA=23W&rtmaxcoll=Z8T&q=광주광역시날씨\n",
      "http://search.daum.net/search?w=tot&DA=23W&rtmaxcoll=Z8T&q=부산광역시날씨\n",
      "http://search.daum.net/search?w=tot&DA=23W&rtmaxcoll=Z8T&q=울산광역시날씨\n",
      "http://search.daum.net/search?w=tot&DA=23W&rtmaxcoll=Z8T&q=울릉군날씨\n",
      "http://search.daum.net/search?w=tot&DA=23W&rtmaxcoll=Z8T&q=춘천시날씨\n",
      "http://search.daum.net/search?w=tot&DA=23W&rtmaxcoll=Z8T&q=강릉시날씨\n",
      "http://search.daum.net/search?w=tot&DA=23W&rtmaxcoll=Z8T&q=백령면날씨\n",
      "http://search.daum.net/search?w=tot&DA=23W&rtmaxcoll=Z8T&q=청주시 상당구날씨\n",
      "http://search.daum.net/search?w=tot&DA=23W&rtmaxcoll=Z8T&q=전주시 완산구날씨\n",
      "http://search.daum.net/search?w=tot&DA=23W&rtmaxcoll=Z8T&q=목포시날씨\n",
      "http://search.daum.net/search?w=tot&DA=23W&rtmaxcoll=Z8T&q=여수시날씨\n",
      "http://search.daum.net/search?w=tot&DA=23W&rtmaxcoll=Z8T&q=제주특별자치도날씨\n",
      "http://search.daum.net/search?w=tot&DA=23W&rtmaxcoll=Z8T&q=안동시날씨\n",
      "http://search.daum.net/search?w=tot&DA=23W&rtmaxcoll=Z8T&q=창원시 의창구날씨\n",
      "http://v.media.daum.net/v/20190502171002817\n",
      "http://v.media.daum.net/v/20190502171002817\n",
      "http://v.media.daum.net/v/20190502143144889\n",
      "http://v.media.daum.net/v/20190502162914045\n",
      "http://v.media.daum.net/v/20190502162914045\n",
      "http://v.media.daum.net/v/20190502150004556\n",
      "http://v.media.daum.net/v/20190502113003427\n",
      "http://v.media.daum.net/v/20190502122103584\n",
      "http://v.media.daum.net/v/20190502122103584\n",
      "http://v.media.daum.net/v/20190502162747982\n",
      "http://v.media.daum.net/v/20190502111559713\n",
      "http://v.media.daum.net/v/20190502162317731\n",
      "http://v.media.daum.net/v/20190502162317731\n",
      "http://v.media.daum.net/v/20190502120111909\n",
      "http://v.media.daum.net/v/20190502120104894\n",
      "http://v.media.daum.net/v/20190502120045845\n",
      "http://v.media.daum.net/v/20190502120045845\n",
      "http://v.media.daum.net/v/20190502154304811\n",
      "http://v.media.daum.net/v/20190502010009176\n",
      "http://v.media.daum.net/v/20190502174832493\n",
      "http://v.media.daum.net/v/20190502172601410\n",
      "http://v.media.daum.net/v/20190502170921791\n",
      "http://v.media.daum.net/v/20190502163002089\n",
      "http://v.media.daum.net/v/20190502162849024\n",
      "http://v.media.daum.net/v/20190502174041177\n",
      "http://v.media.daum.net/v/20190502040003427\n",
      "http://v.media.daum.net/v/20190501173110480\n",
      "http://v.media.daum.net/v/20190502163452310\n",
      "http://v.media.daum.net/v/20190501103703823\n",
      "http://v.media.daum.net/v/20190429201718931\n",
      "http://v.media.daum.net/v/20190429155051003\n",
      "http://v.media.daum.net/v/20190425174000262\n",
      "http://v.media.daum.net/v/20190412205402481\n",
      "http://v.media.daum.net/v/20190502175515723\n",
      "http://v.media.daum.net/v/20190502175515723\n",
      "http://v.media.daum.net/v/20190502174800458\n",
      "http://v.media.daum.net/v/20190502174800458\n",
      "http://v.media.daum.net/v/20190502173203722\n",
      "http://v.media.daum.net/v/20190502173203722\n",
      "http://v.media.daum.net/v/20190502170202487\n",
      "http://v.media.daum.net/v/20190502170202487\n",
      "http://v.media.daum.net/v/20190502155745445\n",
      "http://v.media.daum.net/v/20190502155745445\n",
      "http://v.media.daum.net/v/20190501184802954\n",
      "http://v.media.daum.net/v/20190501184802954\n",
      "http://v.media.daum.net/v/20190502173739017\n",
      "http://v.media.daum.net/v/20190502153007134\n",
      "http://v.media.daum.net/v/20190502153007134\n",
      "http://v.media.daum.net/v/20190502155033115\n",
      "http://v.media.daum.net/v/20190502155033115\n",
      "http://v.media.daum.net/v/20190502140944695\n",
      "http://v.media.daum.net/v/20190502140944695\n",
      "http://v.media.daum.net/v/20190502110418113\n",
      "http://v.media.daum.net/v/20190502110418113\n",
      "http://v.media.daum.net/v/20190502153853610\n",
      "http://v.media.daum.net/v/20190502153853610\n",
      "http://v.media.daum.net/v/20190502070015092\n",
      "http://v.media.daum.net/v/20190502070015092\n",
      "http://v.media.daum.net/v/20190502111154406\n",
      "http://v.media.daum.net/v/20190502155033115\n",
      "http://v.media.daum.net/v/20190502153007134\n",
      "http://v.media.daum.net/v/20190502153853610\n",
      "http://v.media.daum.net/v/20190502164331680\n",
      "http://v.media.daum.net/v/20190502111347543\n",
      "http://v.media.daum.net/v/20190502155126157\n",
      "http://v.media.daum.net/v/20190502152411899\n",
      "http://v.media.daum.net/v/20190502153840599\n",
      "http://v.media.daum.net/v/20190502140104334\n",
      "http://v.media.daum.net/v/20190502121027298\n",
      "http://v.media.daum.net/v/20190502164550788\n",
      "http://v.media.daum.net/v/20190502145844471\n",
      "http://v.media.daum.net/v/20190502123419846\n",
      "http://v.media.daum.net/v/20190502165938366\n",
      "http://v.media.daum.net/v/20190502154044693\n",
      "http://v.media.daum.net/v/20190502150503856\n",
      "http://v.media.daum.net/v/20190502142101296\n",
      "http://v.media.daum.net/v/20190502111226474\n",
      "http://v.media.daum.net/v/20190502155033115\n",
      "http://v.media.daum.net/v/20190502144222652\n",
      "http://v.media.daum.net/v/20190502161355230\n",
      "http://v.media.daum.net/v/20190502153853610\n",
      "http://v.media.daum.net/v/20190502170033431\n",
      "http://v.media.daum.net/v/20190502140625585\n",
      "http://v.media.daum.net/v/20190502144232660\n",
      "http://v.media.daum.net/v/20190502163308219\n",
      "http://v.media.daum.net/v/20190502151301268\n",
      "http://v.media.daum.net/v/20190502144946050\n",
      "http://v.media.daum.net/v/20190502162830012\n",
      "http://v.media.daum.net/v/20190502160639859\n",
      "http://v.media.daum.net/v/20190502093129733\n",
      "http://v.media.daum.net/v/20190502160840960\n",
      "http://v.media.daum.net/v/20190502144524840\n",
      "http://v.media.daum.net/v/20190502143239948?s=eRIGHT_MANY_TOT=R\n",
      "http://v.media.daum.net/v/20190502140600551?s=eRIGHT_MANY_TOT=R\n",
      "http://v.media.daum.net/v/20190502151722519?s=eRIGHT_MANY_TOT=R\n",
      "http://v.media.daum.net/v/20190502113243564?s=eRIGHT_MANY_TOT=R\n",
      "http://v.media.daum.net/v/20190502125509172?s=eRIGHT_MANY_TOT=R\n",
      "http://v.media.daum.net/v/20190502131800759?s=eRIGHT_MANY_TOT=R\n",
      "http://v.media.daum.net/v/20190502093408835?s=eRIGHT_MANY_TOT=R\n",
      "http://v.media.daum.net/v/20190502105440563?s=eRIGHT_MANY_TOT=R\n",
      "http://v.media.daum.net/v/20190502133000196?s=eRIGHT_MANY_TOT=R\n",
      "http://v.media.daum.net/v/20190502135929217?s=eRIGHT_MANY_TOT=R\n",
      "http://v.media.daum.net/v/20190502141524002?s=eRIGHT_MANY_TOT=R\n",
      "http://v.media.daum.net/v/20190502110702209?s=eRIGHT_MANY_TOT=R\n",
      "http://v.media.daum.net/v/20190502154532906?s=eRIGHT_MANY_TOT=R\n",
      "http://v.media.daum.net/v/20190502163055121?s=eRIGHT_MANY_TOT=R\n",
      "http://v.media.daum.net/v/20190502060316478?s=eRIGHT_MANY_TOT=R\n",
      "http://v.media.daum.net/v/20190502095011533?s=eRIGHT_MANY_TOT=R\n",
      "http://v.media.daum.net/v/20190502153014144?s=eRIGHT_MANY_TOT=R\n",
      "http://v.media.daum.net/v/20190502124135982?s=eRIGHT_MANY_TOT=R\n",
      "http://v.media.daum.net/v/20190502163615375?s=eRIGHT_MANY_TOT=R\n",
      "http://v.media.daum.net/v/20190502093605928?s=eRIGHT_MANY_TOT=R\n",
      "http://v.media.daum.net/v/20190502140049307?s=eRIGHT_MANY_TOT=R\n",
      "http://v.media.daum.net/v/20190502093128732?s=eRIGHT_MANY_TOT=R\n",
      "http://v.media.daum.net/v/20190502122451659?s=eRIGHT_MANY_TOT=R\n",
      "http://v.media.daum.net/v/20190501235332104?s=eRIGHT_MANY_TOT=R\n",
      "http://v.media.daum.net/v/20190502140233420?s=eRIGHT_MANY_TOT=R\n",
      "http://v.media.daum.net/v/20190502125712196?s=eRIGHT_MANY_TOT=R\n",
      "http://v.media.daum.net/v/20190502164004530?s=eRIGHT_MANY_TOT=R\n",
      "http://v.media.daum.net/v/20190501224512934?s=eRIGHT_MANY_TOT=R\n",
      "http://v.media.daum.net/v/20190502070007079?s=eRIGHT_MANY_TOT=R\n",
      "http://v.media.daum.net/v/20190502113829822?s=eRIGHT_MANY_TOT=R\n",
      "http://v.media.daum.net/v/20190502151801563\n",
      "http://v.media.daum.net/v/20190502154741995\n",
      "http://v.media.daum.net/v/20190502141025724\n",
      "http://v.media.daum.net/v/20190502134958852\n",
      "http://v.media.daum.net/v/20190502160114615\n",
      "http://v.media.daum.net/v/20190502162648910\n",
      "http://v.media.daum.net/v/20190502145702395\n",
      "http://v.media.daum.net/v/20190502134741787\n",
      "http://v.media.daum.net/v/20190502155634377\n",
      "http://v.media.daum.net/v/20190502162029582\n",
      "http://v.media.daum.net/v/20190502133439391\n",
      "http://v.media.daum.net/v/20190502170003400\n",
      "http://v.media.daum.net/v/20190502140007255\n",
      "http://v.media.daum.net/v/20190502141612046\n",
      "http://v.media.daum.net/v/20190502142103301\n",
      "http://v.media.daum.net/v/20190502113100483\n",
      "http://v.media.daum.net/v/20190502133241328\n",
      "http://v.media.daum.net/v/20190502161107066\n",
      "http://v.media.daum.net/v/20190502165933364\n",
      "http://v.media.daum.net/v/20190502101027499\n",
      "http://v.media.daum.net/v/20190502140301438\n",
      "http://v.media.daum.net/v/20190502134028592\n",
      "http://v.media.daum.net/v/20190502171601068\n",
      "http://v.media.daum.net/v/20190502152544971\n",
      "http://v.media.daum.net/v/20190502092441422\n",
      "http://v.media.daum.net/v/20190502132755134\n",
      "http://v.media.daum.net/v/20190502160001515\n",
      "http://v.media.daum.net/v/20190502150826029\n",
      "http://v.media.daum.net/v/20190502164417709\n",
      "http://v.media.daum.net/v/20190502084727164\n",
      "http://search.daum.net/search?w=tot&DA=23R&rtmaxcoll=HSU&q=코스피\n",
      "http://search.daum.net/search?w=tot&DA=23R&rtmaxcoll=HSU&q=코스피\n",
      "http://search.daum.net/search?w=tot&DA=23R&rtmaxcoll=HSU&q=코스피\n",
      "http://search.daum.net/search?w=tot&DA=23R&rtmaxcoll=HSU&q=코스피\n",
      "http://search.daum.net/search?w=tot&DA=23R&rtmaxcoll=HSU&q=코스닥\n",
      "http://search.daum.net/search?w=tot&DA=23R&rtmaxcoll=HSU&q=코스닥\n",
      "http://search.daum.net/search?w=tot&DA=23R&rtmaxcoll=HSU&q=코스닥\n",
      "http://search.daum.net/search?w=tot&DA=23R&rtmaxcoll=HSU&q=코스닥\n",
      "http://search.daum.net/search?w=tot&DA=23R&rtmaxcoll=HSU&q=다우\n",
      "http://search.daum.net/search?w=tot&DA=23R&rtmaxcoll=HSU&q=다우\n",
      "http://search.daum.net/search?w=tot&DA=23R&rtmaxcoll=HSU&q=다우\n",
      "http://search.daum.net/search?w=tot&DA=23R&rtmaxcoll=HSU&q=다우\n",
      "http://search.daum.net/search?w=tot&DA=23R&rtmaxcoll=HSU&q=나스닥\n",
      "http://search.daum.net/search?w=tot&DA=23R&rtmaxcoll=HSU&q=나스닥\n",
      "http://search.daum.net/search?w=tot&DA=23R&rtmaxcoll=HSU&q=나스닥\n",
      "http://search.daum.net/search?w=tot&DA=23R&rtmaxcoll=HSU&q=나스닥\n",
      "http://search.daum.net/search?w=tot&DA=23R&rtmaxcoll=Z6T&q=미국환율\n",
      "http://search.daum.net/search?w=tot&DA=23R&rtmaxcoll=Z6T&q=미국환율\n",
      "http://search.daum.net/search?w=tot&DA=23R&rtmaxcoll=Z6T&q=미국환율\n",
      "http://search.daum.net/search?w=tot&DA=23R&rtmaxcoll=Z6T&q=미국환율\n",
      "http://search.daum.net/search?w=tot&DA=23R&rtmaxcoll=Z6T&q=일본환율\n",
      "http://search.daum.net/search?w=tot&DA=23R&rtmaxcoll=Z6T&q=일본환율\n",
      "http://search.daum.net/search?w=tot&DA=23R&rtmaxcoll=Z6T&q=일본환율\n",
      "http://search.daum.net/search?w=tot&DA=23R&rtmaxcoll=Z6T&q=일본환율\n",
      "http://search.daum.net/search?w=tot&DA=23R&rtmaxcoll=Z6T&q=유로환율\n",
      "http://search.daum.net/search?w=tot&DA=23R&rtmaxcoll=Z6T&q=유로환율\n",
      "http://search.daum.net/search?w=tot&DA=23R&rtmaxcoll=Z6T&q=유로환율\n",
      "http://search.daum.net/search?w=tot&DA=23R&rtmaxcoll=Z6T&q=유로환율\n",
      "http://search.daum.net/search?w=tot&DA=23R&rtmaxcoll=Z6T&q=중국환율\n",
      "http://search.daum.net/search?w=tot&DA=23R&rtmaxcoll=Z6T&q=중국환율\n",
      "http://search.daum.net/search?w=tot&DA=23R&rtmaxcoll=Z6T&q=중국환율\n",
      "http://search.daum.net/search?w=tot&DA=23R&rtmaxcoll=Z6T&q=중국환율\n",
      "http://search.daum.net/search?w=tot&DA=23R&q=유가\n",
      "http://search.daum.net/search?w=tot&DA=23R&q=유가\n",
      "http://search.daum.net/search?w=tot&DA=23R&q=유가\n",
      "http://search.daum.net/search?w=tot&DA=23R&q=유가\n",
      "http://search.daum.net/search?w=tot&DA=23R&q=유가\n",
      "http://search.daum.net/search?w=tot&DA=23R&q=유가\n",
      "http://search.daum.net/search?w=tot&DA=23R&q=유가\n",
      "http://search.daum.net/search?w=tot&DA=23R&q=유가\n",
      "http://search.daum.net/search?w=tot&DA=23R&q=유가\n",
      "http://policy.daum.net/info/info\n",
      "http://cs.daum.net/faq/63.html\n",
      "http://www.kakaocorp.com/\n"
     ]
    }
   ],
   "source": [
    "for i in links:\n",
    "    if re.search(r'http://\\w+',i['href']):#compile로 선언하고 진행해도 무관하지만 바로 문자열 매칭 가능\n",
    "        #현재는 http://로 시작하면서 그 뒤에 [0-9a-zA-Z]가 한개 이상 있는 문자와 매칭 \n",
    "        print(i['href'])"
   ]
  },
  {
   "cell_type": "markdown",
   "metadata": {},
   "source": [
    "## css selector 활용\n",
    "#### 부동산 매매 아파트 이름과 가격 찾기"
   ]
  },
  {
   "cell_type": "code",
   "execution_count": 53,
   "metadata": {},
   "outputs": [],
   "source": [
    "res = requests.get('http://land.naver.com/article/divisionInfo.nhn?rletTypeCd=A01&tradeTypeCd=A1&hscpTypeCd=A01%3AA03%3AA04&cortarNo=1168000000&articleOrderCode=&cpId=&minPrc=&maxPrc=&minWrrnt=&maxWrrnt=&minLease=&maxLease=&minSpc=&maxSpc=&subDist=&mviDate=&hsehCnt=&rltrId=&mnex=&siteOrderCode=&cmplYn=')"
   ]
  },
  {
   "cell_type": "code",
   "execution_count": 54,
   "metadata": {},
   "outputs": [],
   "source": [
    "soup = BeautifulSoup(res.content,'html.parser')"
   ]
  },
  {
   "cell_type": "code",
   "execution_count": 65,
   "metadata": {
    "scrolled": true
   },
   "outputs": [
    {
     "data": {
      "text/plain": [
       "[<a class=\"NPI=a:tlist,r:1,i:1910137524 sale_title\" href=\"#\" onclick=\"nhn.article.common.moveArticleDetail('1910137524','A01','A01','A1', 'bizmk','false');return false;\" title=\"미성2차\">미성2차</a>,\n",
       " <a class=\"NPI=a:tlist,r:2,i:1910109080 sale_title\" href=\"#\" onclick=\"nhn.article.common.moveArticleDetail('1910109080','A01','A01','A1', 'NEONET','false');return false;\" title=\"삼성힐스테이트1단지\">삼성힐스테이트1단지</a>,\n",
       " <a class=\"NPI=a:tlist,r:3,i:1910229476 sale_title\" href=\"#\" onclick=\"nhn.article.common.moveArticleDetail('1910229476','A01','A01','A1', 'NEONET','false');return false;\" title=\"청담자이\">청담자이</a>,\n",
       " <a class=\"NPI=a:tlist,r:4,i:1910029915 sale_title\" href=\"#\" onclick=\"nhn.article.common.moveArticleDetail('1910029915','A01','A01','A1', 'bizmk','false');return false;\" title=\"청담파라곤Ⅱ 1단지\">청담파라곤Ⅱ 1단지</a>,\n",
       " <a class=\"NPI=a:tlist,r:5,i:1909913777 sale_title\" href=\"#\" onclick=\"nhn.article.common.moveArticleDetail('1909913777','A04','A01','A1', 'bizmk','false');return false;\" title=\"은마\">은마</a>,\n",
       " <a class=\"NPI=a:tlist,r:6,i:1909926096 sale_title\" href=\"#\" onclick=\"nhn.article.common.moveArticleDetail('1909926096','A04','A01','A1', 'NEONET','false');return false;\" title=\"은마\">은마</a>,\n",
       " <a class=\"NPI=a:tlist,r:7,i:1910003218 sale_title\" href=\"#\" onclick=\"nhn.article.common.moveArticleDetail('1910003218','A01','A01','A1', 'NEONET','false');return false;\" title=\"삼성헤렌하우스2\">삼성헤렌하우스2</a>,\n",
       " <a class=\"NPI=a:tlist,r:8,i:1909934494 sale_title\" href=\"#\" onclick=\"nhn.article.common.moveArticleDetail('1909934494','A04','A01','A1', 'bizmk','false');return false;\" title=\"은마\">은마</a>,\n",
       " <a class=\"NPI=a:tlist,r:9,i:1909883599 sale_title\" href=\"#\" onclick=\"nhn.article.common.moveArticleDetail('1909883599','A04','A01','A1', 'bizmk','false');return false;\" title=\"은마\">은마</a>,\n",
       " <a class=\"NPI=a:tlist,r:10,i:1909704306 sale_title\" href=\"#\" onclick=\"nhn.article.common.moveArticleDetail('1909704306','A01','A01','A1', 'bizmk','false');return false;\" title=\"래미안블레스티지\">래미안블레스티지</a>,\n",
       " <a class=\"NPI=a:list,r:11,i:1910292667 sale_title\" href=\"#\" onclick=\"nhn.article.common.moveArticleDetail('1910292667','A04','A01','A1', 'NEONET','false');return false;\" title=\"개포주공4단지\">개포주공4단지</a>,\n",
       " <a class=\"NPI=a:list,r:12,i:1910292868 sale_title\" href=\"#\" onclick=\"nhn.article.common.moveArticleDetail('1910292868','A04','A01','A1', 'NEONET','false');return false;\" title=\"개포주공4단지\">개포주공4단지</a>,\n",
       " <a class=\"NPI=a:list,r:13,i:1910193346 sale_title\" href=\"#\" onclick=\"nhn.article.common.moveArticleDetail('1910193346','A04','A01','A1', 'R114','true');return false;\" title=\"개포주공1단지\">개포주공1단지</a>,\n",
       " <a class=\"NPI=a:list,r:14,i:1910343103 sale_title\" href=\"#\" onclick=\"nhn.article.common.moveArticleDetail('1910343103','A04','A01','A1', 'R114','true');return false;\" title=\"개포주공1단지\">개포주공1단지</a>,\n",
       " <a class=\"NPI=a:tlist,r:15,i:1909704223 sale_title\" href=\"#\" onclick=\"nhn.article.common.moveArticleDetail('1909704223','A01','A01','A1', 'bizmk','false');return false;\" title=\"래미안블레스티지\">래미안블레스티지</a>,\n",
       " <a class=\"NPI=a:tlist,r:16,i:1909828649 sale_title\" href=\"#\" onclick=\"nhn.article.common.moveArticleDetail('1909828649','A01','A01','A1', 'NEONET','false');return false;\" title=\"청담자이\">청담자이</a>,\n",
       " <a class=\"NPI=a:tlist,r:17,i:1909939562 sale_title\" href=\"#\" onclick=\"nhn.article.common.moveArticleDetail('1909939562','A01','A01','A1', 'NEONET','false');return false;\" title=\"청담자이\">청담자이</a>,\n",
       " <a class=\"NPI=a:tlist,r:18,i:1909964130 sale_title\" href=\"#\" onclick=\"nhn.article.common.moveArticleDetail('1909964130','A01','A01','A1', 'NEONET','false');return false;\" title=\"래미안개포루체하임\">래미안개포루체하임</a>,\n",
       " <a class=\"NPI=a:tlist,r:19,i:1909940447 sale_title\" href=\"#\" onclick=\"nhn.article.common.moveArticleDetail('1909940447','A01','A01','A1', 'NEONET','false');return false;\" title=\"청담자이\">청담자이</a>,\n",
       " <a class=\"NPI=a:tlist,r:20,i:1909919862 sale_title\" href=\"#\" onclick=\"nhn.article.common.moveArticleDetail('1909919862','A01','A01','A1', 'bizmk','false');return false;\" title=\"청담자이\">청담자이</a>,\n",
       " <a class=\"NPI=a:tlist,r:21,i:1909940116 sale_title\" href=\"#\" onclick=\"nhn.article.common.moveArticleDetail('1909940116','A01','A01','A1', 'hkdotcom','false');return false;\" title=\"청담자이\">청담자이</a>,\n",
       " <a class=\"NPI=a:tlist,r:22,i:1909803960 sale_title\" href=\"#\" onclick=\"nhn.article.common.moveArticleDetail('1909803960','A01','A01','A1', 'hkdotcom','false');return false;\" title=\"래미안개포루체하임\">래미안개포루체하임</a>,\n",
       " <a class=\"NPI=a:tlist,r:23,i:1909792758 sale_title\" href=\"#\" onclick=\"nhn.article.common.moveArticleDetail('1909792758','A01','A01','A1', 'bizmk','false');return false;\" title=\"청담자이\">청담자이</a>,\n",
       " <a class=\"NPI=a:tlist,r:24,i:1909938839 sale_title\" href=\"#\" onclick=\"nhn.article.common.moveArticleDetail('1909938839','A01','A01','A1', 'NEONET','false');return false;\" title=\"청담자이\">청담자이</a>,\n",
       " <a class=\"NPI=a:list,r:25,i:1910369618 sale_title\" href=\"#\" onclick=\"nhn.article.common.moveArticleDetail('1910369618','A04','A01','A1', 'NEONET','false');return false;\" title=\"개포주공1단지\">개포주공1단지</a>,\n",
       " <a class=\"NPI=a:list,r:26,i:1910331040 sale_title\" href=\"#\" onclick=\"nhn.article.common.moveArticleDetail('1910331040','A04','A01','A1', 'NEONET','false');return false;\" title=\"개포주공1단지\">개포주공1단지</a>,\n",
       " <a class=\"NPI=a:tlist,r:27,i:1909849108 sale_title\" href=\"#\" onclick=\"nhn.article.common.moveArticleDetail('1909849108','A01','A01','A1', 'NEONET','false');return false;\" title=\"청담자이\">청담자이</a>,\n",
       " <a class=\"NPI=a:tlist,r:28,i:1909707472 sale_title\" href=\"#\" onclick=\"nhn.article.common.moveArticleDetail('1909707472','A01','A01','A1', 'NEONET','false');return false;\" title=\"아이파크삼성\">아이파크삼성</a>,\n",
       " <a class=\"NPI=a:tlist,r:29,i:1909850134 sale_title\" href=\"#\" onclick=\"nhn.article.common.moveArticleDetail('1909850134','A01','A01','A1', 'hkdotcom','false');return false;\" title=\"청담자이\">청담자이</a>,\n",
       " <a class=\"NPI=a:tlist,r:30,i:1909706865 sale_title\" href=\"#\" onclick=\"nhn.article.common.moveArticleDetail('1909706865','A01','A01','A1', 'NEONET','false');return false;\" title=\"아이파크삼성\">아이파크삼성</a>,\n",
       " <a class=\"NPI=a:list,r:31,i:1910446691 sale_title\" href=\"#\" onclick=\"nhn.article.common.moveArticleDetail('1910446691','A04','A01','A1', 'NEONET','false');return false;\" title=\"개포주공4단지\">개포주공4단지</a>,\n",
       " <a class=\"NPI=a:list,r:32,i:1910453766 sale_title\" href=\"#\" onclick=\"nhn.article.common.moveArticleDetail('1910453766','A01','A01','A1', 'NEONET','false');return false;\" title=\"청담아이파크\">청담아이파크</a>,\n",
       " <a class=\"NPI=a:list,r:33,i:1910454061 sale_title\" href=\"#\" onclick=\"nhn.article.common.moveArticleDetail('1910454061','A01','A01','A1', 'NEONET','false');return false;\" title=\"청담아이파크\">청담아이파크</a>,\n",
       " <a class=\"NPI=a:list,r:34,i:1910447185 sale_title\" href=\"#\" onclick=\"nhn.article.common.moveArticleDetail('1910447185','A04','A01','A1', 'bizmk','false');return false;\" title=\"개포주공4단지\">개포주공4단지</a>,\n",
       " <a class=\"NPI=a:list,r:35,i:1910453927 sale_title\" href=\"#\" onclick=\"nhn.article.common.moveArticleDetail('1910453927','A01','A01','A1', 'NEONET','false');return false;\" title=\"청담아이파크\">청담아이파크</a>,\n",
       " <a class=\"NPI=a:list,r:36,i:1910433193 sale_title\" href=\"#\" onclick=\"nhn.article.common.moveArticleDetail('1910433193','A01','A01','A1', 'bizmk','false');return false;\" title=\"역삼IPARK\">역삼IPARK</a>,\n",
       " <a class=\"NPI=a:list,r:37,i:1910446781 sale_title\" href=\"#\" onclick=\"nhn.article.common.moveArticleDetail('1910446781','A04','A01','A1', 'bizmk','false');return false;\" title=\"개포주공4단지\">개포주공4단지</a>,\n",
       " <a class=\"NPI=a:list,r:38,i:1910446125 sale_title\" href=\"#\" onclick=\"nhn.article.common.moveArticleDetail('1910446125','A04','A01','A1', 'NEONET','false');return false;\" title=\"개포주공4단지\">개포주공4단지</a>,\n",
       " <a class=\"NPI=a:list,r:39,i:1910447849 sale_title\" href=\"#\" onclick=\"nhn.article.common.moveArticleDetail('1910447849','A04','A01','A1', 'bizmk','false');return false;\" title=\"개포주공4단지\">개포주공4단지</a>,\n",
       " <a class=\"NPI=a:list,r:40,i:1910454914 sale_title\" href=\"#\" onclick=\"nhn.article.common.moveArticleDetail('1910454914','A01','A01','A1', 'bizmk','false');return false;\" title=\"삼성센트럴아이파크\">삼성센트럴아이파크</a>,\n",
       " <a class=\"NPI=a:list,r:41,i:1910448208 sale_title\" href=\"#\" onclick=\"nhn.article.common.moveArticleDetail('1910448208','A04','A01','A1', 'bizmk','false');return false;\" title=\"개포주공4단지\">개포주공4단지</a>,\n",
       " <a class=\"NPI=a:list,r:42,i:1910460031 sale_title\" href=\"#\" onclick=\"nhn.article.common.moveArticleDetail('1910460031','A01','A01','A1', 'hkdotcom','false');return false;\" title=\"롯데캐슬프레미어\">롯데캐슬프레미어</a>,\n",
       " <a class=\"NPI=a:list,r:43,i:1910451338 sale_title\" href=\"#\" onclick=\"nhn.article.common.moveArticleDetail('1910451338','A01','A01','A1', 'bizmk','false');return false;\" title=\"삼성중앙하이츠빌리지\">삼성중앙하이츠빌리지</a>,\n",
       " <a class=\"NPI=a:list,r:44,i:1910447096 sale_title\" href=\"#\" onclick=\"nhn.article.common.moveArticleDetail('1910447096','A04','A01','A1', 'NEONET','false');return false;\" title=\"개포주공4단지\">개포주공4단지</a>,\n",
       " <a class=\"NPI=a:list,r:45,i:1910379952 sale_title\" href=\"#\" onclick=\"nhn.article.common.moveArticleDetail('1910379952','A04','A01','A1', 'NEONET','false');return false;\" title=\"삼익\">삼익</a>,\n",
       " <a class=\"NPI=a:list,r:46,i:1910363562 sale_title\" href=\"#\" onclick=\"nhn.article.common.moveArticleDetail('1910363562','A04','A01','A1', 'JOINS','false');return false;\" title=\"개포주공1단지\">개포주공1단지</a>,\n",
       " <a class=\"NPI=a:list,r:47,i:1910444253 sale_title\" href=\"#\" onclick=\"nhn.article.common.moveArticleDetail('1910444253','A01','A01','A1', 'bizmk','false');return false;\" title=\"청담대우유로카운티\">청담대우유로카운티</a>,\n",
       " <a class=\"NPI=a:list,r:48,i:1910447608 sale_title\" href=\"#\" onclick=\"nhn.article.common.moveArticleDetail('1910447608','A04','A01','A1', 'bizmk','false');return false;\" title=\"개포주공4단지\">개포주공4단지</a>,\n",
       " <a class=\"NPI=a:list,r:49,i:1910446346 sale_title\" href=\"#\" onclick=\"nhn.article.common.moveArticleDetail('1910446346','A04','A01','A1', 'NEONET','false');return false;\" title=\"개포주공4단지\">개포주공4단지</a>,\n",
       " <a class=\"NPI=a:list,r:50,i:1910450067 sale_title\" href=\"#\" onclick=\"nhn.article.common.moveArticleDetail('1910450067','A04','A01','A1', 'NEONET','false');return false;\" title=\"개포주공4단지\">개포주공4단지</a>]"
      ]
     },
     "execution_count": 65,
     "metadata": {},
     "output_type": "execute_result"
    }
   ],
   "source": [
    "soup.select('#depth4Tab0Content > div > table > tbody > tr > td.align_l.name > div > a.sale_title')"
   ]
  },
  {
   "cell_type": "code",
   "execution_count": 80,
   "metadata": {
    "scrolled": true
   },
   "outputs": [],
   "source": [
    "#공백은 .을 넣어서 해보던가 아니면 selector이나 xpath를 copy를 해서 확인해보자\n",
    "#depth4Tab0Content > div > table > tbody > tr > td.align_l.name > div > a.sale_title\n",
    "name = soup.select('td.align_l.name a.sale_title')"
   ]
  },
  {
   "cell_type": "code",
   "execution_count": 87,
   "metadata": {},
   "outputs": [
    {
     "data": {
      "text/plain": [
       "'미성2차'"
      ]
     },
     "execution_count": 87,
     "metadata": {},
     "output_type": "execute_result"
    }
   ],
   "source": [
    "name[0].text"
   ]
  },
  {
   "cell_type": "code",
   "execution_count": 83,
   "metadata": {},
   "outputs": [],
   "source": [
    "#depth4Tab0Content > div > table > tbody > tr:nth-child(5) > td.num.align_r > div\n",
    "price = soup.select('td.num.align_r strong')"
   ]
  },
  {
   "cell_type": "code",
   "execution_count": 89,
   "metadata": {
    "scrolled": true
   },
   "outputs": [
    {
     "name": "stdout",
     "output_type": "stream",
     "text": [
      "미성2차 260,000\n",
      "삼성힐스테이트1단지 93,000\n",
      "청담자이 170,000\n",
      "청담파라곤Ⅱ 1단지 249,000\n",
      "은마 160,000\n",
      "은마 165,000\n",
      "삼성헤렌하우스2 250,000\n",
      "은마 165,000\n",
      "은마 183,000\n",
      "래미안블레스티지 200,000\n",
      "개포주공4단지 149,000\n",
      "개포주공4단지 130,000\n",
      "개포주공1단지 165,000\n",
      "개포주공1단지 220,000\n",
      "래미안블레스티지 200,000\n",
      "청담자이 220,000\n",
      "청담자이 172,000\n",
      "래미안개포루체하임 245,000\n",
      "청담자이 230,000\n",
      "청담자이 260,000\n",
      "청담자이 172,000\n",
      "래미안개포루체하임 150,000\n",
      "청담자이 165,000\n",
      "청담자이 225,000\n",
      "개포주공1단지 164,500\n",
      "개포주공1단지 187,000\n",
      "청담자이 205,000\n",
      "아이파크삼성 400,000\n",
      "청담자이 150,000\n",
      "아이파크삼성 430,000\n",
      "개포주공4단지 148,500\n",
      "청담아이파크 180,000\n",
      "청담아이파크 240,000\n",
      "개포주공4단지 159,500\n",
      "청담아이파크 250,000\n",
      "역삼IPARK 72,000\n",
      "개포주공4단지 148,000\n",
      "개포주공4단지 160,000\n",
      "개포주공4단지 164,000\n",
      "삼성센트럴아이파크 180,000\n",
      "개포주공4단지 132,000\n",
      "롯데캐슬프레미어 180,000\n",
      "삼성중앙하이츠빌리지 183,000\n",
      "개포주공4단지 134,000\n",
      "삼익 215,000\n",
      "개포주공1단지 141,000\n",
      "청담대우유로카운티 178,000\n",
      "개포주공4단지 140,000\n",
      "개포주공4단지 140,000\n",
      "개포주공4단지 165,000\n"
     ]
    }
   ],
   "source": [
    "for num in range(len(name)):\n",
    "    print(name[num].text, price[num].text)"
   ]
  },
  {
   "cell_type": "markdown",
   "metadata": {},
   "source": [
    "# selenium css_selector\n",
    "### selenuim css_selector의 방식은 bs4의 select와 똑같다"
   ]
  },
  {
   "cell_type": "code",
   "execution_count": 2,
   "metadata": {},
   "outputs": [],
   "source": [
    "browser = Chrome()"
   ]
  },
  {
   "cell_type": "code",
   "execution_count": 3,
   "metadata": {},
   "outputs": [],
   "source": [
    "browser.maximize_window()"
   ]
  },
  {
   "cell_type": "code",
   "execution_count": 4,
   "metadata": {},
   "outputs": [],
   "source": [
    "browser.get('http://v.media.daum.net/v/20170202180355822')"
   ]
  },
  {
   "cell_type": "code",
   "execution_count": 7,
   "metadata": {},
   "outputs": [
    {
     "data": {
      "text/plain": [
       "<selenium.webdriver.remote.webelement.WebElement (session=\"91ea2ae03248cefbb7e39b7c53224221\", element=\"0.6183152726888448-1\")>"
      ]
     },
     "execution_count": 7,
     "metadata": {},
     "output_type": "execute_result"
    }
   ],
   "source": [
    "#기존에 셀레늄은 page sourcee를 webdriver code로 반환하여 해당 코드를 풀어내는 방색이 필요하다\n",
    "#태그 안에 있는 정보는 get_attribute('text')로 추출 가능 or bs4와 마찬가지로 .text로 추출가능\n",
    "browser.find_element_by_css_selector('h3.tit_view')"
   ]
  },
  {
   "cell_type": "code",
   "execution_count": 14,
   "metadata": {},
   "outputs": [
    {
     "data": {
      "text/plain": [
       "'포커 정복한 AI, 어디까지 진화할까'"
      ]
     },
     "execution_count": 14,
     "metadata": {},
     "output_type": "execute_result"
    }
   ],
   "source": [
    "browser.find_element_by_css_selector('h3.tit_view').text"
   ]
  },
  {
   "cell_type": "code",
   "execution_count": 22,
   "metadata": {},
   "outputs": [],
   "source": [
    "code = browser.find_element_by_css_selector('div.news_view div[id = \"harmonyContainer\"]').find_elements_by_xpath('//p')"
   ]
  },
  {
   "cell_type": "code",
   "execution_count": 24,
   "metadata": {},
   "outputs": [],
   "source": [
    "#위와 같은 코드\n",
    "code = browser.find_element_by_css_selector('div.news_view div#harmonyContainer').find_elements_by_xpath('//p')"
   ]
  },
  {
   "cell_type": "code",
   "execution_count": 23,
   "metadata": {
    "scrolled": true
   },
   "outputs": [
    {
     "name": "stdout",
     "output_type": "stream",
     "text": [
      "\n",
      "\n",
      "(지디넷코리아=김익현 기자)한 때 ‘마이너리티 리포트’란 영화가 인기를 끈 적 있다. 최첨단 치안시스템을 통해 범죄를 미리 예측한 뒤 특수 경찰을 보내 미래의 범죄자들을 체포하는 얘기다.\n",
      "하지만 그 영화를 보면서 “그럴듯하다”고 생각했던 사람은 거의 없었다. ‘무서운 미래’이긴 했지만 ‘있음직한 미래상’은 아니었단 얘기다.\n",
      "최근 인공지능(AI)이 포커 시합에서 최고수 프로 선수를 꺾었단 소식을 접하면서 ‘마이너리티 리포트’가 황당한 얘기만은 아닐 수도 있다는 생각을 하게 됐다.\n",
      "일단 팩트부터 챙겨보자.\n",
      "프로 포커 선수 네 명을 꺾은 화제의 주인공은 리브라투스(Libratus)란 AI 프로그램이다. 미국 카네기멜론대학 연구팀이 개발한 이 프로그램은 지난 달 11일부터 30일까지 20일 동안 계속된 포커 대결에서 승리했다.\n",
      "자세한 얘기는 생략한다. 궁금한 분은 지디넷코리아에 게재된 기사를 확인해보시라.\n",
      "■ 바둑과는 또 다른 포커 정복\n",
      "이번 결과에 대해 카네기멜론대학 뿐 아니라 세계 주요 외신들도 흥분을 감추지 못하고 있다.\n",
      "당연히 궁금증이 제기되지 않을 수 없다. 이미 AI는 퀴즈쇼, 체스에 이어 난공불락의 영역이라 일컬어지던 바둑까지 정복했기 때문이다.\n",
      "세계 최강 이세돌 9단에 이어 중국의 커제 9단까지 알파고에 완패한 마당에 포커 시합에서 진 게 뭐 그리 대단한 일이냐고 생각할 수도 있다.\n",
      "하지만 포커와 바둑은 조금 다르다.\n",
      "물론 바둑 경기에서 고려해야 할 수는 무한 대에 가깝다. 한 수를 둘 때 가능한 수가 250개 정도에 이른다.한 경기에 150수 이상 둔다고 가정하면 '250의 150승’이란 경우의 수가 만들어진다. 이게 유기적으로 연결돼야 한다. 중간에 수 하나만 삐끗해도 시합을 망치게 된다.\n",
      "인공지능 시대\n",
      "갤러리 이동\n",
      "그 동안 ‘바둑은 인간의 영역’이라고 했던 건 인공지능은 직관적으로 문제를 해결하긴 쉽지 않을 것으로 생각했기 때문이다.\n",
      "이처럼 방대하긴 하지만 바둑 경기는 ‘모든 정보’를 갖고 임할 수 있다. 대국을 하는 두 선수는 전체 바둑판을 보면서 추론을 할 수 있다.\n",
      "그런데 포커는 다르다. 바둑과 달리 ‘제한된 정보’만 갖고 경기에 임해야 한다. 일단 상대방의 패를 볼 수가 없다.\n",
      "‘좋은 수’를 갖고 있다고 해서 꼭 이긴다는 보장도 없다. ‘뻥카’로 불리는 고도의 심리전이 중요한 전략적 무기중 하나다.\n",
      "이 차이는 인공지능 개발 과정에서도 중요한 의미를 갖는다. 바둑 대국을 한 알파고는 무수히 많은 상대의 수를 분석해서 내게 맞는 최적의 수를 찾아내면 됐다.\n",
      "하지만 포커 전문 AI는 반대 추론도 할 줄 알아야 한다. 무슨 얘기일까? 상대방이 내 약점을 어떻게 찌르고 들어오는지 추론한 뒤 방어 대책을 세워야 한다는 것이다. 그렇기 때문에 한 단계 더 진전된 능력으로 무장해야만 한다.\n",
      "그러다보니 이번 대결이 시작되기 전 국내 도박사이트들은 4대 1 정도로 인간 포커 기사들이 우세할 것으로 전망했다.\n",
      "리브라투스가 프로 포커 기사와 대결에서 승리한 게 의미 있는 건 이런 부분 때문이다.\n",
      "■ 외신들 \"불완전한 정보로 완벽한 추론\" 흥분\n",
      "이번 승리는 포커 AI가 ’불완전한 정보’를 토대로 상대방의 심리를 추론할 능력까지 갖췄다는 의미다. 주어진 수를 잘 읽는 AI보다 한 단계 더 높은 능력을 보여줬단 얘기다.\n",
      "실제로 이번 대결에서 승리한 카네기멜론대학 측은 “앞으로 비즈니스 협상 뿐 아니라 군사전략, 사이버 보안, 의료분야까지 활용 가능할 것”이라고 호언 장담했다.\n",
      "알파고와 달리 리브라투스 얘긴 아직 공식 논문으로 발표되진 않았다. 그런만큼 ‘어떻게 이겼는지’에 대한 자세한 얘긴 아직 공개되지 않았다.\n",
      "다만 카네기멜론대학 팀은 하루 11시간씩 계속된 포커 경기가 끝날 때마다 분석 작업을 했다고 밝히고 있다. 처음엔 포커를 둘 줄도 몰랐던 리브라투스는 경기가 거듭되면서 상대방의 수 뿐 아니라 ‘나의 약점’을 상대방이 어떻게 파고 드는지까지 분석해냈다고 한다.\n",
      "\n",
      "이쯤 되면 살짝 두렵다는 생각까지 든다. 게다가 리브라투스는 포커에만 특화된 프로그램이 아니라고 한다. 다른 영역에도 확장 가능하단 얘기다.\n",
      "루이빌대학 컴퓨터공학과의 로만 얌폴스키 교수는 라디언과 인터뷰에서 “비즈니스나 군사 작전에서 당신을 엿 먹일 수 있는 기계를 갖게 됐다”고 경고했다.\n",
      "무한대에 가깝던 바둑의 수를 읽어내던 AI가 이젠 상대방의 패를 보지도 못한 상태에서 ‘뻥카’까지 성공적으로 치는 수준으로 발전했다.\n",
      "이런 속도라면 어디까지 진화할 수 있을까?\n",
      "■ 알파고보다 더 무서운 포커 AI, 어디까지 진화할까\n",
      "자율주행차에 탑재한 인공지능이 운전자의 심리나 건강 상태를 본 뒤 ‘운전 금지’라면 시동 걸리길 거부할 수도 있지 않을까? ‘마이너리티 리포트’ 같은 범죄 예방 시스템이 등장하지 않을까? 그러다가 결국은 정치와 비즈니스 협상까지 인공지능에 맡겨야 할 시대가 오는 건 아닐까?\n",
      "포커 고수까지 인공지능에게 무릎 꿇었다는 소식을 접하면서 이런 생각들을 해봤다.\n",
      "아직까지 카네기멜론대학은 리브라투스 관련 논문을 공식 발표하진 않았다. 2월 중 학회에서 발표할 예정이라고 하니 논문이 나오길 손꼽아 기다려본다. 카네기멜론대학 측이 논문을 공식 발표하면 이 코너를 통해 상세하게 요약해드리겠단 ‘공약’을 해본다.\n",
      "(덧글)\n",
      "이번 대결 방식이 인간들에게 다소 불리했단 얘기도 있다. 이번 대회 기간 동안 매일 밤 10시까지 경기를 했다고 한다. 하루 11시간의 강행군이 끝나면 리브라투스와 인간 모두 ‘분석 작업’을 했다. 그래서 인간 선수들은 새벽 두 시에나 잠자리에 들 수 있었다고 한다.\n",
      "잠을 잘 필요도, 식사나 화장실을 갈 필요도 없는 인공지능과 달리, 인간들에겐 참 힘든 여정이었겠단 생각을 해봤다.\n",
      "김익현 기자(sini@zdnet.co.kr)\n",
      "이 기사가 터무니없는 이유....뻥카로 이긴 횟수가 표시되지 않았기에 과연 정말 그런 추론을 했는지가 증명이 되지않았다\n",
      "만약 포커를 모두 외울정도의 기억력이 존재한다면 확률상 대부분 승리할 것이다\n",
      "그러니 그 승리가 뻥카까지 섭렵한 승리인지 판단이 불가능하다는 것이다\n",
      "Al 기술력이 진화해서\n",
      "여러가지 영역에서 인간의 두뇌와 시합하는\n",
      "모험은 좋지만..\n",
      " 인간은 두뇌를\n",
      "선하게 잘 쓸수 있는 마음의 지능이 있지만\n",
      "기계는 입력된 프로그램을 이용해서\n",
      "최적의 답안을 내는  숙련된 기계 지능일뿐인~\n",
      "인간을 위한 선한 도구가 될지\n",
      "위험 인자를 가지고\n",
      "인간들을 해할 것인지를\n",
      "깊이 고뇌하고\n",
      "지식이\n",
      "인간에게 주는 효율적인 편리함과\n",
      "인간 사회를 이롭게 하는데에\n",
      "인공지능이 할일에\n",
      "대해서..\n",
      "바른 가치관의 정립도\n",
      "뿌리를 내리는..\n",
      "인공지능을 우습게 알지 마라 앞으로 양자컴퓨터와 인공지능이 결합하면 지금과는 진짜로 다른세상이 전개된다\n"
     ]
    }
   ],
   "source": [
    "for i in code:\n",
    "    print(i.text)"
   ]
  },
  {
   "cell_type": "markdown",
   "metadata": {},
   "source": [
    "### css_selector 속성으로 찾기"
   ]
  },
  {
   "cell_type": "code",
   "execution_count": 37,
   "metadata": {},
   "outputs": [],
   "source": [
    "cate = browser.find_elements_by_css_selector('div[role=\"navigation\"] ul.gnb_comm li')"
   ]
  },
  {
   "cell_type": "code",
   "execution_count": 38,
   "metadata": {},
   "outputs": [
    {
     "name": "stdout",
     "output_type": "stream",
     "text": [
      "홈\n",
      "사회\n",
      "정치\n",
      "경제\n",
      "국제\n",
      "문화\n",
      "IT\n",
      "랭킹\n",
      "연재\n",
      "포토\n",
      "TV\n"
     ]
    }
   ],
   "source": [
    "for i in cate:\n",
    "    print(i.text)"
   ]
  },
  {
   "cell_type": "code",
   "execution_count": null,
   "metadata": {},
   "outputs": [],
   "source": []
  },
  {
   "cell_type": "markdown",
   "metadata": {},
   "source": [
    "# XML"
   ]
  },
  {
   "cell_type": "code",
   "execution_count": null,
   "metadata": {},
   "outputs": [],
   "source": []
  }
 ],
 "metadata": {
  "kernelspec": {
   "display_name": "Python 3",
   "language": "python",
   "name": "python3"
  },
  "language_info": {
   "codemirror_mode": {
    "name": "ipython",
    "version": 3
   },
   "file_extension": ".py",
   "mimetype": "text/x-python",
   "name": "python",
   "nbconvert_exporter": "python",
   "pygments_lexer": "ipython3",
   "version": "3.6.5"
  }
 },
 "nbformat": 4,
 "nbformat_minor": 2
}
