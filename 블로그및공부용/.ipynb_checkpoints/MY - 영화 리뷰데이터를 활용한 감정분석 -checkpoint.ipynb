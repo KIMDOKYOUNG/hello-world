{
 "cells": [
  {
   "cell_type": "code",
   "execution_count": 16,
   "metadata": {},
   "outputs": [],
   "source": [
    "import requests # 웹 페이지 소스를 얻기 위한 패키지(기본 내장 패키지이다.)\n",
    "from bs4 import BeautifulSoup # 웹 페이지 소스를 얻기 위한 패키지, 더 간단히 얻을 수 있다는 장점이 있다고 한다.\n",
    "from datetime import datetime                                # (!pip install beautifulsoup4 으로 다운받을 수 있다.)\n",
    "import pandas as pd # 데이터를 처리하기 위한 가장 기본적인 패키지\n",
    "import time # 사이트를 불러올 때, 작업 지연시간을 지정해주기 위한 패키지이다. (사이트가 늦게 켜지면 에러가 발생하기 때문)\n",
    "import urllib.request #\n",
    "from selenium.webdriver import Chrome\n",
    "import json\n",
    "import re     \n",
    "from selenium.webdriver.chrome.options import Options\n",
    "from selenium.webdriver.common.keys import Keys\n",
    "import datetime as dt"
   ]
  },
  {
   "cell_type": "code",
   "execution_count": 14,
   "metadata": {},
   "outputs": [],
   "source": [
    "def read_data(filename):\n",
    "    with open(filename, 'r') as f: #데이터 f 함수를 이용하여 불러오기\n",
    "        data = [line.split('\\t') for line in f.read().splitlines()] \n",
    "        #f 함수를 이용하여 먼저 줄별로 split한 데이터를 반복문을 통해서 띄어쓰기를 구분자로 split한 것을 리스트로 반환\n",
    "    \n",
    "        # txt 파일의 헤더(id document label)는 제외하기\n",
    "        data = data[1:]\n",
    "    return data"
   ]
  },
  {
   "cell_type": "code",
   "execution_count": 15,
   "metadata": {},
   "outputs": [],
   "source": [
    "train_df = read_data('ratings_train.txt')"
   ]
  },
  {
   "cell_type": "code",
   "execution_count": 17,
   "metadata": {},
   "outputs": [],
   "source": [
    "test_df = read_data('ratings_text.txt')"
   ]
  },
  {
   "cell_type": "code",
   "execution_count": 191,
   "metadata": {},
   "outputs": [
    {
     "data": {
      "text/plain": [
       "['9976970', '아 더빙.. 진짜 짜증나네요 목소리', '0']"
      ]
     },
     "execution_count": 191,
     "metadata": {},
     "output_type": "execute_result"
    }
   ],
   "source": [
    "train_df[0]"
   ]
  },
  {
   "cell_type": "markdown",
   "metadata": {},
   "source": [
    "# 지금 모델도 영화 리뷰 데이터를 이용하여 모델을 학습시켰는데 네이버 평점 데이터를 많이 크롤링 하여 모델에 학습시키면 좋을 듯."
   ]
  },
  {
   "cell_type": "code",
   "execution_count": null,
   "metadata": {},
   "outputs": [],
   "source": []
  },
  {
   "cell_type": "markdown",
   "metadata": {},
   "source": [
    "# 텍스트 데이터 전처리를 단어의 빈도만을사용?"
   ]
  },
  {
   "cell_type": "markdown",
   "metadata": {},
   "source": [
    "# 텍스트 데이터 전처리 - konlpy의 okt를 이용"
   ]
  },
  {
   "cell_type": "code",
   "execution_count": 18,
   "metadata": {},
   "outputs": [],
   "source": [
    "from konlpy.tag import Okt\n",
    "import json\n",
    "import os\n",
    "from pprint import pprint"
   ]
  },
  {
   "cell_type": "code",
   "execution_count": 19,
   "metadata": {
    "scrolled": true
   },
   "outputs": [
    {
     "data": {
      "text/plain": [
       "[('당신', 'Noun'),\n",
       " ('을', 'Josa'),\n",
       " ('보고', 'Noun'),\n",
       " ('있으니', 'Adjective'),\n",
       " ('정말로', 'Adverb'),\n",
       " ('기분', 'Noun'),\n",
       " ('이', 'Josa'),\n",
       " ('좋아집니다', 'Verb')]"
      ]
     },
     "execution_count": 19,
     "metadata": {},
     "output_type": "execute_result"
    }
   ],
   "source": [
    "#밑의 tokenizing함수를 이해하기 편하도록 들어놓은 예시 \n",
    "#tokenizing함수의 반복문 구조를 보시면 아래에 나온 결과를 반복문으로 '/'를 구분자로 결합시킵니다.\n",
    "okt = Okt()\n",
    "okt.pos('당신을 보고 있으니 정말로 기분이 좋아집니다') "
   ]
  },
  {
   "cell_type": "code",
   "execution_count": 20,
   "metadata": {},
   "outputs": [],
   "source": [
    "# 하나의 문장을 토큰화 한 후 텍스트와 품사태깅을 / 구분자로 묶어준다.\n",
    "def tokenizing(docs):\n",
    "    return ['/'.join(t) for t in okt.pos(docs,norm=True, stem=True)]"
   ]
  },
  {
   "cell_type": "code",
   "execution_count": 32,
   "metadata": {},
   "outputs": [],
   "source": [
    "#문장구조에 아무것도 안써있는 빈 문서가 많기 때문에 예외처리를 해줘야한다.\n",
    "#해당코드는 일단 돌리지않음\n",
    "train_pos = [(tokenizing(row[1]),row[2]) for row in train_df]\n",
    "test_pos = [(tokenizing(row[1]),row[2]) for row in test_df]\n"
   ]
  },
  {
   "cell_type": "code",
   "execution_count": 22,
   "metadata": {},
   "outputs": [],
   "source": [
    "train_pos = [] #훈련데이터\n",
    "test_pos = [] #테스트 데이터\n",
    "for row in train_df:\n",
    "    try:\n",
    "        train_pos0 = [tokenizing(row[1]),row[2]] \n",
    "        #리스트 안에 한문장에 대해서 위에서 만든 tokenizing함수를 통해서 [[토큰화텍스트],긍/부정 여부]를\n",
    "        #리스트의 각문장별로 요소로 넣는다.\n",
    "        train_pos.append(train_pos0)\n",
    "    except:\n",
    "        pass\n",
    "    \n",
    "for row in test_df:\n",
    "    try:\n",
    "        test_pos0 = [tokenizing(row[1]),row[2]] \n",
    "        test_pos.append(test_pos0)\n",
    "    except:\n",
    "        pass"
   ]
  },
  {
   "cell_type": "code",
   "execution_count": 23,
   "metadata": {
    "scrolled": true
   },
   "outputs": [
    {
     "name": "stdout",
     "output_type": "stream",
     "text": [
      "[['아/Exclamation',\n",
      "  '더빙/Noun',\n",
      "  '../Punctuation',\n",
      "  '진짜/Noun',\n",
      "  '짜증나다/Adjective',\n",
      "  '목소리/Noun'],\n",
      " '0']\n"
     ]
    }
   ],
   "source": [
    "pprint(train_pos[0])"
   ]
  },
  {
   "cell_type": "code",
   "execution_count": 24,
   "metadata": {},
   "outputs": [],
   "source": [
    "#위에서 만든 데아터에서 긍/부정을 제외하고 token에 넣어준다. [[a],b] 에서 a만 넣는다고 생각하면 됨\n",
    "tokens = [t for d in train_pos for t in d[0]]"
   ]
  },
  {
   "cell_type": "markdown",
   "metadata": {},
   "source": [
    "# nltk라이브러리를 활용한 데이터 탐색"
   ]
  },
  {
   "cell_type": "code",
   "execution_count": 25,
   "metadata": {},
   "outputs": [],
   "source": [
    "import nltk\n",
    "text = nltk.Text(tokens,name='NMSC') #nltk라이브러리를 통해서 텍스트 데이터 나열"
   ]
  },
  {
   "cell_type": "code",
   "execution_count": 197,
   "metadata": {},
   "outputs": [
    {
     "data": {
      "text/plain": [
       "['아/Exclamation',\n",
       " '더빙/Noun',\n",
       " '../Punctuation',\n",
       " '진짜/Noun',\n",
       " '짜증나다/Adjective',\n",
       " '목소리/Noun',\n",
       " '흠/Noun',\n",
       " '.../Punctuation',\n",
       " '포스터/Noun',\n",
       " '보고/Noun']"
      ]
     },
     "execution_count": 197,
     "metadata": {},
     "output_type": "execute_result"
    }
   ],
   "source": [
    "text[0:10]"
   ]
  },
  {
   "cell_type": "code",
   "execution_count": 193,
   "metadata": {},
   "outputs": [
    {
     "data": {
      "text/plain": [
       "35425"
      ]
     },
     "execution_count": 193,
     "metadata": {},
     "output_type": "execute_result"
    }
   ],
   "source": [
    "len(set(text.tokens))#35425개의 고유 텍스트가 존재"
   ]
  },
  {
   "cell_type": "markdown",
   "metadata": {},
   "source": [
    "#### vocab().most_common method는 출현빈도가 높은 단어를 가져올 수 있음"
   ]
  },
  {
   "cell_type": "code",
   "execution_count": 27,
   "metadata": {},
   "outputs": [
    {
     "data": {
      "text/plain": [
       "[('./Punctuation', 33117),\n",
       " ('영화/Noun', 24814),\n",
       " ('하다/Verb', 20038),\n",
       " ('이/Josa', 18643),\n",
       " ('보다/Verb', 18600),\n",
       " ('의/Josa', 14647),\n",
       " ('../Punctuation', 14094),\n",
       " ('가/Josa', 12852),\n",
       " ('에/Josa', 12837),\n",
       " ('을/Josa', 11249)]"
      ]
     },
     "execution_count": 27,
     "metadata": {},
     "output_type": "execute_result"
    }
   ],
   "source": [
    "text.vocab().most_common(10) #상위 10개 보여주기"
   ]
  },
  {
   "cell_type": "markdown",
   "metadata": {},
   "source": [
    "#### text visualization - matplot를 활용"
   ]
  },
  {
   "cell_type": "code",
   "execution_count": 81,
   "metadata": {},
   "outputs": [],
   "source": [
    "import matplotlib.pyplot as plt\n",
    "from matplotlib import font_manager,rc\n",
    "%matplotlib inline"
   ]
  },
  {
   "cell_type": "code",
   "execution_count": 82,
   "metadata": {
    "scrolled": false
   },
   "outputs": [
    {
     "name": "stderr",
     "output_type": "stream",
     "text": [
      "C:\\Users\\tlsal\\Anaconda3\\lib\\site-packages\\matplotlib\\font_manager.py:1328: UserWarning: findfont: Font family ['Gulim'] not found. Falling back to DejaVu Sans\n",
      "  (prop.get_family(), self.defaultFamily[fontext]))\n"
     ]
    },
    {
     "data": {
      "image/png": "[encoded data removed]",
      "text/plain": [
       "<Figure size 1440x720 with 1 Axes>"
      ]
     },
     "metadata": {},
     "output_type": "display_data"
    }
   ],
   "source": [
    "font_fname = 'c:/windows/fonts/gulim.ttc'\n",
    "font_name = font_manager.FontProperties(fname=font_fname).get_name()\n",
    "rc('font', family=font_name)\n",
    "\n",
    "plt.figure(figsize=(20,10))\n",
    "text.plot(50)"
   ]
  },
  {
   "cell_type": "markdown",
   "metadata": {},
   "source": [
    "# countvectorization\n",
    "문서 집합에서 단어 토큰을 생성하고 각 단어의 수를 세어 bag of words 인코딩한 벡터를 만드는 역할"
   ]
  },
  {
   "cell_type": "code",
   "execution_count": 28,
   "metadata": {},
   "outputs": [],
   "source": [
    "#단어 빈도수가 높은 10000개의 단어만 사용하여 각 리뷰 문장마다의 평가지표로 삼는다.\n",
    "selected_words = [f[0] for f in text.vocab().most_common(10000)]"
   ]
  },
  {
   "cell_type": "code",
   "execution_count": 31,
   "metadata": {},
   "outputs": [
    {
     "name": "stdout",
     "output_type": "stream",
     "text": [
      "'./Punctuation'\n",
      "'예시 = 1'\n"
     ]
    }
   ],
   "source": [
    "pprint(selected_words[0])\n",
    "pprint('예시 = ' + str(selected_words[0].count('P')))"
   ]
  },
  {
   "cell_type": "code",
   "execution_count": 116,
   "metadata": {},
   "outputs": [
    {
     "data": {
      "text/plain": [
       "'보다/Verb'"
      ]
     },
     "execution_count": 116,
     "metadata": {},
     "output_type": "execute_result"
    }
   ],
   "source": [
    "selected_word[4]"
   ]
  },
  {
   "cell_type": "code",
   "execution_count": 32,
   "metadata": {},
   "outputs": [],
   "source": [
    "#term_frequency()함수는 위에서 만든 selected_words의 갯수에 따라서 각 리뷰와 매칭하여 상위 텍스트가 \n",
    "#각 리뷰에 얼만큼 표현되는지 빈도를 만들기 위한 함수\n",
    "def term_frequency(doc):\n",
    "    return [doc.count(word) for word in selected_words]"
   ]
  },
  {
   "cell_type": "code",
   "execution_count": 33,
   "metadata": {},
   "outputs": [],
   "source": [
    "train_x = [term_frequency(d) for d, _ in train_pos]\n",
    "#train_x만 설명하자면 위의 결과로 도출되는 train_x의 구조는 아래와 같다\n",
    "#[[1번째리뷰를 상위 10000개와 각각 매칭하여 각 10000개의 단어가 해당 문장에 얼마나 포함되는지를 확인]]\n",
    "#리스트 차원으로 표현하면 [[10000개],[10000개],[10000개]....[10000개]] 가장 바깥 리스트의 갯수는 기존 train_pos의 리뷰 갯수와 같다.\n",
    "test_x = [term_frequency(d) for d, _ in test_pos]\n",
    "train_y = [c for _, c in train_pos] #train_pos데이터에서 각 리뷰별 긍/부정 여부 데이터이므로 train_pos의 리뷰갯수와 같은 사이즈이다.\n",
    "test_y = [c for _, c in test_pos]"
   ]
  },
  {
   "cell_type": "code",
   "execution_count": 201,
   "metadata": {},
   "outputs": [
    {
     "data": {
      "text/plain": [
       "['아/Exclamation',\n",
       " '더빙/Noun',\n",
       " '../Punctuation',\n",
       " '진짜/Noun',\n",
       " '짜증나다/Adjective',\n",
       " '목소리/Noun']"
      ]
     },
     "execution_count": 201,
     "metadata": {},
     "output_type": "execute_result"
    }
   ],
   "source": [
    "train_pos[0][0]"
   ]
  },
  {
   "cell_type": "code",
   "execution_count": 124,
   "metadata": {},
   "outputs": [
    {
     "data": {
      "text/plain": [
       "1"
      ]
     },
     "execution_count": 124,
     "metadata": {},
     "output_type": "execute_result"
    }
   ],
   "source": [
    "train_pos[0][0].count('아/Exclamation')"
   ]
  },
  {
   "cell_type": "code",
   "execution_count": 35,
   "metadata": {},
   "outputs": [],
   "source": [
    "for i,_ in train_pos:\n",
    "    a=i\n",
    "    b=_"
   ]
  },
  {
   "cell_type": "code",
   "execution_count": 36,
   "metadata": {
    "scrolled": true
   },
   "outputs": [
    {
     "data": {
      "text/plain": [
       "['최근/Noun',\n",
       " '개봉/Noun',\n",
       " '한/Josa',\n",
       " '영화/Noun',\n",
       " '신데렐라/Noun',\n",
       " '때문/Noun',\n",
       " '에/Josa',\n",
       " '오랜/Modifier',\n",
       " '만/Noun',\n",
       " '에/Josa',\n",
       " '다시/Noun',\n",
       " '찾아보다/Verb',\n",
       " '영화/Noun',\n",
       " './Punctuation',\n",
       " '스토리/Noun',\n",
       " '는/Josa',\n",
       " '보다/Verb',\n",
       " '작품/Noun',\n",
       " '이/Josa',\n",
       " '더/Noun',\n",
       " '신선하다/Adjective',\n",
       " '재밌다/Adjective',\n",
       " '생각/Noun',\n",
       " '함/Noun',\n",
       " './Punctuation']"
      ]
     },
     "execution_count": 36,
     "metadata": {},
     "output_type": "execute_result"
    }
   ],
   "source": [
    "a"
   ]
  },
  {
   "cell_type": "code",
   "execution_count": 202,
   "metadata": {},
   "outputs": [
    {
     "data": {
      "text/plain": [
       "72475"
      ]
     },
     "execution_count": 202,
     "metadata": {},
     "output_type": "execute_result"
    }
   ],
   "source": [
    "len(train_x)"
   ]
  },
  {
   "cell_type": "code",
   "execution_count": 203,
   "metadata": {},
   "outputs": [
    {
     "data": {
      "text/plain": [
       "10000"
      ]
     },
     "execution_count": 203,
     "metadata": {},
     "output_type": "execute_result"
    }
   ],
   "source": [
    "len(train_x[0])"
   ]
  },
  {
   "cell_type": "code",
   "execution_count": 46,
   "metadata": {},
   "outputs": [
    {
     "data": {
      "text/plain": [
       "72475"
      ]
     },
     "execution_count": 46,
     "metadata": {},
     "output_type": "execute_result"
    }
   ],
   "source": [
    "len(train_y)"
   ]
  },
  {
   "cell_type": "code",
   "execution_count": 48,
   "metadata": {},
   "outputs": [],
   "source": [
    "#모델링을 하기 위해 리스트로 되어 있는 데이터 형식을 array로 바꿔주고 dtype도 실수로 바꿔준다.\n",
    "import numpy as np\n",
    "\n",
    "x_train = np.asarray(train_x).astype('float32')\n",
    "x_test = np.asarray(test_x).astype('float32')\n",
    "\n",
    "y_train = np.asarray(train_y).astype('float32')\n",
    "y_test = np.asarray(test_y).astype('float32')"
   ]
  },
  {
   "cell_type": "code",
   "execution_count": 81,
   "metadata": {},
   "outputs": [
    {
     "data": {
      "text/plain": [
       "array([ 0.,  0.,  0., ...,  0.,  0.,  0.], dtype=float32)"
      ]
     },
     "execution_count": 81,
     "metadata": {},
     "output_type": "execute_result"
    }
   ],
   "source": [
    "x_train[0]"
   ]
  },
  {
   "cell_type": "markdown",
   "metadata": {},
   "source": [
    "# 모델 학습 (해당 text 긍/부정 예측 알고리즘)"
   ]
  },
  {
   "cell_type": "code",
   "execution_count": 8,
   "metadata": {},
   "outputs": [],
   "source": [
    "from keras import models\n",
    "from keras import layers\n",
    "from keras import optimizers\n",
    "from keras import losses\n",
    "from keras import metrics"
   ]
  },
  {
   "cell_type": "markdown",
   "metadata": {},
   "source": [
    "#### 1. 위의 두개의 dense층은 64개의 유닛을 가지고 relu활성화함수사용\n",
    "\n",
    "#### 2. 마지막 층은 1개의 유닛으로 시그모이드 활성화함수를 사용하여 - 즉 긍정의 리뷰일 확률을 출력한다. (부정의 리뷰일 확률은 어떻게 추출하지?)\n",
    "\n",
    "#### 3. 손실함수로 binary_crossentropy사용 / rmsprop 옵티마이저를 통해서 경사하강법 진행"
   ]
  },
  {
   "cell_type": "code",
   "execution_count": 37,
   "metadata": {},
   "outputs": [],
   "source": [
    "model = models.Sequential()\n",
    "model.add(layers.Dense(64, activation='relu', input_shape=(10000,)))#10000개를 추출했으므로 shape는10000\n",
    "model.add(layers.Dense(64, activation='relu'))\n",
    "model.add(layers.Dense(1, activation='sigmoid'))"
   ]
  },
  {
   "cell_type": "code",
   "execution_count": 38,
   "metadata": {},
   "outputs": [],
   "source": [
    "model.compile(optimizer=optimizers.RMSprop(lr=0.001),\n",
    "             loss=losses.binary_crossentropy,\n",
    "             metrics=[metrics.binary_accuracy])"
   ]
  },
  {
   "cell_type": "code",
   "execution_count": 55,
   "metadata": {},
   "outputs": [
    {
     "name": "stdout",
     "output_type": "stream",
     "text": [
      "Epoch 1/10\n",
      "72475/72475 [==============================] - 10s 144us/step - loss: 0.4199 - binary_accuracy: 0.8222\n",
      "Epoch 2/10\n",
      "72475/72475 [==============================] - 10s 138us/step - loss: 0.3241 - binary_accuracy: 0.8633\n",
      "Epoch 3/10\n",
      "72475/72475 [==============================] - 10s 137us/step - loss: 0.2872 - binary_accuracy: 0.8796\n",
      "Epoch 4/10\n",
      "72475/72475 [==============================] - 10s 137us/step - loss: 0.2586 - binary_accuracy: 0.8931\n",
      "Epoch 5/10\n",
      "72475/72475 [==============================] - 10s 137us/step - loss: 0.2336 - binary_accuracy: 0.90660s - loss: 0.2338 - binary_accuracy: 0.906\n",
      "Epoch 6/10\n",
      "72475/72475 [==============================] - 10s 138us/step - loss: 0.2113 - binary_accuracy: 0.9173\n",
      "Epoch 7/10\n",
      "72475/72475 [==============================] - 10s 137us/step - loss: 0.1900 - binary_accuracy: 0.9284\n",
      "Epoch 8/10\n",
      "72475/72475 [==============================] - 10s 138us/step - loss: 0.1688 - binary_accuracy: 0.9372\n",
      "Epoch 9/10\n",
      "72475/72475 [==============================] - 10s 137us/step - loss: 0.1480 - binary_accuracy: 0.9474\n",
      "Epoch 10/10\n",
      "72475/72475 [==============================] - 10s 137us/step - loss: 0.1287 - binary_accuracy: 0.9550\n",
      "13397/13397 [==============================] - 2s 138us/step\n"
     ]
    }
   ],
   "source": [
    "model.fit(x_train, y_train, epochs=10, batch_size=512)\n",
    "results = model.evaluate(x_test, y_test)"
   ]
  },
  {
   "cell_type": "code",
   "execution_count": 58,
   "metadata": {},
   "outputs": [
    {
     "data": {
      "text/plain": [
       "[0.51128432955605385, 0.83966559677984653]"
      ]
     },
     "execution_count": 58,
     "metadata": {},
     "output_type": "execute_result"
    }
   ],
   "source": [
    "results #83%의 정확도를 가진다. results[0] = 0.511은 뭐를 나타내는 거지?? 표준편차?"
   ]
  },
  {
   "cell_type": "markdown",
   "metadata": {},
   "source": [
    "# 새로운 데이터로 결과 예측"
   ]
  },
  {
   "cell_type": "code",
   "execution_count": 204,
   "metadata": {},
   "outputs": [],
   "source": [
    "def predict_pos_text(text):\n",
    "    token = tokenizing(text) #okt.pos로 토큰화한 단어를 정리\n",
    "    tf =term_frequency(token)#토큰화된 단어를 이용해서 가장 많이 등장하는 단어와의 빈도수 체크\n",
    "\n",
    "    data = np.expand_dims(np.asarray(tf).astype('float32'), axis=0)\n",
    "    #data는 그럼 입력받는 text가 한 문장만 받기 때문에 가장 바깥 리스트의 요소 갯수는 1이 될 것이고\n",
    "    #마찬가지로 리스트 안 리스트 요소내의 갯수는 10000개가 될 것이다.\n",
    "    #np.expand_dims?? \n",
    "    score = float(model.predict(data)) #새로운 데이터를 받으면 결과 예측\n",
    "    if(score > 0.5):\n",
    "        print(\"[{}]는 {:.2f}% 확률로 긍정 리뷰입니다.\\n\".format(text, score * 100))\n",
    "    else:\n",
    "        print(\"[{}]는 {:.2f}% 확률로 부정 리뷰입니다.\\n\".format(text, (1 - score) * 100))\n",
    "    "
   ]
  },
  {
   "cell_type": "code",
   "execution_count": 205,
   "metadata": {},
   "outputs": [
    {
     "name": "stdout",
     "output_type": "stream",
     "text": [
      "[시간 남아도는 사람만 이 영화 보세요]는 95.79% 확률로 부정 리뷰입니다.\n",
      "\n"
     ]
    }
   ],
   "source": [
    "predict_pos_text(\"시간 남아도는 사람만 이 영화 보세요\")"
   ]
  },
  {
   "cell_type": "code",
   "execution_count": 206,
   "metadata": {},
   "outputs": [
    {
     "name": "stdout",
     "output_type": "stream",
     "text": [
      "[믿고 보는 감독이지만 이번에는 아니네요]는 78.26% 확률로 긍정 리뷰입니다.\n",
      "\n"
     ]
    }
   ],
   "source": [
    "predict_pos_text(\"믿고 보는 감독이지만 이번에는 아니네요\")"
   ]
  },
  {
   "cell_type": "code",
   "execution_count": 207,
   "metadata": {},
   "outputs": [
    {
     "name": "stdout",
     "output_type": "stream",
     "text": [
      "[각오하고 보니까 의외로 재미는 있다. 스핀오프라 치면 진 그레이도 되게 멋지고 이뻐서 오직 진을 위한 임팩트는 잘 담았다. 근데 데오퓨 설정 무시한 갑툭튀 불사조 엔딩이 시리즈 최후라니 ㅋㅋ 엑스맨 정사는 데오퓨까지고. 압카,닼피는 걍 평행우주여야함.  ]는 95.28% 확률로 긍정 리뷰입니다.\n",
      "\n"
     ]
    }
   ],
   "source": [
    "predict_pos_text('각오하고 보니까 의외로 재미는 있다. 스핀오프라 치면 진 그레이도 되게 멋지고 이뻐서 오직 진을 위한 임팩트는 잘 담았다. 근데 데오퓨 설정 무시한 갑툭튀 불사조 엔딩이 시리즈 최후라니 ㅋㅋ 엑스맨 정사는 데오퓨까지고. 압카,닼피는 걍 평행우주여야함.  ')"
   ]
  },
  {
   "cell_type": "markdown",
   "metadata": {},
   "source": [
    "# 네이버 평점을 통한 모델링 검증"
   ]
  },
  {
   "cell_type": "code",
   "execution_count": 82,
   "metadata": {},
   "outputs": [],
   "source": [
    "base_url = 'https://movie.naver.com/movie/bi/mi/point.nhn?code=164125'#해당 영화의 평점을 수집할 수 있는 url"
   ]
  },
  {
   "cell_type": "code",
   "execution_count": 83,
   "metadata": {},
   "outputs": [],
   "source": [
    "browser = Chrome() #chrome web driver 실행\n",
    "browser.maximize_window() #chrome web browser 최대화\n",
    "browser.get(base_url) #지정해 놓은 url로 이동"
   ]
  },
  {
   "cell_type": "code",
   "execution_count": 126,
   "metadata": {},
   "outputs": [],
   "source": [
    "browser.switch_to_frame(browser.find_element_by_id('pointAfterListIframe'))"
   ]
  },
  {
   "cell_type": "code",
   "execution_count": 106,
   "metadata": {},
   "outputs": [],
   "source": [
    "#iframe구조 빠져나오기\n",
    "browser.switch_to_default_content()"
   ]
  },
  {
   "cell_type": "code",
   "execution_count": 127,
   "metadata": {},
   "outputs": [],
   "source": [
    "#네이버 평점 데이터 1000개 수집\n",
    "naver_movie = pd.DataFrame({'star_score':[], #columns만 있는 df만들기\n",
    "                           'review':[]})\n",
    "for page in range(0,100): #페이지를 100번만 이동\n",
    "    time.sleep(1) #1초의 시간 delay\n",
    "    html0 = browser.page_source #selenuim에서 현재 있는 browser의 페이지 소스 불러오기\n",
    "    html1 = BeautifulSoup(html0,'html.parser') #bs4를 이용하여 html로 파싱하기\n",
    "    html2 = html1.find('div',{'class':'ifr_area basic_ifr'}) #댓글반응과 별점을 포함하고 있는 tag찾기\n",
    "    review0 = html2.find('div',{'class':'score_result'}).find_all('li')#각 댓글별로 list화\n",
    "    \n",
    "    for i in range(len(review0)): #한페이지 내에서 모든 댓글을 수집하기 위한 반복문\n",
    "        star_score = review0[i].find('div',{'class':'star_score'}).find('em').text #별점\n",
    "        review = review0[i].find('div',{'class':'score_reple'}).find('p').text#댓글\n",
    "        \n",
    "        insert_data = pd.DataFrame({'star_score':[star_score],\n",
    "                                    'review':[review]})\n",
    "        naver_movie = naver_movie.append(insert_data)\n",
    "        \n",
    "    #다음페이지로 넘어가기\n",
    "    if page == 0:\n",
    "        browser.find_elements_by_xpath('//*[@class = \"paging\"]/div/a')[10].click()\n",
    "    else:\n",
    "        browser.find_elements_by_xpath('//*[@class = \"paging\"]/div/a')[11].click()\n",
    "\n",
    "        \n",
    "naver_movie.index = range(len(naver_movie))"
   ]
  },
  {
   "cell_type": "code",
   "execution_count": 131,
   "metadata": {
    "scrolled": true
   },
   "outputs": [
    {
     "data": {
      "text/html": [
       "<div>\n",
       "<style scoped>\n",
       "    .dataframe tbody tr th:only-of-type {\n",
       "        vertical-align: middle;\n",
       "    }\n",
       "\n",
       "    .dataframe tbody tr th {\n",
       "        vertical-align: top;\n",
       "    }\n",
       "\n",
       "    .dataframe thead th {\n",
       "        text-align: right;\n",
       "    }\n",
       "</style>\n",
       "<table border=\"1\" class=\"dataframe\">\n",
       "  <thead>\n",
       "    <tr style=\"text-align: right;\">\n",
       "      <th></th>\n",
       "      <th>star_score</th>\n",
       "      <th>review</th>\n",
       "    </tr>\n",
       "  </thead>\n",
       "  <tbody>\n",
       "    <tr>\n",
       "      <th>0</th>\n",
       "      <td>7</td>\n",
       "      <td>데오퓨 미래에서 분명히 진 살아있고 찰스는 교수자리 앉아있었는데 그럼 진은 우주에서...</td>\n",
       "    </tr>\n",
       "    <tr>\n",
       "      <th>1</th>\n",
       "      <td>10</td>\n",
       "      <td>근데 솔까 타노스보다 더 쎈게 피닉스포스인데 한편으로 끝내는게 좀 그렇네</td>\n",
       "    </tr>\n",
       "    <tr>\n",
       "      <th>2</th>\n",
       "      <td>10</td>\n",
       "      <td>데오퓨로 살려놨더니 아포칼립스로 관짝에 못박고 이번으로 부관참시까지..</td>\n",
       "    </tr>\n",
       "    <tr>\n",
       "      <th>3</th>\n",
       "      <td>10</td>\n",
       "      <td>관람객뭔가 아쉬운 영화  ㅋㅋㅋ</td>\n",
       "    </tr>\n",
       "    <tr>\n",
       "      <th>4</th>\n",
       "      <td>10</td>\n",
       "      <td>오후에 개봉하는거 담합하는거냐? 아니면 기생충 밀어주려고 일부러 오후에 개봉하는거냐...</td>\n",
       "    </tr>\n",
       "    <tr>\n",
       "      <th>5</th>\n",
       "      <td>8</td>\n",
       "      <td>마무리로서는 아쉬운 면이 있지만 그래도 아포칼립스보다는 많이 괜찮아진 느낌 그리고 ...</td>\n",
       "    </tr>\n",
       "    <tr>\n",
       "      <th>6</th>\n",
       "      <td>10</td>\n",
       "      <td>스케일은 확실히 엄청나긴하다.. 다만 좀 아쉬운게 꽤있긴함..</td>\n",
       "    </tr>\n",
       "    <tr>\n",
       "      <th>7</th>\n",
       "      <td>2</td>\n",
       "      <td>나의 엑스맨은 로건에서 끝났다....</td>\n",
       "    </tr>\n",
       "    <tr>\n",
       "      <th>8</th>\n",
       "      <td>7</td>\n",
       "      <td>각오하고 보니까 의외로 재미는 있다. 스핀오프라 치면 진 그레이도 되게 멋지고 이뻐...</td>\n",
       "    </tr>\n",
       "    <tr>\n",
       "      <th>9</th>\n",
       "      <td>10</td>\n",
       "      <td>패스벤더 보는걸로 일단 10점</td>\n",
       "    </tr>\n",
       "    <tr>\n",
       "      <th>10</th>\n",
       "      <td>8</td>\n",
       "      <td>상영시간이 짧은 건 초반 우주선씬을 생략한 것 같고 억지도 있지만 지루하진 않았다....</td>\n",
       "    </tr>\n",
       "    <tr>\n",
       "      <th>11</th>\n",
       "      <td>4</td>\n",
       "      <td>나의 엑스맨을... 이따위로 끝내다니.. 하...</td>\n",
       "    </tr>\n",
       "    <tr>\n",
       "      <th>12</th>\n",
       "      <td>10</td>\n",
       "      <td>마지막인게 아쉽지만 너무 좋았다..</td>\n",
       "    </tr>\n",
       "    <tr>\n",
       "      <th>13</th>\n",
       "      <td>10</td>\n",
       "      <td>마지막인데 봐줘야지 ~~</td>\n",
       "    </tr>\n",
       "    <tr>\n",
       "      <th>14</th>\n",
       "      <td>1</td>\n",
       "      <td>살면서 댓글 처음 달아본다. 지금까지 엑스맨 시리즈를 전부 부정하는 듯한 퀄리티. ...</td>\n",
       "    </tr>\n",
       "    <tr>\n",
       "      <th>15</th>\n",
       "      <td>2</td>\n",
       "      <td>최악의 엑스맨 영화 세계관의 설정오류와 복잡해진 타임라인으로 인해 관객들의 이해를 ...</td>\n",
       "    </tr>\n",
       "    <tr>\n",
       "      <th>16</th>\n",
       "      <td>6</td>\n",
       "      <td>엑스맨시리즈 마지막은 그냥 &lt;로건&gt;이었던걸로 하자</td>\n",
       "    </tr>\n",
       "    <tr>\n",
       "      <th>17</th>\n",
       "      <td>1</td>\n",
       "      <td>전작 안보고 각본썼냐?</td>\n",
       "    </tr>\n",
       "    <tr>\n",
       "      <th>18</th>\n",
       "      <td>10</td>\n",
       "      <td>관람객엑스맨 시리즈는 말할 것도 없이 최고입니다</td>\n",
       "    </tr>\n",
       "    <tr>\n",
       "      <th>19</th>\n",
       "      <td>1</td>\n",
       "      <td>시리즈 마지막이라서 아쉽지 말라고 이렇게 만든건가</td>\n",
       "    </tr>\n",
       "    <tr>\n",
       "      <th>20</th>\n",
       "      <td>1</td>\n",
       "      <td>진짜 10점주는 댓글알바 믿지마셈...역대 최악의 엑스맨.</td>\n",
       "    </tr>\n",
       "    <tr>\n",
       "      <th>21</th>\n",
       "      <td>4</td>\n",
       "      <td>개실망. 예전의 x맨은 없음.너무 재미없었음. 난 어벤쟈스 보다 x,맨을 더 좋아했...</td>\n",
       "    </tr>\n",
       "    <tr>\n",
       "      <th>22</th>\n",
       "      <td>10</td>\n",
       "      <td>Lotte시네마 영주점 6월 5일 수요일 오전 9시30분전세계 최초개봉 합니다.</td>\n",
       "    </tr>\n",
       "    <tr>\n",
       "      <th>23</th>\n",
       "      <td>10</td>\n",
       "      <td>리멤버 엑스맨, 잊지 않을게!</td>\n",
       "    </tr>\n",
       "    <tr>\n",
       "      <th>24</th>\n",
       "      <td>4</td>\n",
       "      <td>로튼 토마토 17%라는 수치가 말을 해주고 있습니다.</td>\n",
       "    </tr>\n",
       "    <tr>\n",
       "      <th>25</th>\n",
       "      <td>1</td>\n",
       "      <td>직접 보고와서 쓴다. ㅅ십점 준 놈들은 그냥 영화 안본 놈들이다.</td>\n",
       "    </tr>\n",
       "    <tr>\n",
       "      <th>26</th>\n",
       "      <td>1</td>\n",
       "      <td>스토리연개성 최악인데 분노 분노 분노 끝</td>\n",
       "    </tr>\n",
       "    <tr>\n",
       "      <th>27</th>\n",
       "      <td>3</td>\n",
       "      <td>아포칼립스조차 없는 아포칼립스.. 울버린 없는 엑스맨3</td>\n",
       "    </tr>\n",
       "    <tr>\n",
       "      <th>28</th>\n",
       "      <td>1</td>\n",
       "      <td>평점 보다보니 진짜 화나네.... 마무리 최악임; 세계관 타임라인 붕괴시키고 감정선...</td>\n",
       "    </tr>\n",
       "    <tr>\n",
       "      <th>29</th>\n",
       "      <td>2</td>\n",
       "      <td>너무 연관성 없고 연기도 서툴고 한마디로 너무 재미없었습니다</td>\n",
       "    </tr>\n",
       "    <tr>\n",
       "      <th>...</th>\n",
       "      <td>...</td>\n",
       "      <td>...</td>\n",
       "    </tr>\n",
       "    <tr>\n",
       "      <th>970</th>\n",
       "      <td>10</td>\n",
       "      <td>뮤턴트앤프라우드ㅠㅠ</td>\n",
       "    </tr>\n",
       "    <tr>\n",
       "      <th>971</th>\n",
       "      <td>8</td>\n",
       "      <td>캐릭터들 감정선도 부족하고 그에 따라 스토리도 부족하고 남는건 전투뿐.. 화려했지만...</td>\n",
       "    </tr>\n",
       "    <tr>\n",
       "      <th>972</th>\n",
       "      <td>8</td>\n",
       "      <td>산사 스타크가... 젤나가다</td>\n",
       "    </tr>\n",
       "    <tr>\n",
       "      <th>973</th>\n",
       "      <td>8</td>\n",
       "      <td>영상미는 힘 빡줘서 신경썼는데 스토리개연성은...</td>\n",
       "    </tr>\n",
       "    <tr>\n",
       "      <th>974</th>\n",
       "      <td>7</td>\n",
       "      <td>스토리가 뭔가 아쉽네여 그래도 눈요기는 잘되는 영화 ㅎㅎㅎ진 너무 멋짐</td>\n",
       "    </tr>\n",
       "    <tr>\n",
       "      <th>975</th>\n",
       "      <td>10</td>\n",
       "      <td>피닉스포스야 영원하라</td>\n",
       "    </tr>\n",
       "    <tr>\n",
       "      <th>976</th>\n",
       "      <td>5</td>\n",
       "      <td>엑스맨을 좋아하는 사람으로써 이번영화는 실망감이 컸다.</td>\n",
       "    </tr>\n",
       "    <tr>\n",
       "      <th>977</th>\n",
       "      <td>2</td>\n",
       "      <td>나만 노잼인게 아니였구나ㅋㅋㅋ</td>\n",
       "    </tr>\n",
       "    <tr>\n",
       "      <th>978</th>\n",
       "      <td>10</td>\n",
       "      <td>진짜 마지막?.. 어벤져스보다 엑스맨 좋아했는데..ㅜ</td>\n",
       "    </tr>\n",
       "    <tr>\n",
       "      <th>979</th>\n",
       "      <td>2</td>\n",
       "      <td>실망의 실망의 실망을 금치 못함 망작이 되어버림</td>\n",
       "    </tr>\n",
       "    <tr>\n",
       "      <th>980</th>\n",
       "      <td>8</td>\n",
       "      <td>좀 많이아쉽다. 닭복동이라는 찬사가 아깝지 않은 영화다. 개인적으로는 삼계탕 한그릇...</td>\n",
       "    </tr>\n",
       "    <tr>\n",
       "      <th>981</th>\n",
       "      <td>8</td>\n",
       "      <td>엑스맨 매니아로서 마음같아선 10점 주고 싶지만 객관적으로 10점 영화는 아님......</td>\n",
       "    </tr>\n",
       "    <tr>\n",
       "      <th>982</th>\n",
       "      <td>1</td>\n",
       "      <td>엑스맨시리즈는마블영화처럼 오락성이없음  돌연변이의 심오함까지는 좋으나 코믹스랑비교하...</td>\n",
       "    </tr>\n",
       "    <tr>\n",
       "      <th>983</th>\n",
       "      <td>10</td>\n",
       "      <td>아쉽긴 하다 아쉬워 아 근데 다음 이야기 어떻게 함?</td>\n",
       "    </tr>\n",
       "    <tr>\n",
       "      <th>984</th>\n",
       "      <td>7</td>\n",
       "      <td>우주적인 존재의 소소한이야기시리즈 마지막이라기에는 아쉬운 내용</td>\n",
       "    </tr>\n",
       "    <tr>\n",
       "      <th>985</th>\n",
       "      <td>8</td>\n",
       "      <td>트롤하고 탈주하는 주인공</td>\n",
       "    </tr>\n",
       "    <tr>\n",
       "      <th>986</th>\n",
       "      <td>7</td>\n",
       "      <td>화려한 눈요기 , 개연성은 글쎄 ㅠ</td>\n",
       "    </tr>\n",
       "    <tr>\n",
       "      <th>987</th>\n",
       "      <td>8</td>\n",
       "      <td>마무리가 좀 아쉽긴 하지만 그럴 수 밖에 없는 소재였던것 같다. 나름 재미있었고 마...</td>\n",
       "    </tr>\n",
       "    <tr>\n",
       "      <th>988</th>\n",
       "      <td>9</td>\n",
       "      <td>와 역시 헐리우드 특수효과</td>\n",
       "    </tr>\n",
       "    <tr>\n",
       "      <th>989</th>\n",
       "      <td>8</td>\n",
       "      <td>괜찮긴한데 다소 아쉬운 점도 있었구요</td>\n",
       "    </tr>\n",
       "    <tr>\n",
       "      <th>990</th>\n",
       "      <td>10</td>\n",
       "      <td>마지막 시리즈라서 아쉬운.. ㅠㅠㅠㅠ</td>\n",
       "    </tr>\n",
       "    <tr>\n",
       "      <th>991</th>\n",
       "      <td>10</td>\n",
       "      <td>관람객진짜 역대급이에요♡♡</td>\n",
       "    </tr>\n",
       "    <tr>\n",
       "      <th>992</th>\n",
       "      <td>10</td>\n",
       "      <td>관람객재미보다는 감동이었다.. 사랑해요 엑스맨</td>\n",
       "    </tr>\n",
       "    <tr>\n",
       "      <th>993</th>\n",
       "      <td>10</td>\n",
       "      <td>이대로 보내긴 너무 슬퍼요..</td>\n",
       "    </tr>\n",
       "    <tr>\n",
       "      <th>994</th>\n",
       "      <td>10</td>\n",
       "      <td>모든 캐릭터들이 다 멋있었다</td>\n",
       "    </tr>\n",
       "    <tr>\n",
       "      <th>995</th>\n",
       "      <td>10</td>\n",
       "      <td>관람객정말 볼거리도 많고 재미있었습니다^^</td>\n",
       "    </tr>\n",
       "    <tr>\n",
       "      <th>996</th>\n",
       "      <td>10</td>\n",
       "      <td>긴시간동안 지루하지않고 재미있었어요</td>\n",
       "    </tr>\n",
       "    <tr>\n",
       "      <th>997</th>\n",
       "      <td>9</td>\n",
       "      <td>시간이너무빨리갔어요꿀잼</td>\n",
       "    </tr>\n",
       "    <tr>\n",
       "      <th>998</th>\n",
       "      <td>10</td>\n",
       "      <td>좋았어요, 누가뭐래도 엑스맨 포에버</td>\n",
       "    </tr>\n",
       "    <tr>\n",
       "      <th>999</th>\n",
       "      <td>8</td>\n",
       "      <td>영화만으로 보면 괜찮은? 뭐 그런데 시리즈 전체로 보면 말이 안되잖아?? 과거에 이...</td>\n",
       "    </tr>\n",
       "  </tbody>\n",
       "</table>\n",
       "<p>1000 rows × 2 columns</p>\n",
       "</div>"
      ],
      "text/plain": [
       "    star_score                                             review\n",
       "0            7  데오퓨 미래에서 분명히 진 살아있고 찰스는 교수자리 앉아있었는데 그럼 진은 우주에서...\n",
       "1           10         근데 솔까 타노스보다 더 쎈게 피닉스포스인데 한편으로 끝내는게 좀 그렇네  \n",
       "2           10          데오퓨로 살려놨더니 아포칼립스로 관짝에 못박고 이번으로 부관참시까지..  \n",
       "3           10                                관람객뭔가 아쉬운 영화  ㅋㅋㅋ  \n",
       "4           10  오후에 개봉하는거 담합하는거냐? 아니면 기생충 밀어주려고 일부러 오후에 개봉하는거냐...\n",
       "5            8  마무리로서는 아쉬운 면이 있지만 그래도 아포칼립스보다는 많이 괜찮아진 느낌 그리고 ...\n",
       "6           10               스케일은 확실히 엄청나긴하다.. 다만 좀 아쉬운게 꽤있긴함..  \n",
       "7            2                             나의 엑스맨은 로건에서 끝났다....  \n",
       "8            7  각오하고 보니까 의외로 재미는 있다. 스핀오프라 치면 진 그레이도 되게 멋지고 이뻐...\n",
       "9           10                                 패스벤더 보는걸로 일단 10점  \n",
       "10           8  상영시간이 짧은 건 초반 우주선씬을 생략한 것 같고 억지도 있지만 지루하진 않았다....\n",
       "11           4                      나의 엑스맨을... 이따위로 끝내다니.. 하...  \n",
       "12          10                              마지막인게 아쉽지만 너무 좋았다..  \n",
       "13          10                                    마지막인데 봐줘야지 ~~  \n",
       "14           1  살면서 댓글 처음 달아본다. 지금까지 엑스맨 시리즈를 전부 부정하는 듯한 퀄리티. ...\n",
       "15           2  최악의 엑스맨 영화 세계관의 설정오류와 복잡해진 타임라인으로 인해 관객들의 이해를 ...\n",
       "16           6                      엑스맨시리즈 마지막은 그냥 <로건>이었던걸로 하자  \n",
       "17           1                                     전작 안보고 각본썼냐?  \n",
       "18          10                       관람객엑스맨 시리즈는 말할 것도 없이 최고입니다  \n",
       "19           1                      시리즈 마지막이라서 아쉽지 말라고 이렇게 만든건가  \n",
       "20           1                 진짜 10점주는 댓글알바 믿지마셈...역대 최악의 엑스맨.  \n",
       "21           4  개실망. 예전의 x맨은 없음.너무 재미없었음. 난 어벤쟈스 보다 x,맨을 더 좋아했...\n",
       "22          10     Lotte시네마 영주점 6월 5일 수요일 오전 9시30분전세계 최초개봉 합니다.  \n",
       "23          10                                 리멤버 엑스맨, 잊지 않을게!  \n",
       "24           4                    로튼 토마토 17%라는 수치가 말을 해주고 있습니다.  \n",
       "25           1             직접 보고와서 쓴다. ㅅ십점 준 놈들은 그냥 영화 안본 놈들이다.  \n",
       "26           1                           스토리연개성 최악인데 분노 분노 분노 끝  \n",
       "27           3                   아포칼립스조차 없는 아포칼립스.. 울버린 없는 엑스맨3  \n",
       "28           1  평점 보다보니 진짜 화나네.... 마무리 최악임; 세계관 타임라인 붕괴시키고 감정선...\n",
       "29           2                너무 연관성 없고 연기도 서툴고 한마디로 너무 재미없었습니다  \n",
       "..         ...                                                ...\n",
       "970         10                                       뮤턴트앤프라우드ㅠㅠ  \n",
       "971          8  캐릭터들 감정선도 부족하고 그에 따라 스토리도 부족하고 남는건 전투뿐.. 화려했지만...\n",
       "972          8                                  산사 스타크가... 젤나가다  \n",
       "973          8                      영상미는 힘 빡줘서 신경썼는데 스토리개연성은...  \n",
       "974          7          스토리가 뭔가 아쉽네여 그래도 눈요기는 잘되는 영화 ㅎㅎㅎ진 너무 멋짐  \n",
       "975         10                                      피닉스포스야 영원하라  \n",
       "976          5                   엑스맨을 좋아하는 사람으로써 이번영화는 실망감이 컸다.  \n",
       "977          2                                 나만 노잼인게 아니였구나ㅋㅋㅋ  \n",
       "978         10                    진짜 마지막?.. 어벤져스보다 엑스맨 좋아했는데..ㅜ  \n",
       "979          2                       실망의 실망의 실망을 금치 못함 망작이 되어버림  \n",
       "980          8  좀 많이아쉽다. 닭복동이라는 찬사가 아깝지 않은 영화다. 개인적으로는 삼계탕 한그릇...\n",
       "981          8  엑스맨 매니아로서 마음같아선 10점 주고 싶지만 객관적으로 10점 영화는 아님......\n",
       "982          1  엑스맨시리즈는마블영화처럼 오락성이없음  돌연변이의 심오함까지는 좋으나 코믹스랑비교하...\n",
       "983         10                    아쉽긴 하다 아쉬워 아 근데 다음 이야기 어떻게 함?  \n",
       "984          7               우주적인 존재의 소소한이야기시리즈 마지막이라기에는 아쉬운 내용  \n",
       "985          8                                    트롤하고 탈주하는 주인공  \n",
       "986          7                              화려한 눈요기 , 개연성은 글쎄 ㅠ  \n",
       "987          8  마무리가 좀 아쉽긴 하지만 그럴 수 밖에 없는 소재였던것 같다. 나름 재미있었고 마...\n",
       "988          9                                   와 역시 헐리우드 특수효과  \n",
       "989          8                             괜찮긴한데 다소 아쉬운 점도 있었구요  \n",
       "990         10                             마지막 시리즈라서 아쉬운.. ㅠㅠㅠㅠ  \n",
       "991         10                                   관람객진짜 역대급이에요♡♡  \n",
       "992         10                        관람객재미보다는 감동이었다.. 사랑해요 엑스맨  \n",
       "993         10                                 이대로 보내긴 너무 슬퍼요..  \n",
       "994         10                                  모든 캐릭터들이 다 멋있었다  \n",
       "995         10                          관람객정말 볼거리도 많고 재미있었습니다^^  \n",
       "996         10                              긴시간동안 지루하지않고 재미있었어요  \n",
       "997          9                                     시간이너무빨리갔어요꿀잼  \n",
       "998         10                              좋았어요, 누가뭐래도 엑스맨 포에버  \n",
       "999          8  영화만으로 보면 괜찮은? 뭐 그런데 시리즈 전체로 보면 말이 안되잖아?? 과거에 이...\n",
       "\n",
       "[1000 rows x 2 columns]"
      ]
     },
     "execution_count": 131,
     "metadata": {},
     "output_type": "execute_result"
    }
   ],
   "source": [
    "naver_movie"
   ]
  },
  {
   "cell_type": "code",
   "execution_count": 159,
   "metadata": {},
   "outputs": [],
   "source": [
    "naver_movie['star_score'] = naver_movie['star_score'].astype('float32')"
   ]
  },
  {
   "cell_type": "code",
   "execution_count": 144,
   "metadata": {
    "scrolled": true
   },
   "outputs": [],
   "source": [
    "star_score_ls = naver_movie['star_score'].tolist()"
   ]
  },
  {
   "cell_type": "code",
   "execution_count": 150,
   "metadata": {},
   "outputs": [
    {
     "data": {
      "image/png": "[encoded data removed]",
      "text/plain": [
       "<Figure size 432x288 with 1 Axes>"
      ]
     },
     "metadata": {},
     "output_type": "display_data"
    }
   ],
   "source": [
    "#import matplotlib as mpl\n",
    "#별점별 비중 확인 ->10점이 많긴 함\n",
    "plt.style.use('ggplot') #ggplot스타일 사용\n",
    "\n",
    "import matplotlib.pylab as plt\n",
    "\n",
    "plt.hist(star_score_ls, bins=10, rwidth = 0.8)\n",
    "plt.xlabel('star_score', fontsize = 14)\n",
    "plt.xticks(fontsize = 14)\n",
    "plt.yticks(fontsize = 14)\n",
    "plt.grid()"
   ]
  },
  {
   "cell_type": "code",
   "execution_count": 181,
   "metadata": {},
   "outputs": [],
   "source": [
    "#별점이 7점 이상인 경우에는 긍정인 리뷰 7점보다 낮으면 부정의 리뷰라고 생각한다.\n",
    "def star_score_evaluate(starscore):\n",
    "    if starscore >= 7:\n",
    "        return 1\n",
    "    else:\n",
    "        return 0"
   ]
  },
  {
   "cell_type": "code",
   "execution_count": 182,
   "metadata": {},
   "outputs": [],
   "source": [
    "naver_movie['NP'] = naver_movie['star_score'].apply(star_score_evaluate)"
   ]
  },
  {
   "cell_type": "code",
   "execution_count": 183,
   "metadata": {},
   "outputs": [
    {
     "data": {
      "text/plain": [
       "0.586"
      ]
     },
     "execution_count": 183,
     "metadata": {},
     "output_type": "execute_result"
    }
   ],
   "source": [
    "len(naver_movie[naver_movie['NP']==1])/len(naver_movie)"
   ]
  },
  {
   "cell_type": "code",
   "execution_count": 165,
   "metadata": {},
   "outputs": [],
   "source": [
    "def predict_pos_text2(text):\n",
    "    token = tokenizing(text) #okt.pos로 토큰화한 단어를 정리\n",
    "    tf =term_frequency(token)#토큰화된 단어를 이용해서 가장 많이 등장하는 단어와의 빈도수 체크\n",
    "    data = np.expand_dims(np.asarray(tf).astype('float32'), axis=0)\n",
    "    #np.expand_dims?? \n",
    "    score = float(model.predict(data)) #새로운 데이터를 받으면 결과 예측해줌\n",
    "    if(score > 0.5):\n",
    "        return 1\n",
    "    else:\n",
    "        return 2"
   ]
  },
  {
   "cell_type": "code",
   "execution_count": 168,
   "metadata": {},
   "outputs": [],
   "source": [
    "test_ls = []\n",
    "for i in range(len(naver_movie)):\n",
    "    test_ls.append(predict_pos_text2(naver_movie['review'].iloc[i]))"
   ]
  },
  {
   "cell_type": "code",
   "execution_count": 173,
   "metadata": {},
   "outputs": [],
   "source": [
    "test_ls2 = []\n",
    "for i in range(len(test_ls)):\n",
    "    test_ls2.append(2-test_ls[i])"
   ]
  },
  {
   "cell_type": "code",
   "execution_count": 177,
   "metadata": {},
   "outputs": [
    {
     "data": {
      "text/plain": [
       "0.58799999999999997"
      ]
     },
     "execution_count": 177,
     "metadata": {},
     "output_type": "execute_result"
    }
   ],
   "source": [
    "np.sum(test_ls2)/len(test_ls2)"
   ]
  },
  {
   "cell_type": "code",
   "execution_count": 184,
   "metadata": {},
   "outputs": [],
   "source": [
    "naver_movie['pred'] = test_ls2"
   ]
  },
  {
   "cell_type": "markdown",
   "metadata": {},
   "source": [
    "### 검증을 위한 최종 데이터"
   ]
  },
  {
   "cell_type": "code",
   "execution_count": 190,
   "metadata": {
    "scrolled": true
   },
   "outputs": [
    {
     "data": {
      "text/html": [
       "<div>\n",
       "<style scoped>\n",
       "    .dataframe tbody tr th:only-of-type {\n",
       "        vertical-align: middle;\n",
       "    }\n",
       "\n",
       "    .dataframe tbody tr th {\n",
       "        vertical-align: top;\n",
       "    }\n",
       "\n",
       "    .dataframe thead th {\n",
       "        text-align: right;\n",
       "    }\n",
       "</style>\n",
       "<table border=\"1\" class=\"dataframe\">\n",
       "  <thead>\n",
       "    <tr style=\"text-align: right;\">\n",
       "      <th></th>\n",
       "      <th>star_score</th>\n",
       "      <th>review</th>\n",
       "      <th>NP</th>\n",
       "      <th>pred</th>\n",
       "    </tr>\n",
       "  </thead>\n",
       "  <tbody>\n",
       "    <tr>\n",
       "      <th>0</th>\n",
       "      <td>7.0</td>\n",
       "      <td>데오퓨 미래에서 분명히 진 살아있고 찰스는 교수자리 앉아있었는데 그럼 진은 우주에서...</td>\n",
       "      <td>1</td>\n",
       "      <td>1</td>\n",
       "    </tr>\n",
       "    <tr>\n",
       "      <th>1</th>\n",
       "      <td>10.0</td>\n",
       "      <td>근데 솔까 타노스보다 더 쎈게 피닉스포스인데 한편으로 끝내는게 좀 그렇네</td>\n",
       "      <td>1</td>\n",
       "      <td>0</td>\n",
       "    </tr>\n",
       "    <tr>\n",
       "      <th>2</th>\n",
       "      <td>10.0</td>\n",
       "      <td>데오퓨로 살려놨더니 아포칼립스로 관짝에 못박고 이번으로 부관참시까지..</td>\n",
       "      <td>1</td>\n",
       "      <td>0</td>\n",
       "    </tr>\n",
       "    <tr>\n",
       "      <th>3</th>\n",
       "      <td>10.0</td>\n",
       "      <td>관람객뭔가 아쉬운 영화  ㅋㅋㅋ</td>\n",
       "      <td>1</td>\n",
       "      <td>0</td>\n",
       "    </tr>\n",
       "    <tr>\n",
       "      <th>4</th>\n",
       "      <td>10.0</td>\n",
       "      <td>오후에 개봉하는거 담합하는거냐? 아니면 기생충 밀어주려고 일부러 오후에 개봉하는거냐...</td>\n",
       "      <td>1</td>\n",
       "      <td>0</td>\n",
       "    </tr>\n",
       "    <tr>\n",
       "      <th>5</th>\n",
       "      <td>8.0</td>\n",
       "      <td>마무리로서는 아쉬운 면이 있지만 그래도 아포칼립스보다는 많이 괜찮아진 느낌 그리고 ...</td>\n",
       "      <td>1</td>\n",
       "      <td>1</td>\n",
       "    </tr>\n",
       "    <tr>\n",
       "      <th>6</th>\n",
       "      <td>10.0</td>\n",
       "      <td>스케일은 확실히 엄청나긴하다.. 다만 좀 아쉬운게 꽤있긴함..</td>\n",
       "      <td>1</td>\n",
       "      <td>1</td>\n",
       "    </tr>\n",
       "    <tr>\n",
       "      <th>7</th>\n",
       "      <td>2.0</td>\n",
       "      <td>나의 엑스맨은 로건에서 끝났다....</td>\n",
       "      <td>0</td>\n",
       "      <td>1</td>\n",
       "    </tr>\n",
       "    <tr>\n",
       "      <th>8</th>\n",
       "      <td>7.0</td>\n",
       "      <td>각오하고 보니까 의외로 재미는 있다. 스핀오프라 치면 진 그레이도 되게 멋지고 이뻐...</td>\n",
       "      <td>1</td>\n",
       "      <td>1</td>\n",
       "    </tr>\n",
       "    <tr>\n",
       "      <th>9</th>\n",
       "      <td>10.0</td>\n",
       "      <td>패스벤더 보는걸로 일단 10점</td>\n",
       "      <td>1</td>\n",
       "      <td>1</td>\n",
       "    </tr>\n",
       "    <tr>\n",
       "      <th>10</th>\n",
       "      <td>8.0</td>\n",
       "      <td>상영시간이 짧은 건 초반 우주선씬을 생략한 것 같고 억지도 있지만 지루하진 않았다....</td>\n",
       "      <td>1</td>\n",
       "      <td>0</td>\n",
       "    </tr>\n",
       "    <tr>\n",
       "      <th>11</th>\n",
       "      <td>4.0</td>\n",
       "      <td>나의 엑스맨을... 이따위로 끝내다니.. 하...</td>\n",
       "      <td>0</td>\n",
       "      <td>0</td>\n",
       "    </tr>\n",
       "    <tr>\n",
       "      <th>12</th>\n",
       "      <td>10.0</td>\n",
       "      <td>마지막인게 아쉽지만 너무 좋았다..</td>\n",
       "      <td>1</td>\n",
       "      <td>1</td>\n",
       "    </tr>\n",
       "    <tr>\n",
       "      <th>13</th>\n",
       "      <td>10.0</td>\n",
       "      <td>마지막인데 봐줘야지 ~~</td>\n",
       "      <td>1</td>\n",
       "      <td>1</td>\n",
       "    </tr>\n",
       "    <tr>\n",
       "      <th>14</th>\n",
       "      <td>1.0</td>\n",
       "      <td>살면서 댓글 처음 달아본다. 지금까지 엑스맨 시리즈를 전부 부정하는 듯한 퀄리티. ...</td>\n",
       "      <td>0</td>\n",
       "      <td>1</td>\n",
       "    </tr>\n",
       "    <tr>\n",
       "      <th>15</th>\n",
       "      <td>2.0</td>\n",
       "      <td>최악의 엑스맨 영화 세계관의 설정오류와 복잡해진 타임라인으로 인해 관객들의 이해를 ...</td>\n",
       "      <td>0</td>\n",
       "      <td>0</td>\n",
       "    </tr>\n",
       "    <tr>\n",
       "      <th>16</th>\n",
       "      <td>6.0</td>\n",
       "      <td>엑스맨시리즈 마지막은 그냥 &lt;로건&gt;이었던걸로 하자</td>\n",
       "      <td>0</td>\n",
       "      <td>1</td>\n",
       "    </tr>\n",
       "    <tr>\n",
       "      <th>17</th>\n",
       "      <td>1.0</td>\n",
       "      <td>전작 안보고 각본썼냐?</td>\n",
       "      <td>0</td>\n",
       "      <td>0</td>\n",
       "    </tr>\n",
       "    <tr>\n",
       "      <th>18</th>\n",
       "      <td>10.0</td>\n",
       "      <td>관람객엑스맨 시리즈는 말할 것도 없이 최고입니다</td>\n",
       "      <td>1</td>\n",
       "      <td>1</td>\n",
       "    </tr>\n",
       "    <tr>\n",
       "      <th>19</th>\n",
       "      <td>1.0</td>\n",
       "      <td>시리즈 마지막이라서 아쉽지 말라고 이렇게 만든건가</td>\n",
       "      <td>0</td>\n",
       "      <td>1</td>\n",
       "    </tr>\n",
       "    <tr>\n",
       "      <th>20</th>\n",
       "      <td>1.0</td>\n",
       "      <td>진짜 10점주는 댓글알바 믿지마셈...역대 최악의 엑스맨.</td>\n",
       "      <td>0</td>\n",
       "      <td>0</td>\n",
       "    </tr>\n",
       "    <tr>\n",
       "      <th>21</th>\n",
       "      <td>4.0</td>\n",
       "      <td>개실망. 예전의 x맨은 없음.너무 재미없었음. 난 어벤쟈스 보다 x,맨을 더 좋아했...</td>\n",
       "      <td>0</td>\n",
       "      <td>0</td>\n",
       "    </tr>\n",
       "    <tr>\n",
       "      <th>22</th>\n",
       "      <td>10.0</td>\n",
       "      <td>Lotte시네마 영주점 6월 5일 수요일 오전 9시30분전세계 최초개봉 합니다.</td>\n",
       "      <td>1</td>\n",
       "      <td>1</td>\n",
       "    </tr>\n",
       "    <tr>\n",
       "      <th>23</th>\n",
       "      <td>10.0</td>\n",
       "      <td>리멤버 엑스맨, 잊지 않을게!</td>\n",
       "      <td>1</td>\n",
       "      <td>1</td>\n",
       "    </tr>\n",
       "    <tr>\n",
       "      <th>24</th>\n",
       "      <td>4.0</td>\n",
       "      <td>로튼 토마토 17%라는 수치가 말을 해주고 있습니다.</td>\n",
       "      <td>0</td>\n",
       "      <td>1</td>\n",
       "    </tr>\n",
       "    <tr>\n",
       "      <th>25</th>\n",
       "      <td>1.0</td>\n",
       "      <td>직접 보고와서 쓴다. ㅅ십점 준 놈들은 그냥 영화 안본 놈들이다.</td>\n",
       "      <td>0</td>\n",
       "      <td>1</td>\n",
       "    </tr>\n",
       "    <tr>\n",
       "      <th>26</th>\n",
       "      <td>1.0</td>\n",
       "      <td>스토리연개성 최악인데 분노 분노 분노 끝</td>\n",
       "      <td>0</td>\n",
       "      <td>0</td>\n",
       "    </tr>\n",
       "    <tr>\n",
       "      <th>27</th>\n",
       "      <td>3.0</td>\n",
       "      <td>아포칼립스조차 없는 아포칼립스.. 울버린 없는 엑스맨3</td>\n",
       "      <td>0</td>\n",
       "      <td>0</td>\n",
       "    </tr>\n",
       "    <tr>\n",
       "      <th>28</th>\n",
       "      <td>1.0</td>\n",
       "      <td>평점 보다보니 진짜 화나네.... 마무리 최악임; 세계관 타임라인 붕괴시키고 감정선...</td>\n",
       "      <td>0</td>\n",
       "      <td>0</td>\n",
       "    </tr>\n",
       "    <tr>\n",
       "      <th>29</th>\n",
       "      <td>2.0</td>\n",
       "      <td>너무 연관성 없고 연기도 서툴고 한마디로 너무 재미없었습니다</td>\n",
       "      <td>0</td>\n",
       "      <td>0</td>\n",
       "    </tr>\n",
       "    <tr>\n",
       "      <th>...</th>\n",
       "      <td>...</td>\n",
       "      <td>...</td>\n",
       "      <td>...</td>\n",
       "      <td>...</td>\n",
       "    </tr>\n",
       "    <tr>\n",
       "      <th>970</th>\n",
       "      <td>10.0</td>\n",
       "      <td>뮤턴트앤프라우드ㅠㅠ</td>\n",
       "      <td>1</td>\n",
       "      <td>1</td>\n",
       "    </tr>\n",
       "    <tr>\n",
       "      <th>971</th>\n",
       "      <td>8.0</td>\n",
       "      <td>캐릭터들 감정선도 부족하고 그에 따라 스토리도 부족하고 남는건 전투뿐.. 화려했지만...</td>\n",
       "      <td>1</td>\n",
       "      <td>0</td>\n",
       "    </tr>\n",
       "    <tr>\n",
       "      <th>972</th>\n",
       "      <td>8.0</td>\n",
       "      <td>산사 스타크가... 젤나가다</td>\n",
       "      <td>1</td>\n",
       "      <td>1</td>\n",
       "    </tr>\n",
       "    <tr>\n",
       "      <th>973</th>\n",
       "      <td>8.0</td>\n",
       "      <td>영상미는 힘 빡줘서 신경썼는데 스토리개연성은...</td>\n",
       "      <td>1</td>\n",
       "      <td>0</td>\n",
       "    </tr>\n",
       "    <tr>\n",
       "      <th>974</th>\n",
       "      <td>7.0</td>\n",
       "      <td>스토리가 뭔가 아쉽네여 그래도 눈요기는 잘되는 영화 ㅎㅎㅎ진 너무 멋짐</td>\n",
       "      <td>1</td>\n",
       "      <td>1</td>\n",
       "    </tr>\n",
       "    <tr>\n",
       "      <th>975</th>\n",
       "      <td>10.0</td>\n",
       "      <td>피닉스포스야 영원하라</td>\n",
       "      <td>1</td>\n",
       "      <td>1</td>\n",
       "    </tr>\n",
       "    <tr>\n",
       "      <th>976</th>\n",
       "      <td>5.0</td>\n",
       "      <td>엑스맨을 좋아하는 사람으로써 이번영화는 실망감이 컸다.</td>\n",
       "      <td>0</td>\n",
       "      <td>0</td>\n",
       "    </tr>\n",
       "    <tr>\n",
       "      <th>977</th>\n",
       "      <td>2.0</td>\n",
       "      <td>나만 노잼인게 아니였구나ㅋㅋㅋ</td>\n",
       "      <td>0</td>\n",
       "      <td>0</td>\n",
       "    </tr>\n",
       "    <tr>\n",
       "      <th>978</th>\n",
       "      <td>10.0</td>\n",
       "      <td>진짜 마지막?.. 어벤져스보다 엑스맨 좋아했는데..ㅜ</td>\n",
       "      <td>1</td>\n",
       "      <td>1</td>\n",
       "    </tr>\n",
       "    <tr>\n",
       "      <th>979</th>\n",
       "      <td>2.0</td>\n",
       "      <td>실망의 실망의 실망을 금치 못함 망작이 되어버림</td>\n",
       "      <td>0</td>\n",
       "      <td>0</td>\n",
       "    </tr>\n",
       "    <tr>\n",
       "      <th>980</th>\n",
       "      <td>8.0</td>\n",
       "      <td>좀 많이아쉽다. 닭복동이라는 찬사가 아깝지 않은 영화다. 개인적으로는 삼계탕 한그릇...</td>\n",
       "      <td>1</td>\n",
       "      <td>1</td>\n",
       "    </tr>\n",
       "    <tr>\n",
       "      <th>981</th>\n",
       "      <td>8.0</td>\n",
       "      <td>엑스맨 매니아로서 마음같아선 10점 주고 싶지만 객관적으로 10점 영화는 아님......</td>\n",
       "      <td>1</td>\n",
       "      <td>1</td>\n",
       "    </tr>\n",
       "    <tr>\n",
       "      <th>982</th>\n",
       "      <td>1.0</td>\n",
       "      <td>엑스맨시리즈는마블영화처럼 오락성이없음  돌연변이의 심오함까지는 좋으나 코믹스랑비교하...</td>\n",
       "      <td>0</td>\n",
       "      <td>1</td>\n",
       "    </tr>\n",
       "    <tr>\n",
       "      <th>983</th>\n",
       "      <td>10.0</td>\n",
       "      <td>아쉽긴 하다 아쉬워 아 근데 다음 이야기 어떻게 함?</td>\n",
       "      <td>1</td>\n",
       "      <td>1</td>\n",
       "    </tr>\n",
       "    <tr>\n",
       "      <th>984</th>\n",
       "      <td>7.0</td>\n",
       "      <td>우주적인 존재의 소소한이야기시리즈 마지막이라기에는 아쉬운 내용</td>\n",
       "      <td>1</td>\n",
       "      <td>1</td>\n",
       "    </tr>\n",
       "    <tr>\n",
       "      <th>985</th>\n",
       "      <td>8.0</td>\n",
       "      <td>트롤하고 탈주하는 주인공</td>\n",
       "      <td>1</td>\n",
       "      <td>0</td>\n",
       "    </tr>\n",
       "    <tr>\n",
       "      <th>986</th>\n",
       "      <td>7.0</td>\n",
       "      <td>화려한 눈요기 , 개연성은 글쎄 ㅠ</td>\n",
       "      <td>1</td>\n",
       "      <td>0</td>\n",
       "    </tr>\n",
       "    <tr>\n",
       "      <th>987</th>\n",
       "      <td>8.0</td>\n",
       "      <td>마무리가 좀 아쉽긴 하지만 그럴 수 밖에 없는 소재였던것 같다. 나름 재미있었고 마...</td>\n",
       "      <td>1</td>\n",
       "      <td>1</td>\n",
       "    </tr>\n",
       "    <tr>\n",
       "      <th>988</th>\n",
       "      <td>9.0</td>\n",
       "      <td>와 역시 헐리우드 특수효과</td>\n",
       "      <td>1</td>\n",
       "      <td>1</td>\n",
       "    </tr>\n",
       "    <tr>\n",
       "      <th>989</th>\n",
       "      <td>8.0</td>\n",
       "      <td>괜찮긴한데 다소 아쉬운 점도 있었구요</td>\n",
       "      <td>1</td>\n",
       "      <td>1</td>\n",
       "    </tr>\n",
       "    <tr>\n",
       "      <th>990</th>\n",
       "      <td>10.0</td>\n",
       "      <td>마지막 시리즈라서 아쉬운.. ㅠㅠㅠㅠ</td>\n",
       "      <td>1</td>\n",
       "      <td>1</td>\n",
       "    </tr>\n",
       "    <tr>\n",
       "      <th>991</th>\n",
       "      <td>10.0</td>\n",
       "      <td>관람객진짜 역대급이에요♡♡</td>\n",
       "      <td>1</td>\n",
       "      <td>1</td>\n",
       "    </tr>\n",
       "    <tr>\n",
       "      <th>992</th>\n",
       "      <td>10.0</td>\n",
       "      <td>관람객재미보다는 감동이었다.. 사랑해요 엑스맨</td>\n",
       "      <td>1</td>\n",
       "      <td>1</td>\n",
       "    </tr>\n",
       "    <tr>\n",
       "      <th>993</th>\n",
       "      <td>10.0</td>\n",
       "      <td>이대로 보내긴 너무 슬퍼요..</td>\n",
       "      <td>1</td>\n",
       "      <td>1</td>\n",
       "    </tr>\n",
       "    <tr>\n",
       "      <th>994</th>\n",
       "      <td>10.0</td>\n",
       "      <td>모든 캐릭터들이 다 멋있었다</td>\n",
       "      <td>1</td>\n",
       "      <td>1</td>\n",
       "    </tr>\n",
       "    <tr>\n",
       "      <th>995</th>\n",
       "      <td>10.0</td>\n",
       "      <td>관람객정말 볼거리도 많고 재미있었습니다^^</td>\n",
       "      <td>1</td>\n",
       "      <td>1</td>\n",
       "    </tr>\n",
       "    <tr>\n",
       "      <th>996</th>\n",
       "      <td>10.0</td>\n",
       "      <td>긴시간동안 지루하지않고 재미있었어요</td>\n",
       "      <td>1</td>\n",
       "      <td>1</td>\n",
       "    </tr>\n",
       "    <tr>\n",
       "      <th>997</th>\n",
       "      <td>9.0</td>\n",
       "      <td>시간이너무빨리갔어요꿀잼</td>\n",
       "      <td>1</td>\n",
       "      <td>1</td>\n",
       "    </tr>\n",
       "    <tr>\n",
       "      <th>998</th>\n",
       "      <td>10.0</td>\n",
       "      <td>좋았어요, 누가뭐래도 엑스맨 포에버</td>\n",
       "      <td>1</td>\n",
       "      <td>1</td>\n",
       "    </tr>\n",
       "    <tr>\n",
       "      <th>999</th>\n",
       "      <td>8.0</td>\n",
       "      <td>영화만으로 보면 괜찮은? 뭐 그런데 시리즈 전체로 보면 말이 안되잖아?? 과거에 이...</td>\n",
       "      <td>1</td>\n",
       "      <td>1</td>\n",
       "    </tr>\n",
       "  </tbody>\n",
       "</table>\n",
       "<p>1000 rows × 4 columns</p>\n",
       "</div>"
      ],
      "text/plain": [
       "     star_score                                             review  NP  pred\n",
       "0           7.0  데오퓨 미래에서 분명히 진 살아있고 찰스는 교수자리 앉아있었는데 그럼 진은 우주에서...   1     1\n",
       "1          10.0         근데 솔까 타노스보다 더 쎈게 피닉스포스인데 한편으로 끝내는게 좀 그렇네     1     0\n",
       "2          10.0          데오퓨로 살려놨더니 아포칼립스로 관짝에 못박고 이번으로 부관참시까지..     1     0\n",
       "3          10.0                                관람객뭔가 아쉬운 영화  ㅋㅋㅋ     1     0\n",
       "4          10.0  오후에 개봉하는거 담합하는거냐? 아니면 기생충 밀어주려고 일부러 오후에 개봉하는거냐...   1     0\n",
       "5           8.0  마무리로서는 아쉬운 면이 있지만 그래도 아포칼립스보다는 많이 괜찮아진 느낌 그리고 ...   1     1\n",
       "6          10.0               스케일은 확실히 엄청나긴하다.. 다만 좀 아쉬운게 꽤있긴함..     1     1\n",
       "7           2.0                             나의 엑스맨은 로건에서 끝났다....     0     1\n",
       "8           7.0  각오하고 보니까 의외로 재미는 있다. 스핀오프라 치면 진 그레이도 되게 멋지고 이뻐...   1     1\n",
       "9          10.0                                 패스벤더 보는걸로 일단 10점     1     1\n",
       "10          8.0  상영시간이 짧은 건 초반 우주선씬을 생략한 것 같고 억지도 있지만 지루하진 않았다....   1     0\n",
       "11          4.0                      나의 엑스맨을... 이따위로 끝내다니.. 하...     0     0\n",
       "12         10.0                              마지막인게 아쉽지만 너무 좋았다..     1     1\n",
       "13         10.0                                    마지막인데 봐줘야지 ~~     1     1\n",
       "14          1.0  살면서 댓글 처음 달아본다. 지금까지 엑스맨 시리즈를 전부 부정하는 듯한 퀄리티. ...   0     1\n",
       "15          2.0  최악의 엑스맨 영화 세계관의 설정오류와 복잡해진 타임라인으로 인해 관객들의 이해를 ...   0     0\n",
       "16          6.0                      엑스맨시리즈 마지막은 그냥 <로건>이었던걸로 하자     0     1\n",
       "17          1.0                                     전작 안보고 각본썼냐?     0     0\n",
       "18         10.0                       관람객엑스맨 시리즈는 말할 것도 없이 최고입니다     1     1\n",
       "19          1.0                      시리즈 마지막이라서 아쉽지 말라고 이렇게 만든건가     0     1\n",
       "20          1.0                 진짜 10점주는 댓글알바 믿지마셈...역대 최악의 엑스맨.     0     0\n",
       "21          4.0  개실망. 예전의 x맨은 없음.너무 재미없었음. 난 어벤쟈스 보다 x,맨을 더 좋아했...   0     0\n",
       "22         10.0     Lotte시네마 영주점 6월 5일 수요일 오전 9시30분전세계 최초개봉 합니다.     1     1\n",
       "23         10.0                                 리멤버 엑스맨, 잊지 않을게!     1     1\n",
       "24          4.0                    로튼 토마토 17%라는 수치가 말을 해주고 있습니다.     0     1\n",
       "25          1.0             직접 보고와서 쓴다. ㅅ십점 준 놈들은 그냥 영화 안본 놈들이다.     0     1\n",
       "26          1.0                           스토리연개성 최악인데 분노 분노 분노 끝     0     0\n",
       "27          3.0                   아포칼립스조차 없는 아포칼립스.. 울버린 없는 엑스맨3     0     0\n",
       "28          1.0  평점 보다보니 진짜 화나네.... 마무리 최악임; 세계관 타임라인 붕괴시키고 감정선...   0     0\n",
       "29          2.0                너무 연관성 없고 연기도 서툴고 한마디로 너무 재미없었습니다     0     0\n",
       "..          ...                                                ...  ..   ...\n",
       "970        10.0                                       뮤턴트앤프라우드ㅠㅠ     1     1\n",
       "971         8.0  캐릭터들 감정선도 부족하고 그에 따라 스토리도 부족하고 남는건 전투뿐.. 화려했지만...   1     0\n",
       "972         8.0                                  산사 스타크가... 젤나가다     1     1\n",
       "973         8.0                      영상미는 힘 빡줘서 신경썼는데 스토리개연성은...     1     0\n",
       "974         7.0          스토리가 뭔가 아쉽네여 그래도 눈요기는 잘되는 영화 ㅎㅎㅎ진 너무 멋짐     1     1\n",
       "975        10.0                                      피닉스포스야 영원하라     1     1\n",
       "976         5.0                   엑스맨을 좋아하는 사람으로써 이번영화는 실망감이 컸다.     0     0\n",
       "977         2.0                                 나만 노잼인게 아니였구나ㅋㅋㅋ     0     0\n",
       "978        10.0                    진짜 마지막?.. 어벤져스보다 엑스맨 좋아했는데..ㅜ     1     1\n",
       "979         2.0                       실망의 실망의 실망을 금치 못함 망작이 되어버림     0     0\n",
       "980         8.0  좀 많이아쉽다. 닭복동이라는 찬사가 아깝지 않은 영화다. 개인적으로는 삼계탕 한그릇...   1     1\n",
       "981         8.0  엑스맨 매니아로서 마음같아선 10점 주고 싶지만 객관적으로 10점 영화는 아님......   1     1\n",
       "982         1.0  엑스맨시리즈는마블영화처럼 오락성이없음  돌연변이의 심오함까지는 좋으나 코믹스랑비교하...   0     1\n",
       "983        10.0                    아쉽긴 하다 아쉬워 아 근데 다음 이야기 어떻게 함?     1     1\n",
       "984         7.0               우주적인 존재의 소소한이야기시리즈 마지막이라기에는 아쉬운 내용     1     1\n",
       "985         8.0                                    트롤하고 탈주하는 주인공     1     0\n",
       "986         7.0                              화려한 눈요기 , 개연성은 글쎄 ㅠ     1     0\n",
       "987         8.0  마무리가 좀 아쉽긴 하지만 그럴 수 밖에 없는 소재였던것 같다. 나름 재미있었고 마...   1     1\n",
       "988         9.0                                   와 역시 헐리우드 특수효과     1     1\n",
       "989         8.0                             괜찮긴한데 다소 아쉬운 점도 있었구요     1     1\n",
       "990        10.0                             마지막 시리즈라서 아쉬운.. ㅠㅠㅠㅠ     1     1\n",
       "991        10.0                                   관람객진짜 역대급이에요♡♡     1     1\n",
       "992        10.0                        관람객재미보다는 감동이었다.. 사랑해요 엑스맨     1     1\n",
       "993        10.0                                 이대로 보내긴 너무 슬퍼요..     1     1\n",
       "994        10.0                                  모든 캐릭터들이 다 멋있었다     1     1\n",
       "995        10.0                          관람객정말 볼거리도 많고 재미있었습니다^^     1     1\n",
       "996        10.0                              긴시간동안 지루하지않고 재미있었어요     1     1\n",
       "997         9.0                                     시간이너무빨리갔어요꿀잼     1     1\n",
       "998        10.0                              좋았어요, 누가뭐래도 엑스맨 포에버     1     1\n",
       "999         8.0  영화만으로 보면 괜찮은? 뭐 그런데 시리즈 전체로 보면 말이 안되잖아?? 과거에 이...   1     1\n",
       "\n",
       "[1000 rows x 4 columns]"
      ]
     },
     "execution_count": 190,
     "metadata": {},
     "output_type": "execute_result"
    }
   ],
   "source": [
    "naver_movie"
   ]
  },
  {
   "cell_type": "code",
   "execution_count": 189,
   "metadata": {
    "scrolled": true
   },
   "outputs": [
    {
     "data": {
      "text/plain": [
       "0.78000000000000003"
      ]
     },
     "execution_count": 189,
     "metadata": {},
     "output_type": "execute_result"
    }
   ],
   "source": [
    "acc=[]\n",
    "for i in range(len(naver_movie)):\n",
    "    if naver_movie['NP'].iloc[i] == naver_movie['pred'].iloc[i]:\n",
    "        acc.append(1)\n",
    "    else:\n",
    "        acc.append(0)\n",
    "        \n",
    "np.sum(acc)/len(acc)"
   ]
  },
  {
   "cell_type": "code",
   "execution_count": 187,
   "metadata": {},
   "outputs": [
    {
     "data": {
      "text/plain": [
       "0.78000000000000003"
      ]
     },
     "execution_count": 187,
     "metadata": {},
     "output_type": "execute_result"
    }
   ],
   "source": [
    "from sklearn.metrics import accuracy_score\n",
    "\n",
    "accuracy_score(naver_movie['NP'].tolist(),naver_movie['pred'].tolist())"
   ]
  },
  {
   "cell_type": "markdown",
   "metadata": {},
   "source": []
  }
 ],
 "metadata": {
  "kernelspec": {
   "display_name": "Python 3",
   "language": "python",
   "name": "python3"
  },
  "language_info": {
   "codemirror_mode": {
    "name": "ipython",
    "version": 3
   },
   "file_extension": ".py",
   "mimetype": "text/x-python",
   "name": "python",
   "nbconvert_exporter": "python",
   "pygments_lexer": "ipython3",
   "version": "3.6.5"
  }
 },
 "nbformat": 4,
 "nbformat_minor": 2
}
