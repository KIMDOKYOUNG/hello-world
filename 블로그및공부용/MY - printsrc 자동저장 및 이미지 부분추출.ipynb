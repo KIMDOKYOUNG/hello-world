{
 "cells": [
  {
   "cell_type": "code",
   "execution_count": 2,
   "metadata": {},
   "outputs": [],
   "source": [
    "from PIL import Image\n",
    "from pytesseract import *\n",
    "import re\n",
    "import cv2"
   ]
  },
  {
   "cell_type": "markdown",
   "metadata": {},
   "source": [
    "# github -> contributors의 printscr\n",
    "#### \"https://www.github.com\" \n",
    "#### github주소에 들어가는 방법은 https://www.github.com/user-이름/플젝이름/graph/contributors"
   ]
  },
  {
   "cell_type": "code",
   "execution_count": 38,
   "metadata": {},
   "outputs": [],
   "source": [
    "#크롤링\n",
    "#print src"
   ]
  },
  {
   "cell_type": "markdown",
   "metadata": {},
   "source": [
    "# 하나의 이미지에서 원하는 좌표영역 추출  \n",
    "#### 최대 4명의 contributors를 뽑을 수 잇으므로 해당 4개의 이미지 좌표만 뽑으면 됨 그리고\n",
    "#### 좌표만 봤을 때 1사분면,2사분면,3사분면,4사분면 각각 함수를 만들면 됨"
   ]
  },
  {
   "cell_type": "code",
   "execution_count": 7,
   "metadata": {},
   "outputs": [],
   "source": [
    "#2사분면 좌표\n",
    "def im_trim (img): #함수로 만든다 \n",
    "    x = 700; y = 360; #자르고 싶은 지점의 x좌표와 y좌표 지정\n",
    "    w = 365; h = 220; #x로부터 width, y로부터 height를 지정 \n",
    "    img_trim = img[y:y+h, x:x+w] #trim한 결과를 img_trim에 담는다 \n",
    "    cv2.imwrite('org_trim.jpg',img_trim) #org_trim.jpg 라는 이름으로 저장하는 코드\n",
    "    return img_trim \n"
   ]
  },
  {
   "cell_type": "code",
   "execution_count": 8,
   "metadata": {},
   "outputs": [],
   "source": [
    "org_image = cv2.imread('test.jpg') #test.jpg 라는 파일을 읽어온다 샘플이미지\n",
    "\n"
   ]
  },
  {
   "cell_type": "code",
   "execution_count": 9,
   "metadata": {},
   "outputs": [],
   "source": [
    "trim_image = im_trim(org_image)"
   ]
  },
  {
   "cell_type": "code",
   "execution_count": null,
   "metadata": {},
   "outputs": [],
   "source": []
  },
  {
   "cell_type": "markdown",
   "metadata": {},
   "source": [
    "# 찾고자하는 사람을 찾기 위한 코드"
   ]
  },
  {
   "cell_type": "code",
   "execution_count": 32,
   "metadata": {},
   "outputs": [],
   "source": [
    "img = Image.open('org_trim.jpg')"
   ]
  },
  {
   "cell_type": "code",
   "execution_count": 35,
   "metadata": {},
   "outputs": [],
   "source": [
    "text = pytesseract.image_to_string(img,lang='eng')"
   ]
  },
  {
   "cell_type": "code",
   "execution_count": 36,
   "metadata": {},
   "outputs": [
    {
     "name": "stdout",
     "output_type": "stream",
     "text": [
      "knonomura *\n",
      "\n",
      "86 commits 182,513 ++ 79,163\n",
      "\n",
      "el\n",
      "\n",
      "‘Apel October April © Ortober April «October Ap\n"
     ]
    }
   ],
   "source": [
    "print(text)"
   ]
  },
  {
   "cell_type": "code",
   "execution_count": null,
   "metadata": {},
   "outputs": [],
   "source": [
    "def 이름찾기(name):\n",
    "    "
   ]
  }
 ],
 "metadata": {
  "kernelspec": {
   "display_name": "Python 3",
   "language": "python",
   "name": "python3"
  },
  "language_info": {
   "codemirror_mode": {
    "name": "ipython",
    "version": 3
   },
   "file_extension": ".py",
   "mimetype": "text/x-python",
   "name": "python",
   "nbconvert_exporter": "python",
   "pygments_lexer": "ipython3",
   "version": "3.6.5"
  }
 },
 "nbformat": 4,
 "nbformat_minor": 2
}
